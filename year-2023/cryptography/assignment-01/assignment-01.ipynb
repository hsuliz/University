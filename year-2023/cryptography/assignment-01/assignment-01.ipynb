{
 "cells": [
  {
   "cell_type": "markdown",
   "metadata": {},
   "source": [
    "# Lista 1 (9 pkt.)"
   ]
  },
  {
   "cell_type": "code",
   "execution_count": 2,
   "metadata": {
    "ExecuteTime": {
     "end_time": "2023-11-01T13:13:34.341673Z",
     "start_time": "2023-11-01T13:13:33.949985Z"
    }
   },
   "outputs": [],
   "source": [
    "import string\n",
    "import math\n",
    "import matplotlib.pyplot as plt"
   ]
  },
  {
   "cell_type": "markdown",
   "metadata": {},
   "source": [
    "## Zadanie 1 (1 pkt.)"
   ]
  },
  {
   "cell_type": "markdown",
   "metadata": {},
   "source": [
    "Zaimplementuj szyfr Cezara. Napisz funkcję **Cezar(tekst, klucz)** tak aby jako argumenty przyjmowała tekst do zaszyfrowania oraz klucz a zwracała zaszyfrowany tekst. Funkcja ta dostając jako argumenty zaszyfrowany tekst oraz **-klucz** (klucz, ktorym zaszyfrowano tekst ze znakiem minus) będzie zwracała odszyfrowany tekst. Funkcja powinna przejść testy, czyli powinna 8 razy zwrócić **True**.\n",
    "\n",
    "Pamiętaj o polskich znakach. Szyfrujemy tylko litery, natomiast cyfry, znaki interpunkcyjne i białe znaki zostają bez zmian. Wielkie litery po zaszyfrowaniu są również wielkie. Użyj poniższego alfabetu."
   ]
  },
  {
   "cell_type": "code",
   "execution_count": 3,
   "metadata": {
    "ExecuteTime": {
     "end_time": "2023-11-01T13:13:34.350545Z",
     "start_time": "2023-11-01T13:13:34.343617Z"
    }
   },
   "outputs": [],
   "source": [
    "alfabet = ['a', 'ą', 'b', 'c', 'ć', 'd', 'e', 'ę', 'f', 'g', 'h', 'i', 'j', 'k', 'l', 'ł', 'm',\n",
    "           'n', 'ń', 'o', 'ó', 'p', 'q', 'r', 's', 'ś', 't', 'u', 'v', 'w', 'x', 'y', 'z', 'ź', 'ż']"
   ]
  },
  {
   "cell_type": "markdown",
   "metadata": {},
   "source": [
    "Przy implementacji mogą być przydatne takie elementy biblioteki string jak: **string.punctuation, string.whitespace, string.digits, upper(), lower(), isupper()**"
   ]
  },
  {
   "cell_type": "code",
   "execution_count": 4,
   "metadata": {
    "ExecuteTime": {
     "end_time": "2023-11-01T13:13:34.359696Z",
     "start_time": "2023-11-01T13:13:34.351280Z"
    }
   },
   "outputs": [],
   "source": [
    "def Cezar(text: str, key: int) -> str:\n",
    "    encoded_text = str()\n",
    "    for current_char in text:\n",
    "        if current_char in string.punctuation or current_char in string.whitespace or current_char in string.digits:\n",
    "            encoded_text += current_char\n",
    "        elif current_char.lower() in alfabet:\n",
    "            current_char_number = alfabet.index(current_char.lower())\n",
    "            if current_char.isupper():\n",
    "                encoded_text += alfabet[(current_char_number + key) % len(alfabet)].upper()\n",
    "                continue\n",
    "            encoded_text += alfabet[(current_char_number + key) % len(alfabet)]\n",
    "    return encoded_text"
   ]
  },
  {
   "cell_type": "code",
   "execution_count": 5,
   "metadata": {
    "ExecuteTime": {
     "end_time": "2023-11-01T13:13:34.377959Z",
     "start_time": "2023-11-01T13:13:34.363612Z"
    }
   },
   "outputs": [
    {
     "name": "stdout",
     "output_type": "stream",
     "text": [
      "True\n",
      "True\n",
      "True\n",
      "True\n",
      "True\n",
      "True\n",
      "True\n",
      "True\n"
     ]
    }
   ],
   "source": [
    "print(Cezar('Ala ma kota.', 3) == 'Cnc oc mqwc.')\n",
    "print(Cezar('Ala ma kota.', 20) == 'Óżó ąó źćió.')\n",
    "print(Cezar('Ala ma 2 koty.', 5) == 'Dod pd 2 ńsyą.')\n",
    "print(\n",
    "    Cezar('Daremne żale, próżny trud,\\nBezsilne złorzeczenia!\\nPrzeżytych kształtów żaden cud\\nNie wróci do istnienia.',\n",
    "          7)\n",
    "    == 'Jęxkrsk eępk, vxuesc źxżj,\\nGkćyńpsk ćqtxćkhćksńę!\\nVxćkecźchn óyćźęqźuą eęjks hżj\\nSńk ąxuhń jt ńyźsńksńę.')\n",
    "print(Cezar('Cnc oc mqwc.', -3) == 'Ala ma kota.')\n",
    "print(Cezar('Óżó ąó źćió.', -20) == 'Ala ma kota.')\n",
    "print(Cezar('Dod pd 2 ńsyą.', -5) == 'Ala ma 2 koty.')\n",
    "print(\n",
    "    Cezar('Jęxkrsk eępk, vxuesc źxżj,\\nGkćyńpsk ćqtxćkhćksńę!\\nVxćkecźchn óyćźęqźuą eęjks hżj\\nSńk ąxuhń jt ńyźsńksńę.',\n",
    "          -7)\n",
    "    == 'Daremne żale, próżny trud,\\nBezsilne złorzeczenia!\\nPrzeżytych kształtów żaden cud\\nNie wróci do istnienia.')"
   ]
  },
  {
   "cell_type": "markdown",
   "metadata": {},
   "source": [
    "## Zadanie 2 (1 pkt.)"
   ]
  },
  {
   "cell_type": "markdown",
   "metadata": {},
   "source": [
    "Wiedząc, że poniższy tekst zaszyfrowano metodą Cezara, odszyfruj go metodą \"brute force\". Co to za cytat?"
   ]
  },
  {
   "cell_type": "code",
   "execution_count": 6,
   "metadata": {
    "ExecuteTime": {
     "end_time": "2023-11-01T13:13:34.378656Z",
     "start_time": "2023-11-01T13:13:34.369962Z"
    }
   },
   "outputs": [],
   "source": [
    "tekst = 'Hćcrek okyź hćęy? Okzpń sńóź rsńk t źt sńk vcźę, ąńkr. Okzpń vcźęofhkrż żyńqżol ącźqżręhćci, sńk ąńkr.'"
   ]
  },
  {
   "cell_type": "code",
   "execution_count": 7,
   "outputs": [
    {
     "name": "stdout",
     "output_type": "stream",
     "text": [
      "1: Hćcrek okyź hćęy? Okzpń sńóź rsńk t źt sńk vcźę, ąńkr. Okzpń vcźęofhkrż żyńqżol ącźqżręhćci, sńk ąńkr.\n",
      "2: Idćsęl ólzż idfz? Ólźqo śopż sśol u żu śol wćżf, bols. Ólźqo wćżfógilsa azoraół bćżrasfidćj, śol bols.\n",
      "3: Jedśfł płźa jegź? Płżró tóqa śtół v av tół xdag, cółś. Płżró xdagphjłśą ąźósąpm cdasąśgjedk, tół cółś.\n",
      "4: Kęetgm qmżą kęhż? Qmasp uprą tupm w ąw upm yeąh, ćpmt. Qmasp yeąhqikmtb bżpśbqn ćeąśbthkęel, upm ćpmt.\n",
      "5: Lfęuhn rnab lfia? Rnąśq vqsb uvqn x bx vqn zębi, dqnu. Rnąśq zębirjlnuc caqtcrń dębtcuilfęł, vqn dqnu.\n",
      "6: Łgfviń sńąc łgją? Sńbtr wrśc vwrń y cy wrń źfcj, erńv. Sńbtr źfcjskłńvć ćąrućso efcućvjłgfm, wrń erńv.\n",
      "7: Mhgwjo śobć mhkb? Śocus xstć wxso z ćz xso żgćk, ęsow. Śocus żgćkślmowd dbsvdśó ęgćvdwkmhgn, xso ęsow.\n",
      "8: Nihxkó tócd nilc? Tóćvś yśud xyśó ź dź yśó ahdl, fśóx. Tóćvś ahdltłnóxe ecśwetp fhdwexlnihń, yśó fśóx.\n",
      "9: Ńjiylp upće ńjłć? Updwt ztve yztp ż eż ztp ąieł, gtpy. Updwt ąiełumńpyę ęćtxęuq giexęyłńjio, ztp gtpy.\n",
      "10: Okjzłq vqdę okmd? Vqexu źuwę zźuq a ęa źuq bjęm, huqz. Vqexu bjęmvnoqzf fduyfvr hjęyfzmokjó, źuq huqz.\n",
      "11: Ólkźmr wref ólne? Wręyv żvxf źżvr ą fą żvr ckfn, ivrź. Wręyv ckfnwńórźg gevzgws ikfzgźnólkp, żvr ivrź.\n",
      "12: Płlżns xsęg płńę? Xsfzw awyg żaws b gb aws ćlgń, jwsż. Xsfzw ćlgńxopsżh hęwźhxś jlgźhżńpłlq, aws jwsż.\n",
      "13: Qmłańś yśfh qmof? Yśgźx ąxzh aąxś c hc ąxś dłho, kxśa. Yśgźx dłhoyóqśai ifxżiyt kłhżiaoqmłr, ąxś kxśa.\n",
      "14: Rnmąot ztgi rnóg? Zthży byźi ąbyt ć ić byt emió, lytą. Zthży emiózprtąj jgyajzu lmiająórnms, byt lytą.\n",
      "15: Sńnbóu źuhj sńph? Źuiaz czżj bczu d jd czu ęnjp, łzub. Źuiaz ęnjpźqsubk khząkźv łnjąkbpsńnś, czu łzub.\n",
      "16: Śońcpv żvik śoqi? Żvjąź ćźak cćźv e ke ćźv fńkq, mźvc. Żvjąź fńkqżrśvcl liźblżw mńkblcqśońt, ćźv mźvc.\n",
      "17: Tóoćqw awjl tórj? Awkbż dżąl ćdżw ę lę dżw golr, nżwć. Awkbż golrastwćł łjżcłax nolcłćrtóou, dżw nżwć.\n",
      "18: Upódrx ąxkł upsk? Ąxlca eabł deax f łf eax hółs, ńaxd. Ąxlca hółsąśuxdm mkaćmąy ńółćmdsupóv, eax ńaxd.\n",
      "19: Vqpesy bylm vqśl? Byłćą ęącm eęąy g mg ęąy ipmś, oąye. Byłćą ipmśbtvyen nlądnbz opmdneśvqpw, ęąy oąye.\n",
      "20: Wrqęśz człn wrtł? Czmdb fbćn ęfbz h nh fbz jqnt, óbzę. Czmdb jqntcuwzęń ńłbeńcź óqneńętwrqx, fbz óbzę.\n",
      "21: Xsrftź ćźmń xsum? Ćźnec gcdń fgcź i ńi gcź krńu, pcźf. Ćźnec krńućvxźfo omcęoćż prńęofuxsry, gcź pcźf.\n",
      "22: Yśsguż dżno yśvn? Dżńęć hćeo ghćż j oj hćż lsov, qćżg. Dżńęć lsovdwyżgó ónćfóda qsofógvyśsz, hćż qćżg.\n",
      "23: Ztśhva eańó ztwń? Eaofd idęó hida k ók ida łśów, rdah. Eaofd łśówexzahp pńdgpeą rśógphwztśź, ida rdah.\n",
      "24: Źutiwą ęąop źuxo? Ęąóge jefp ijeą l pl jeą mtpx, seąi. Ęąóge mtpxęyźąiq qoehqęb stphqixźutż, jeą seąi.\n",
      "25: Żvujxb fbóq żvyó? Fbphę kęgq jkęb ł qł kęb nuqy, śębj. Fbphę nuqyfzżbjr róęirfc śuqirjyżvua, kęb śębj.\n",
      "26: Awvkyc gcpr awzp? Gcqif lfhr klfc m rm lfc ńvrz, tfck. Gcqif ńvrzgźacks spfjsgć tvrjskzawvą, lfc tfck.\n",
      "27: Ąxwlzć hćqs ąxźq? Hćrjg łgis lłgć n sn łgć owsź, ugćl. Hćrjg owsźhżąćlś śqgkśhd uwskślźąxwb, łgć ugćl.\n",
      "28: Byxłźd idrś byżr? Idskh mhjś łmhd ń śń mhd óxśż, vhdł. Idskh óxśżiabdłt trhltie vxśltłżbyxc, mhd vhdł.\n",
      "29: Czymże jest czas? Jeśli nikt mnie o to nie pyta, wiem. Jeśli pytającemu usiłuję wytłumaczyć, nie wiem.\n",
      "30: Ćźznaę kęśu ćźąś? Kętłj ńjlu nńję ó uó ńję qzuą, xjęn. Kętłj qzuąkbćęnv vśjmvkf xzumvnąćźzd, ńję xjęn.\n",
      "31: Dżźńąf lftv dżbt? Lfumk okłv ńokf p vp okf rźvb, ykfń. Lfumk rźvblcdfńw wtknwlg yźvnwńbdżźe, okf ykfń.\n",
      "32: Eażobg łguw eacu? Łgvnl ólmw oólg q wq ólg sżwc, zlgo. Łgvnl sżwcłćegox xulńxłh zżwńxoceażę, ólg zlgo.\n",
      "33: Ęąaóch mhvx ęąćv? Mhwńł płnx ópłh r xr płh śaxć, źłhó. Mhwńł śaxćmdęhóy yvłoymi źaxoyóćęąaf, płh źłhó.\n",
      "34: Fbąpći niwy fbdw? Nixom qmńy pqmi s ys qmi tąyd, żmip. Nixom tąydnefipz zwmóznj żąyózpdfbąg, qmi żmip.\n",
      "35: Gcbqdj ńjxz gcex? Ńjyón rnoz qrnj ś zś rnj ubze, anjq. Ńjyón ubzeńęgjqź źxnpźńk abzpźqegcbh, rnj anjq.\n"
     ]
    }
   ],
   "source": [
    "def decode(text: str):\n",
    "    for key in range(len(alfabet)):\n",
    "        decoded_text = ''\n",
    "        for current_char in text:\n",
    "            if current_char in string.punctuation or current_char in string.whitespace or current_char in string.digits:\n",
    "                decoded_text += current_char\n",
    "            elif current_char.lower() in alfabet:\n",
    "                current_char_number = alfabet.index(current_char.lower())\n",
    "                if current_char.isupper():\n",
    "                    decoded_text += alfabet[(current_char_number + key) % len(alfabet)].upper()\n",
    "                    continue\n",
    "                decoded_text += alfabet[(current_char_number + key) % len(alfabet)]\n",
    "        print(f'{key + 1}:', decoded_text)\n",
    "\n",
    "\n",
    "decode(tekst)  # 29"
   ],
   "metadata": {
    "collapsed": false,
    "ExecuteTime": {
     "end_time": "2023-11-01T13:13:34.381344Z",
     "start_time": "2023-11-01T13:13:34.377478Z"
    }
   }
  },
  {
   "cell_type": "markdown",
   "metadata": {},
   "source": [
    "## Zadanie 3 (2 pkt.)"
   ]
  },
  {
   "cell_type": "markdown",
   "metadata": {},
   "source": [
    "Plik **'ksiazka1.txt'** zawiera tekst pewnej książki zaszyfrowany metodą Cezara. Dokonaj analizy statystycznej liter i na tej podstawie znajdź klucz oraz odszyfruj tekst. Jaka to książka?\n",
    "\n",
    "Do wczytania pliku możesz użyć poniższego kodu."
   ]
  },
  {
   "cell_type": "code",
   "execution_count": 8,
   "metadata": {
    "ExecuteTime": {
     "end_time": "2023-11-01T13:13:34.390186Z",
     "start_time": "2023-11-01T13:13:34.381454Z"
    }
   },
   "outputs": [],
   "source": [
    "file = open('ksiazka1.txt', encoding='utf8')\n",
    "book = file.read()\n",
    "file.close()"
   ]
  },
  {
   "cell_type": "markdown",
   "metadata": {},
   "source": [
    "Słownik **czestoliwosc** zawiera częstotliwości występowania liter w języku polskim."
   ]
  },
  {
   "cell_type": "code",
   "execution_count": 9,
   "metadata": {
    "ExecuteTime": {
     "end_time": "2023-11-01T13:13:34.398415Z",
     "start_time": "2023-11-01T13:13:34.391072Z"
    }
   },
   "outputs": [],
   "source": [
    "polish_frequency = {'a': 0.0891, 'ą': 0.0099, 'b': 0.0147, 'c': 0.0396, 'ć': 0.004, 'd': 0.0325, 'e': 0.0766,\n",
    "                    'ę': 0.0111,\n",
    "                    'f': 0.003,\n",
    "                    'g': 0.0142, 'h': 0.0108, 'i': 0.0821, 'j': 0.0228, 'k': 0.0351, 'l': 0.021, 'ł': 0.0182,\n",
    "                    'm': 0.028,\n",
    "                    'n': 0.0552,\n",
    "                    'ń': 0.002, 'o': 0.0775, 'ó': 0.0085, 'p': 0.0313, 'q': 0.0014, 'r': 0.0469, 's': 0.0432,\n",
    "                    'ś': 0.0066,\n",
    "                    't': 0.0398,\n",
    "                    'u': 0.025, 'v': 0.0004, 'w': 0.0465, 'x': 0.0002, 'y': 0.0376, 'z': 0.0564, 'ź': 0.0006,\n",
    "                    'ż': 0.0083}"
   ]
  },
  {
   "cell_type": "code",
   "execution_count": 10,
   "metadata": {
    "ExecuteTime": {
     "end_time": "2023-11-01T13:13:34.530518Z",
     "start_time": "2023-11-01T13:13:34.394423Z"
    }
   },
   "outputs": [
    {
     "data": {
      "text/plain": "<BarContainer object of 35 artists>"
     },
     "execution_count": 10,
     "metadata": {},
     "output_type": "execute_result"
    },
    {
     "data": {
      "text/plain": "<Figure size 640x480 with 1 Axes>",
      "image/png": "[encoded data removed]"
     },
     "metadata": {},
     "output_type": "display_data"
    }
   ],
   "source": [
    "plt.bar(polish_frequency.keys(), polish_frequency.values())"
   ]
  },
  {
   "cell_type": "code",
   "execution_count": 11,
   "outputs": [
    {
     "data": {
      "text/plain": "<Figure size 640x480 with 1 Axes>",
      "image/png": "[encoded data removed]"
     },
     "metadata": {},
     "output_type": "display_data"
    }
   ],
   "source": [
    "book_frequency = {char: 0 for char in alfabet}\n",
    "\n",
    "table = str.maketrans('', '', string.whitespace + string.punctuation + string.digits)\n",
    "raw_text = book.translate(table)\n",
    "\n",
    "\n",
    "def book_analyzer(text):\n",
    "    amount = 0\n",
    "    for char in text:\n",
    "        if char.isupper():\n",
    "            char = char.lower()\n",
    "        book_frequency[char] += 1\n",
    "        amount += 1\n",
    "    for key in book_frequency:\n",
    "        book_frequency[key] = book_frequency[key] / amount\n",
    "\n",
    "    plt.bar(book_frequency.keys(), book_frequency.values())\n",
    "    plt.show()\n",
    "\n",
    "\n",
    "book_analyzer(raw_text)"
   ],
   "metadata": {
    "collapsed": false,
    "ExecuteTime": {
     "end_time": "2023-11-01T13:13:34.819226Z",
     "start_time": "2023-11-01T13:13:34.658056Z"
    }
   }
  },
  {
   "cell_type": "code",
   "execution_count": 12,
   "outputs": [],
   "source": [
    "def calculate_polish_score(text):\n",
    "    text = text[:20000].lower()\n",
    "    total_difference = 0\n",
    "\n",
    "    for char in text:\n",
    "        expected_freq = polish_frequency[char]\n",
    "        total_difference += abs(expected_freq - (text.count(char) / len(text)))\n",
    "\n",
    "    score = total_difference / len(alfabet)\n",
    "\n",
    "    return score"
   ],
   "metadata": {
    "collapsed": false,
    "ExecuteTime": {
     "end_time": "2023-11-01T13:13:34.827492Z",
     "start_time": "2023-11-01T13:13:34.816382Z"
    }
   }
  },
  {
   "cell_type": "code",
   "execution_count": 13,
   "outputs": [],
   "source": [
    "def decode_og(text, offset):\n",
    "    decoded_text = ''\n",
    "    for current_char in text:\n",
    "        if current_char in string.punctuation or current_char in string.whitespace or current_char in string.digits:\n",
    "            decoded_text += current_char\n",
    "        elif current_char.lower() in alfabet:\n",
    "            current_char_number = alfabet.index(current_char.lower())\n",
    "            if current_char.isupper():\n",
    "                decoded_text += alfabet[(current_char_number + offset) % len(alfabet)].upper()\n",
    "                continue\n",
    "            decoded_text += alfabet[(current_char_number + offset) % len(alfabet)]\n",
    "    return decoded_text"
   ],
   "metadata": {
    "collapsed": false,
    "ExecuteTime": {
     "end_time": "2023-11-01T13:13:34.830356Z",
     "start_time": "2023-11-01T13:13:34.823959Z"
    }
   }
  },
  {
   "cell_type": "code",
   "execution_count": 14,
   "outputs": [
    {
     "name": "stdout",
     "output_type": "stream",
     "text": [
      "-10\n",
      "Iteration -10: 15.50662285714252\n",
      "-9\n",
      "Iteration -9: 18.885468571430216\n",
      "-8\n",
      "Iteration -8: 22.385622857141847\n",
      "-7\n",
      "Iteration -7: 17.937565714285935\n",
      "-6\n",
      "Iteration -6: 21.4251028571455\n",
      "-5\n",
      "Iteration -5: 22.87493428571446\n",
      "-4\n",
      "Iteration -4: 2.0230885714285716\n",
      "-3\n",
      "Iteration -3: 23.21037714285648\n",
      "-2\n",
      "Iteration -2: 19.923580000000783\n",
      "-1\n",
      "Iteration -1: 20.1145742857159\n",
      "0\n",
      "Iteration 0: 23.56238571428511\n",
      "1\n",
      "Iteration 1: 18.295399999999237\n",
      "2\n",
      "Iteration 2: 15.557231428569516\n",
      "3\n",
      "Iteration 3: 20.853228571429828\n",
      "4\n",
      "Iteration 4: 17.56782571428613\n",
      "5\n",
      "Iteration 5: 21.436097142857722\n",
      "6\n",
      "Iteration 6: 20.055491428573003\n",
      "7\n",
      "Iteration 7: 18.448682857143353\n",
      "8\n",
      "Iteration 8: 19.88913428571377\n",
      "9\n",
      "Iteration 9: 16.20747714285602\n"
     ]
    },
    {
     "data": {
      "text/plain": "-4"
     },
     "execution_count": 14,
     "metadata": {},
     "output_type": "execute_result"
    }
   ],
   "source": [
    "def break_cipher(cipher_text: str) -> int:\n",
    "    lowest_difference = math.inf\n",
    "    encryption_key = 0\n",
    "    \n",
    "    for key in range(-10, 10):\n",
    "        current_plain_text = decode_og(cipher_text, key)\n",
    "        current_difference = calculate_polish_score(current_plain_text)\n",
    "        print(f'Iteration {key}: {current_difference}')\n",
    "        if current_difference < lowest_difference:\n",
    "            lowest_difference = current_difference\n",
    "            encryption_key = key\n",
    "    return encryption_key\n",
    "\n",
    "\n",
    "break_cipher(raw_text)"
   ],
   "metadata": {
    "collapsed": false,
    "ExecuteTime": {
     "end_time": "2023-11-01T13:13:52.262960Z",
     "start_time": "2023-11-01T13:13:34.848196Z"
    }
   }
  },
  {
   "cell_type": "code",
   "execution_count": 15,
   "outputs": [
    {
     "data": {
      "text/plain": "'Tom I\\n\\n\\n\\nWstęp\\n\\nW północno-wschodnim kącie Afryki leży Egipt, ojczyzna najstarszej cywilizacji w świ'"
     },
     "execution_count": 15,
     "metadata": {},
     "output_type": "execute_result"
    }
   ],
   "source": [
    "decode_og(book[:100], -4)"
   ],
   "metadata": {
    "collapsed": false,
    "ExecuteTime": {
     "end_time": "2023-11-01T13:13:52.269232Z",
     "start_time": "2023-11-01T13:13:52.263264Z"
    }
   }
  },
  {
   "cell_type": "markdown",
   "metadata": {
    "ExecuteTime": {
     "end_time": "2023-10-25T16:27:30.891168Z",
     "start_time": "2023-10-25T16:27:30.785144Z"
    }
   },
   "source": [
    "## Zadanie 4 (2 pkt.)"
   ]
  },
  {
   "cell_type": "markdown",
   "metadata": {
    "ExecuteTime": {
     "end_time": "2023-10-25T16:27:32.901305Z",
     "start_time": "2023-10-25T16:27:32.893571Z"
    }
   },
   "source": [
    "Napisz dwie funkcje, szyfrującą i deszyfrującą, dla szyfru Vignere'a. Funkcja **Vignere_zaszyfruj(tekst, klucz)** przyjmuje jako argumenty tekst do zaszyfrowania oraz klucz w postaci słowa. Podobnie funkcja **Vignere_odszyfruj(tekst, klucz)** przyjmuje jako argumenty tekst zaszyfrowany oraz klucz w postaci słowa. Może być przydatne skorzystanie z zamiany liter na liczby (tzn. na liczby określające pozycję litery w alfabecie):"
   ]
  },
  {
   "cell_type": "code",
   "execution_count": 16,
   "metadata": {
    "ExecuteTime": {
     "end_time": "2023-11-01T13:13:52.270010Z",
     "start_time": "2023-11-01T13:13:52.266569Z"
    }
   },
   "outputs": [],
   "source": [
    "num_to_char = dict()\n",
    "char_to_num = dict()\n",
    "for i, l in enumerate(alfabet):\n",
    "    num_to_char[i] = l\n",
    "    char_to_num[l] = i"
   ]
  },
  {
   "cell_type": "code",
   "execution_count": 17,
   "outputs": [],
   "source": [
    "class Vigenere:\n",
    "    def encode(self, text: str, key: str) -> str:\n",
    "        is_upper = False\n",
    "        encoded_text = ''\n",
    "        offset = 0\n",
    "\n",
    "        for current_char in text:\n",
    "            if current_char in string.punctuation or current_char in string.whitespace or current_char in string.digits:\n",
    "                encoded_text += current_char\n",
    "                continue\n",
    "            elif current_char.isupper():\n",
    "                current_char = current_char.lower()\n",
    "                is_upper = True\n",
    "\n",
    "            x = char_to_num[current_char]\n",
    "            y = char_to_num[key[offset % len(key)]]\n",
    "            xy = x + y\n",
    "            if xy < len(alfabet):\n",
    "                temp = num_to_char[xy]\n",
    "            else:\n",
    "                temp = num_to_char[abs(len(alfabet) - xy)]\n",
    "            if is_upper:\n",
    "                encoded_text += temp.upper()\n",
    "                is_upper = False\n",
    "            else:\n",
    "                encoded_text += temp\n",
    "            offset += 1\n",
    "\n",
    "        return encoded_text\n",
    "\n",
    "    def decode(self, text, key):\n",
    "        decoded_text = ''\n",
    "\n",
    "        for char in key:\n",
    "            decoded_text += num_to_char[(len(alfabet) - char_to_num[char]) % len(alfabet)]\n",
    "\n",
    "        return self.encode(text, decoded_text)"
   ],
   "metadata": {
    "collapsed": false,
    "ExecuteTime": {
     "end_time": "2023-11-01T13:13:52.277360Z",
     "start_time": "2023-11-01T13:13:52.271552Z"
    }
   }
  },
  {
   "cell_type": "code",
   "execution_count": 18,
   "metadata": {
    "ExecuteTime": {
     "end_time": "2023-11-01T13:13:52.279452Z",
     "start_time": "2023-11-01T13:13:52.274341Z"
    }
   },
   "outputs": [
    {
     "name": "stdout",
     "output_type": "stream",
     "text": [
      "True\n",
      "True\n",
      "True\n",
      "True\n",
      "True\n",
      "True\n",
      "True\n",
      "True\n"
     ]
    }
   ],
   "source": [
    "vigenere = Vigenere()\n",
    "\n",
    "print(vigenere.encode('Ala ma kota.', 'ela') == 'Eva ql kśda.')\n",
    "print(vigenere.encode('Ala ma kota.', 'tygrys') == 'Thg ćy bhqg.')\n",
    "print(vigenere.encode('Ala ma 2 koty.', 'indywidualistyczny') == 'Iyd jw 2 ssńy.')\n",
    "print(vigenere.encode(\n",
    "    'Daremne żale, próżny trud,\\nBezsilne złorzeczenia!\\nPrzeżytych kształtów żaden cud\\nNie wróci do istnienia.',\n",
    "    'asnyk')\n",
    "      == 'Dsdbwnx myue, hdmjnó fodd,\\nTrvbicżb hłfdvocprksa!\\nHdvożófumh bevćaćfmę żsqbx cmq\\nKse ńdmmi wą ębtevbxis.')\n",
    "print(vigenere.decode('Eva ql kśda.', 'ela') == 'Ala ma kota.')\n",
    "print(vigenere.decode('Thg ćy bhqg.', 'tygrys') == 'Ala ma kota.')\n",
    "print(vigenere.decode('Iyd jw 2 ssńy.', 'indywidualistyczny') == 'Ala ma 2 koty.')\n",
    "print(vigenere.decode(\n",
    "    'Dsdbwnx myue, hdmjnó fodd,\\nTrvbicżb hłfdvocprksa!\\nHdvożófumh bevćaćfmę żsqbx cmq\\nKse ńdmmi wą ębtevbxis.',\n",
    "    'asnyk')\n",
    "      == 'Daremne żale, próżny trud,\\nBezsilne złorzeczenia!\\nPrzeżytych kształtów żaden cud\\nNie wróci do istnienia.')"
   ]
  },
  {
   "cell_type": "markdown",
   "metadata": {},
   "source": [
    "## Zadanie 5 (3 pkt.)"
   ]
  },
  {
   "cell_type": "markdown",
   "metadata": {},
   "source": [
    "Plik **'ksiazka2.txt'** zawiera tekst pewnej książki zaszyfrowany metodą Vignere'a. Dokonaj analizy statystycznej liter i na tej podstawie znajdź klucz oraz odszyfruj tekst. Jaka to książka?\n",
    "\n",
    "Wskazówka I: Zauważ, że w metodzie Vignere'a co $n$-ta litera (gdzie $n$ to długość klucza) jest zaszyfrowana metodą Cezara.\n",
    "\n",
    "Wskazówka II: Najpierw ustal długość klucza $n$.\n",
    "\n",
    "Do wczytania pliku możesz użyć poniższego kodu."
   ]
  },
  {
   "cell_type": "code",
   "execution_count": 19,
   "metadata": {
    "ExecuteTime": {
     "end_time": "2023-11-01T13:13:52.324923Z",
     "start_time": "2023-11-01T13:13:52.279597Z"
    }
   },
   "outputs": [],
   "source": [
    "file = open('ksiazka2.txt', encoding='utf8')\n",
    "book = file.read()\n",
    "file.close()\n",
    "table = str.maketrans('', '', string.whitespace + string.punctuation + string.digits)\n",
    "raw_text = book.translate(table)"
   ]
  },
  {
   "cell_type": "code",
   "execution_count": 20,
   "outputs": [
    {
     "data": {
      "text/plain": "<Figure size 640x480 with 1 Axes>",
      "image/png": "[encoded data removed]"
     },
     "metadata": {},
     "output_type": "display_data"
    }
   ],
   "source": [
    "char_freq = book_analyzer(raw_text)"
   ],
   "metadata": {
    "collapsed": false,
    "ExecuteTime": {
     "end_time": "2023-11-01T13:13:52.422356Z",
     "start_time": "2023-11-01T13:13:52.312730Z"
    }
   }
  },
  {
   "cell_type": "code",
   "execution_count": 21,
   "outputs": [],
   "source": [
    "def calculate_ic(text):\n",
    "    text = text.lower()\n",
    "    total = len(text)\n",
    "    alphabet_size = len(alfabet)\n",
    "    freq_count = [0] * alphabet_size\n",
    "\n",
    "    for char in text:\n",
    "        if char in alfabet:\n",
    "            char_index = char_to_num[char]\n",
    "            freq_count[char_index] += 1\n",
    "\n",
    "    ic = sum((n * (n - 1) for n in freq_count)) / (total * (total - 1))\n",
    "    return ic"
   ],
   "metadata": {
    "collapsed": false,
    "ExecuteTime": {
     "end_time": "2023-11-01T13:13:52.422648Z",
     "start_time": "2023-11-01T13:13:52.418545Z"
    }
   }
  },
  {
   "cell_type": "code",
   "execution_count": 22,
   "outputs": [
    {
     "name": "stdout",
     "output_type": "stream",
     "text": [
      "0.049526338920867996\n",
      "0.04952675115090922\n",
      "0.049528292945091625\n",
      "0.04952315299241336\n",
      "0.049527483546440466\n"
     ]
    },
    {
     "data": {
      "text/plain": "[4, 8, 12, 16, 20]"
     },
     "execution_count": 22,
     "metadata": {},
     "output_type": "execute_result"
    }
   ],
   "source": [
    "def estimate_key_length(ciphertext, max_key_length):\n",
    "    estimated_lengths = []\n",
    "\n",
    "    for k in range(1, max_key_length + 1):\n",
    "        ic_values = []\n",
    "        for i in range(k):\n",
    "            position_chars = [ciphertext[j] for j in range(i, len(ciphertext), k)]\n",
    "            position_text = ''.join(position_chars)\n",
    "            ic = calculate_ic(position_text)\n",
    "            ic_values.append(ic)\n",
    "\n",
    "        avg_ic = sum(ic_values) / k\n",
    "\n",
    "        if avg_ic > 0.04:\n",
    "            print(avg_ic)\n",
    "            estimated_lengths.append(k)\n",
    "\n",
    "    return estimated_lengths\n",
    "\n",
    "\n",
    "estimate_key_length(raw_text, 20)"
   ],
   "metadata": {
    "collapsed": false,
    "ExecuteTime": {
     "end_time": "2023-11-01T13:13:53.556762Z",
     "start_time": "2023-11-01T13:13:52.490072Z"
    }
   }
  },
  {
   "cell_type": "code",
   "execution_count": 23,
   "outputs": [
    {
     "data": {
      "text/plain": "'glob'"
     },
     "execution_count": 23,
     "metadata": {},
     "output_type": "execute_result"
    }
   ],
   "source": [
    "def find_vigenere_key(ciphertext, key_length):\n",
    "    key = ''\n",
    "\n",
    "    for i in range(key_length):\n",
    "        group = ciphertext[i::key_length]\n",
    "        frequencies = {char: 0 for char in alfabet}\n",
    "        for char in group:\n",
    "            if char in alfabet:\n",
    "                frequencies[char] += 1\n",
    "        most_frequent_char = max(frequencies, key=frequencies.get)\n",
    "        key += most_frequent_char\n",
    "\n",
    "    return key\n",
    "\n",
    "\n",
    "find_vigenere_key(raw_text, 4)"
   ],
   "metadata": {
    "collapsed": false,
    "ExecuteTime": {
     "end_time": "2023-11-01T13:13:53.606857Z",
     "start_time": "2023-11-01T13:13:53.604644Z"
    }
   }
  },
  {
   "cell_type": "code",
   "execution_count": 24,
   "outputs": [
    {
     "data": {
      "text/plain": "'Rozdział I. Phileas Fogg, zachwycony Obieżyświatem, przyjmuje go do służby\\n\\nW roku 1872 dom pod nume'"
     },
     "execution_count": 24,
     "metadata": {},
     "output_type": "execute_result"
    }
   ],
   "source": [
    "vigenere.decode(book[:100], 'glob')"
   ],
   "metadata": {
    "collapsed": false,
    "ExecuteTime": {
     "end_time": "2023-11-01T13:13:53.612837Z",
     "start_time": "2023-11-01T13:13:53.607496Z"
    }
   }
  }
 ],
 "metadata": {
  "kernelspec": {
   "display_name": "Python 3 (ipykernel)",
   "language": "python",
   "name": "python3"
  },
  "language_info": {
   "codemirror_mode": {
    "name": "ipython",
    "version": 3
   },
   "file_extension": ".py",
   "mimetype": "text/x-python",
   "name": "python",
   "nbconvert_exporter": "python",
   "pygments_lexer": "ipython3",
   "version": "3.10.4"
  },
  "vscode": {
   "interpreter": {
    "hash": "96ad6c7fd9d06889208fc918e485ee5403ac6f6c27ad3f857e9a26d0c3a3092d"
   }
  }
 },
 "nbformat": 4,
 "nbformat_minor": 4
}
