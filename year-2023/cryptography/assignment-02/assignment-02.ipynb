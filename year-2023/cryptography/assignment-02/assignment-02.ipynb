{
 "cells": [
  {
   "cell_type": "markdown",
   "metadata": {},
   "source": [
    "# Lista 2 (7 pkt.)"
   ]
  },
  {
   "cell_type": "code",
   "execution_count": 2,
   "metadata": {
    "ExecuteTime": {
     "end_time": "2023-11-01T12:56:10.999095Z",
     "start_time": "2023-11-01T12:56:10.938226Z"
    }
   },
   "outputs": [],
   "source": [
    "import string\n",
    "from PIL import Image\n",
    "import numpy as np\n",
    "import matplotlib.pyplot as plt\n",
    "from matplotlib.colors import LogNorm"
   ]
  },
  {
   "cell_type": "markdown",
   "metadata": {},
   "source": [
    "## Zadanie 1. (1 pkt)"
   ]
  },
  {
   "cell_type": "markdown",
   "metadata": {},
   "source": [
    "To zadanie należy wykonać ręcznie, bez używania komputera, korzystając z instrukcji z **one_time_pad.pdf**. Zaszyfruj wiadomość o treści: \"NEW 15 HELICOPTERS\", za pomocą klucza: 68496 47757 10126 36660 25066. Do słów, które są w tabeli poniżej użyj odpowiednio ich kodów. Uwaga: w wiadomości jest liczba mnoga \"helicopterS\"."
   ]
  },
  {
   "cell_type": "markdown",
   "metadata": {},
   "source": [
    "\n",
    "$\\begin{array}{|c|c|c|c|c|c|c|c|c|c|}\n",
    "\\hline\n",
    "CODE&A&E&I&N&O&T&&\\\\\n",
    "0&1&2&3&4&5&6&&&\\\\\n",
    "\\hline\n",
    "B&C&D&F&G&H&J&K&L&M\\\\\n",
    "70&71&72&73&74&75&76&77&78&79\\\\\n",
    "\\hline\n",
    "P&Q&R&S&U&V&W&X&Y&Z\\\\\n",
    "80&81&82&83&84&85&86&87&88&89\\\\\n",
    "\\hline\n",
    "FIG&.&:&,/'&(/)&+&-&=&REG/?&SPC\\\\\n",
    "90&91&92&93&94&95&96&97&98&99\\\\\n",
    "\\hline\n",
    "\\end{array}$"
   ]
  },
  {
   "cell_type": "markdown",
   "metadata": {},
   "source": [
    "$\\begin{array}{|cc|cc|cc|cc|}\n",
    "\\hline\n",
    "000&ABORT&253&DECODE&505&MILITARY&758&STREET\\\\\n",
    "\\hline\n",
    "019&ACCEPT&262&DELAY&514&MONEY&767&SUBWAY\\\\\n",
    "\\hline\n",
    "028&ACCESS&271&DIFFICULT&523&MONTH&776&SUCCESS\\\\\n",
    "\\hline\n",
    "037&ADDRESS&280&DOCUMENT&532&MORNING&785&SUPPLY\\\\\n",
    "\\hline\n",
    "046&AFFIRMATIVE&299&ENCODE&541&MORSE&794&SUPPORT\\\\\n",
    "\\hline\n",
    "055&AGENT&307&EVENING&550&NEGATIVE&802&TELEPHONE\\\\\n",
    "\\hline\n",
    "064&AIRPLANE&316&EXECUTE&569&NIGHT&811&TODAY\\\\\n",
    "\\hline\n",
    "073&AIRPORT&325&FACTORY&578&OBSERVATION&820&TOMORROW\\\\\n",
    "\\hline\n",
    "082&ANSWER&334&FAILED&587&PASSPORT&839&TRAIN\\\\\n",
    "\\hline\n",
    "091&AUTHORITY&343&FERRY&596&PERSON&848&TRANSFER\\\\\n",
    "\\hline\n",
    "109&BETWEEN&352&FLIGHT&604&PHOTOGRAPH&857&TRANSMIT\\\\\n",
    "\\hline\n",
    "118&BORDER&361&FREQUENCY&613&POSITIVE&866&TRAVEL\\\\\n",
    "\\hline\n",
    "127&BUILDING&370&HARBOUR&622&POSSIBLE&875&TRUCK\\\\\n",
    "\\hline\n",
    "136&CANCEL&389&HELICOPTER&631&POWER&884&UNABLE TO\\\\\n",
    "\\hline\n",
    "145&CHANGE&398&HIGHWAY&640&PRIORITY&893&URGENT\\\\\n",
    "\\hline\n",
    "154&CIVILIAN&406&IDENTITY&659&PROBLEM&901&VERIFY\\\\\n",
    "\\hline\n",
    "163&COMPROMISE&415&IMMEDIATE&668&QUESTION&910&WEEK\\\\\n",
    "\\hline\n",
    "172&COMPUTER&424&IMPOSSIBLE&677&RADIO&929&WITHIN\\\\\n",
    "\\hline\n",
    "181&CONFIRM&433&INFORMATION&686&RECEIVE&938&YESTERDAY\\\\\n",
    "\\hline\n",
    "190&CONTACT&442&INSTRUCTIONS&695&RENDEZVOUS&&\\\\\n",
    "\\hline\n",
    "208&COORDINATE&451&LOCATE&703&REPEAT&&\\\\\n",
    "\\hline\n",
    "217&COUNTRY&460&LOCATION&712&RESERVATION&&\\\\\n",
    "\\hline\n",
    "226&COVERT&479&MAIL&721&ROUTINE&\\\\\n",
    "\\hline\n",
    "235&CURRENT&488&MEETING&730&SATELLITE&\\\\\n",
    "\\hline\n",
    "244&DANGER&497&MESSAGE&749&SHIP&\\\\\n",
    "\\hline\n",
    "\\end{array}$"
   ]
  },
  {
   "cell_type": "markdown",
   "metadata": {},
   "source": [
    "## Zadanie 2 (1 pkt)"
   ]
  },
  {
   "cell_type": "markdown",
   "metadata": {},
   "source": [
    "To zadanie również jest do zrobienia ręcznie. Używając klucza 11454 03055 15565 17466 26950 54906 odkoduj wiadomość 11454 00572 94578 25863 84286 24376. Wykorzystaj instrukcje z **one_time_pad.pdf** oraz tablicę kodów z Zadania 1. \n"
   ]
  },
  {
   "cell_type": "markdown",
   "metadata": {},
   "source": [
    "## Zadanie 3. (1 pkt)\n",
    "Wczytaj obrazki 'miki.png' oraz 'quest.png'."
   ]
  },
  {
   "cell_type": "code",
   "execution_count": 3,
   "metadata": {
    "ExecuteTime": {
     "end_time": "2023-11-01T12:56:11.031372Z",
     "start_time": "2023-11-01T12:56:10.956602Z"
    }
   },
   "outputs": [
    {
     "data": {
      "text/plain": "<PIL.Image.Image image mode=L size=200x207>",
      "image/png": "[encoded data removed]"
     },
     "execution_count": 3,
     "metadata": {},
     "output_type": "execute_result"
    }
   ],
   "source": [
    "img1 = Image.open('miki.png').convert('L')\n",
    "img1"
   ]
  },
  {
   "cell_type": "code",
   "execution_count": 4,
   "metadata": {
    "ExecuteTime": {
     "end_time": "2023-11-01T12:56:11.040185Z",
     "start_time": "2023-11-01T12:56:10.970446Z"
    }
   },
   "outputs": [
    {
     "data": {
      "text/plain": "<PIL.Image.Image image mode=L size=200x207>",
      "image/png": "[encoded data removed]"
     },
     "execution_count": 4,
     "metadata": {},
     "output_type": "execute_result"
    }
   ],
   "source": [
    "img2 = Image.open('quest.png').convert('L')\n",
    "img2"
   ]
  },
  {
   "cell_type": "markdown",
   "metadata": {},
   "source": [
    "Napisz funkcję **add_pic(img1, img2)**, która przyjmuje dwa obrazki i je dodaje piksel po pikselu za pomocą XOR, czyli **biały+biały=czarny, biały+czarny=biały, czarny+czarny=czarny**. Warto wykorzystać to, że **np.array(img)** zwraca tablicę, z wartościami 255 dla białych pikseli i 0 dla czarnych, aby zamienić tablicę z powrotem na obraz należy użyc **Image.fromarray()** przy czym tablica musi być typu **np.uint8** czyli tworząc tablicę podajemy typ: **np.array([1,2,3,4], dtype=np.uint8)**. Funkcja ma zwracać obrazek."
   ]
  },
  {
   "cell_type": "code",
   "execution_count": 5,
   "metadata": {
    "ExecuteTime": {
     "end_time": "2023-11-01T12:56:11.043274Z",
     "start_time": "2023-11-01T12:56:10.976833Z"
    }
   },
   "outputs": [
    {
     "data": {
      "text/plain": "<PIL.Image.Image image mode=L size=200x207>",
      "image/png": "[encoded data removed]"
     },
     "execution_count": 5,
     "metadata": {},
     "output_type": "execute_result"
    }
   ],
   "source": [
    "def add_pic(img1: Image, img2: Image):\n",
    "    d_img1 = np.array(img1, dtype=np.uint8)\n",
    "    d_img2 = np.array(img2, dtype=np.uint8)\n",
    "\n",
    "    out_img = np.zeros(d_img1.shape)\n",
    "\n",
    "    for i in range(0, out_img.shape[0]):\n",
    "        for j in range(0, out_img.shape[1]):\n",
    "            if d_img1[i][j] != d_img2[i][j]:\n",
    "                out_img[i][j] = 255\n",
    "\n",
    "    return Image.fromarray(out_img).convert('L')\n",
    "\n",
    "\n",
    "add_pic(img1, img2)"
   ]
  },
  {
   "cell_type": "markdown",
   "metadata": {},
   "source": [
    "Wygeneruj (pseudo)losowy klucz, czyli obrazek z losowymi białymi i czarnymi pikselami, użyj **np.random**. Następnie zaszyfruj tym kluczem, za pomocą **add_pic**, oba obrazki **img1** i **img2**. Zauważ, że oba obrazki wyglądają na dobrze zaszyfrowane, zobacz jednak co się wydarzy kiedy dodasz do siebie te zaszyfrowane obrazki."
   ]
  },
  {
   "cell_type": "code",
   "execution_count": 6,
   "outputs": [],
   "source": [
    "def random_key_gen():\n",
    "    random_key = np.random.choice([0, 255], size=(img1.size[1], img1.size[0]), replace=True).astype(np.uint8)\n",
    "    return Image.fromarray(random_key)"
   ],
   "metadata": {
    "collapsed": false,
    "ExecuteTime": {
     "end_time": "2023-11-01T12:56:11.043483Z",
     "start_time": "2023-11-01T12:56:10.994544Z"
    }
   }
  },
  {
   "cell_type": "code",
   "execution_count": 7,
   "outputs": [
    {
     "data": {
      "text/plain": "<PIL.Image.Image image mode=L size=200x207>",
      "image/png": "[encoded data removed]"
     },
     "execution_count": 7,
     "metadata": {},
     "output_type": "execute_result"
    }
   ],
   "source": [
    "add_pic(img1, random_key_gen())"
   ],
   "metadata": {
    "collapsed": false,
    "ExecuteTime": {
     "end_time": "2023-11-01T12:56:11.045038Z",
     "start_time": "2023-11-01T12:56:11.002350Z"
    }
   }
  },
  {
   "cell_type": "code",
   "execution_count": 8,
   "outputs": [
    {
     "data": {
      "text/plain": "<PIL.Image.Image image mode=L size=200x207>",
      "image/png": "[encoded data removed]"
     },
     "execution_count": 8,
     "metadata": {},
     "output_type": "execute_result"
    }
   ],
   "source": [
    "add_pic(img2, random_key_gen())"
   ],
   "metadata": {
    "collapsed": false,
    "ExecuteTime": {
     "end_time": "2023-11-01T12:56:11.097260Z",
     "start_time": "2023-11-01T12:56:11.040514Z"
    }
   }
  },
  {
   "cell_type": "markdown",
   "metadata": {},
   "source": [
    "## Zadanie 4 (2 pkt.)"
   ]
  },
  {
   "cell_type": "markdown",
   "metadata": {},
   "source": [
    "Zmienne ***msg1_enc*** oraz ***msg2_enc*** zawierają dwie zaszyfrowane wiadomości, w języku angielskim."
   ]
  },
  {
   "cell_type": "code",
   "execution_count": 9,
   "metadata": {
    "ExecuteTime": {
     "end_time": "2023-11-01T12:56:11.097799Z",
     "start_time": "2023-11-01T12:56:11.051911Z"
    }
   },
   "outputs": [],
   "source": [
    "msg1_enc = '\\x1e\\x17\\x0c\\x12\\x1b\\x08\\x0cf\\x0e\\x11x\\x1a\\x1c\\x12o\\x06\\x18\\x1f\\x17\\x03\\x10\\x01fkh\\x1f\\x08'\n",
    "msg2_enc = '\\x0b\\ni\\x07\\x1c\\x02k\\x1f\\x16e\\x01\\x0b\\x07\\x03\\n\\x15\\x15\\x0c\\x1el\\x07\\x03\\x03\\x16\\x01\\x01\\x02'"
   ]
  },
  {
   "cell_type": "markdown",
   "metadata": {},
   "source": [
    "Wiadomo, że zostały zaszyfrowane tym samym kluczem, możemy to wykorzystać do odszyfrowania ich. W tym zadaniu konwencja zamiany liter na liczby i ich dodawania jest inna, niż w poprzednich. Znaki zamieniamy na liczby kodujące te znaki w **Unicode**, czyli za pomocą **ord()**, następnie dodajemy je do siebie za pomocą XOR na poziomie bitów, czyli za pomocą **^**. Napisz funkcję **add_str(msg1, msg2)**, które przyjmuje dwa teksty i zwraca tekst będący sumą tych tekstów zgodnie z powyższą konwencją."
   ]
  },
  {
   "cell_type": "code",
   "execution_count": 14,
   "metadata": {
    "ExecuteTime": {
     "end_time": "2023-11-01T13:06:48.780395Z",
     "start_time": "2023-11-01T13:06:48.771560Z"
    }
   },
   "outputs": [
    {
     "data": {
      "text/plain": "['\\x15',\n '\\x1d',\n 'e',\n '\\x15',\n '\\x07',\n '\\n',\n 'g',\n 'y',\n '\\x18',\n 't',\n 'y',\n '\\x11',\n '\\x1b',\n '\\x11',\n 'e',\n '\\x13',\n '\\r',\n '\\x13',\n '\\t',\n 'o',\n '\\x17',\n '\\x02',\n 'e',\n '}',\n 'i',\n '\\x1e',\n '\\n']"
     },
     "execution_count": 14,
     "metadata": {},
     "output_type": "execute_result"
    }
   ],
   "source": [
    "def add_str(msg1: str, msg2: str):\n",
    "    out_msg = []\n",
    "    for char1, char2 in zip(msg1, msg2):\n",
    "        out_msg.append(chr(ord(char1) ^ ord(char2)))\n",
    "    return out_msg\n",
    "\n",
    "\n",
    "add_str(msg1_enc, msg2_enc)"
   ]
  },
  {
   "cell_type": "markdown",
   "metadata": {},
   "source": [
    "Zauważmy, że jeżeli dwie wiadomości są zaszyfrowane tym samym kluczem to dodanie ich do siebie sprawia, że dostaniemy sumę wiadomości bez klucza. Poza tym zauważmy, że jeżeli znamy jakieś słowo występujące w którejś z wiadomości i je dodamy do sumy tych wiadomości w odpowiednim miejscu to w wyniku dostaniemy poprawne słowo z drugiej wiadomości. Zatem metoda łamania tych wiadomości jest następująca, zgadujemy jakie słowo może być w którejś z wiadomości, dodajemy je w różnych miejscach sumy wiadomości i patrzymy czy powstaje coś co może być fragmentem poprawnego tekstu, następnie na podstawie tego fragmentu zgadujemy większą pozostałą część słowa i teraz to słowo używamy do odczytania kolejnego fragmentu z pierwszej wiadomości.\n",
    "\n",
    "Pierwsze słowo wybieramy z pośród najpopularniejszych słów w danym języku.\n",
    "\n",
    "Najpopularniejsze angielskie słowa:\n",
    "1. THE\n",
    "2. BE\n",
    "3. TO\n",
    "4. OF\n",
    "5. AND\n",
    "\n",
    "Uwaga 1: Słowa zapisane są drukowanymi literami.\n",
    "\n",
    "Uwaga 2: Słowa oddzialane są spacjami, zatem biorąc np. słowo THE należy sprawdzać ciąg znaków \"&nbsp; THE &nbsp;\", ze spacjami na początku i końcu, dzięki temu odszyfrujemy więcej znaków."
   ]
  },
  {
   "cell_type": "markdown",
   "metadata": {},
   "source": [
    "## Zadanie 5 (2 pkt.)"
   ]
  },
  {
   "cell_type": "markdown",
   "metadata": {},
   "source": [
    "W poprzednim zadaniu korzystaliśmu z faktu, że obie wiadomości były zaszyfrowane przy użyciu tego samego klucza. Jednka w praktyce nie wiemy, które i czy w ogóle, wiadomosci były zaszyfrowane przy użyciu tego samego klucza. Możemy to wykryć dokonując analizy statystycznej. Załóżmy, że dodajemy do siebie dwie wiadomości zaszyfrowane tymi samymi kluczami. Wtedy miejsca w których dostaniemy 0 (w konwencji użytej w tym zadaniu znak odpowiadający 0 w Unicode, czyli chr(0)) są miejscami w których w obu wiadomościach była ta sama litera. Jeżeli natomiast dodajemy wiadomości o różnych kluczach będziemy dostawać 0 w losowych miejscach. Zatem w pierwszym przypadku otrzymamy więcej 0.\n",
    "\n",
    "Zatem należy wczytać wszystkie wiadomości msg1.txt, msg2.txt itd. a następnie dodać je do siebie parami, każda z każdą i policzyć odsetek 0 (tzn. znaków chr(0)) w otrzymanych sumach. Para wiadomości o wyższym niż inne odsetku będzie tą zaszyfrowaną przy u życiu tego samego klucza. Aby łatwiej zauważyć taką parę warto zilustrować sobie wyniki (odsetki 0) za pomocą **plt.imshow(X ,norm=LogNorm())** i użyć skali logarytmicznej, gdzie **X** to tablica 10 na 10 zawierająca odsetki 0 dla każdej pary wiadomości."
   ]
  },
  {
   "cell_type": "code",
   "execution_count": 17,
   "outputs": [],
   "source": [
    "def calc_zeros_perc(msg_in):\n",
    "    d_cout = 0\n",
    "    for i in range(len(msg_in)):\n",
    "        if ord(msg_in[i]) == 0:\n",
    "            d_cout += 1\n",
    "\n",
    "    return d_cout"
   ],
   "metadata": {
    "collapsed": false,
    "ExecuteTime": {
     "end_time": "2023-11-01T13:08:39.581923Z",
     "start_time": "2023-11-01T13:08:39.575578Z"
    }
   }
  },
  {
   "cell_type": "code",
   "execution_count": 16,
   "outputs": [
    {
     "data": {
      "text/plain": "<Figure size 640x480 with 1 Axes>",
      "image/png": "[encoded data removed]"
     },
     "metadata": {},
     "output_type": "display_data"
    }
   ],
   "source": [
    "messages = []\n",
    "matrix = np.zeros((10, 10))\n",
    "\n",
    "for i in range(0, 10):\n",
    "    with open(\"msg\" + str(i) + \".txt\", \"r\") as d_msg:\n",
    "        messages.append(d_msg.read())\n",
    "\n",
    "for i in range(len(messages)):\n",
    "    for j in range(len(messages)):\n",
    "        matrix[i, j] = calc_zeros_perc(add_str(messages[i], messages[j]))\n",
    "\n",
    "plt.imshow(matrix, norm=LogNorm())\n",
    "plt.show()"
   ],
   "metadata": {
    "collapsed": false,
    "ExecuteTime": {
     "end_time": "2023-11-01T13:08:38.324296Z",
     "start_time": "2023-11-01T13:08:38.060917Z"
    }
   }
  }
 ],
 "metadata": {
  "kernelspec": {
   "display_name": "Python 3 (ipykernel)",
   "language": "python",
   "name": "python3"
  },
  "language_info": {
   "codemirror_mode": {
    "name": "ipython",
    "version": 3
   },
   "file_extension": ".py",
   "mimetype": "text/x-python",
   "name": "python",
   "nbconvert_exporter": "python",
   "pygments_lexer": "ipython3",
   "version": "3.9.16"
  },
  "vscode": {
   "interpreter": {
    "hash": "96ad6c7fd9d06889208fc918e485ee5403ac6f6c27ad3f857e9a26d0c3a3092d"
   }
  }
 },
 "nbformat": 4,
 "nbformat_minor": 2
}
