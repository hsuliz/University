{
 "cells": [
  {
   "cell_type": "markdown",
   "metadata": {},
   "source": [
    "# Lista 8 (10 pkt.)"
   ]
  },
  {
   "cell_type": "code",
   "execution_count": 1,
   "metadata": {
    "ExecuteTime": {
     "end_time": "2023-12-21T14:18:15.738939Z",
     "start_time": "2023-12-21T14:18:15.255163Z"
    }
   },
   "outputs": [],
   "source": [
    "import numpy as np\n",
    "from matplotlib import pyplot as plt\n",
    "import random\n",
    "from util import inv"
   ]
  },
  {
   "cell_type": "markdown",
   "metadata": {},
   "source": [
    "## Zadanie 1 (2 pkt.)"
   ]
  },
  {
   "cell_type": "markdown",
   "metadata": {},
   "source": [
    "Napisz funkcję **gen(a,b,p)**, która generuje listę punktów reprezentujących krzywą eliptyczną nad $\\mathbb{Z}_p$ o równaniu $y^2=(x^3+ax+b)\\mod p$."
   ]
  },
  {
   "cell_type": "code",
   "execution_count": 2,
   "metadata": {
    "ExecuteTime": {
     "end_time": "2023-12-21T14:18:15.745020Z",
     "start_time": "2023-12-21T14:18:15.740107Z"
    }
   },
   "outputs": [],
   "source": [
    "def gen(a, b, p):\n",
    "    result = []\n",
    "\n",
    "    for x in range(p):\n",
    "        for y in range(p):\n",
    "            left_side = (y ** 2) % p\n",
    "            right_side = (x ** 3 + a * x + b) % p\n",
    "\n",
    "            if left_side == right_side:\n",
    "                result.append([x, y])\n",
    "    return result"
   ]
  },
  {
   "cell_type": "code",
   "execution_count": 3,
   "metadata": {
    "ExecuteTime": {
     "end_time": "2023-12-21T14:18:15.747985Z",
     "start_time": "2023-12-21T14:18:15.744739Z"
    }
   },
   "outputs": [
    {
     "name": "stdout",
     "output_type": "stream",
     "text": [
      "True\n",
      "True\n",
      "True\n",
      "True\n"
     ]
    }
   ],
   "source": [
    "print(gen(-1, 0, 7) == [[0, 0], [1, 0], [4, 2], [4, 5], [5, 1], [5, 6], [6, 0]])\n",
    "print(gen(-1, 0, 11) == [[0, 0], [1, 0], [4, 4], [4, 7], [6, 1], [6, 10], [8, 3], [8, 8], [9, 4], [9, 7], [10, 0]])\n",
    "print(gen(-1, 1, 7) == [[0, 1], [0, 6], [1, 1], [1, 6], [2, 0], [3, 2], [3, 5], [5, 3], [5, 4], [6, 1], [6, 6]])\n",
    "print(gen(0, 2, 5) == [[2, 0], [3, 2], [3, 3], [4, 1], [4, 4]])"
   ]
  },
  {
   "cell_type": "markdown",
   "metadata": {},
   "source": [
    "## Zadanie 2 (2 pkt.)"
   ]
  },
  {
   "cell_type": "markdown",
   "metadata": {},
   "source": [
    "Napisz funkcję **add(P,Q,a,p)**, która dodaje do siebie punkty $P$ i $Q$ na krzywej eliptycznej nad ciałem $\\mathbb{Z}_p$ z parametrem $a$. Wykorzystaj wzory z wykładu.\n",
    "\n",
    "$$x_3 = \\left(s^2-x_1-x_2\\right) \\mod p$$\n",
    "$$y_3 = \\left(s\\left(x_1-x_3\\right)-y_1 \\right) \\mod p$$\n",
    "\n",
    "$$s=\\frac{y_2-y_1}{x_2-x_1} \\mod p \\quad P\\neq Q$$\n",
    "$$s=\\frac{3x_1^2+a}{2y_1} \\mod p \\quad P=Q$$\n",
    "\n",
    "$(x_3, y_3)$ to współrzędne punktu będącego sumą punktów $(x_1, y_1)$ i $(x_2, y_2)$. Natomiast $a$ to współczynnik z równania krzywej.\n",
    "\n",
    "Uwaga 1: wszystkie operacje w tych wzorach są na ciele $\\mathbb{Z}_p$ zatem tam gdzie mamy dzielenie mamy tak naprawdę mnożenie przez odwrotność w tym ciele, wykorzystaj tutaj funkcję **inv** z poprzedniej listy, może być potrzeba ją nieco zmodyfikować, ponieważ może się tu pojawić dzielenie przez zero, które daje nam punkt \"w nieskończości\" (na wykładzie: $\\mathcal{O}$).\n",
    "\n",
    "Uwaga 2: Uwzględnij również, że zarówno w wyniku dodawania jak i w argumentach dodawanie może pojawić się punkt \"w nieskończoności\", zwracaj go jako **nan**, tj. za pomocą **float('nan')**, do sprawdzania czy coś jest **nan** użyj **np.isnan()**."
   ]
  },
  {
   "cell_type": "code",
   "execution_count": 4,
   "metadata": {
    "ExecuteTime": {
     "end_time": "2023-12-21T14:18:15.753780Z",
     "start_time": "2023-12-21T14:18:15.748166Z"
    }
   },
   "outputs": [],
   "source": [
    "def add(P, Q, a, p):\n",
    "    px, py = P\n",
    "    qx, qy = Q\n",
    "\n",
    "    if np.isnan(px) or np.isnan(py):\n",
    "        return Q\n",
    "    elif np.isnan(qx) or np.isnan(qy):\n",
    "        return P\n",
    "\n",
    "    if P == Q:\n",
    "        if py == 0:\n",
    "            return [float('nan'), float('nan')]\n",
    "\n",
    "        s = (3 * px ** 2 + a) * inv(2 * py, p)\n",
    "    else:\n",
    "        if qx - px == 0:\n",
    "            return [float('nan'), float('nan')]\n",
    "\n",
    "        s = (qy - py) * inv(qx - px, p)\n",
    "\n",
    "    s %= p\n",
    "\n",
    "    x = (s ** 2 - px - qx) % p\n",
    "    y = (s * (px - x) - py) % p\n",
    "\n",
    "    return [x, y]"
   ]
  },
  {
   "cell_type": "code",
   "execution_count": 5,
   "metadata": {
    "ExecuteTime": {
     "end_time": "2023-12-21T14:18:15.759771Z",
     "start_time": "2023-12-21T14:18:15.754727Z"
    }
   },
   "outputs": [
    {
     "name": "stdout",
     "output_type": "stream",
     "text": [
      "True\n",
      "True\n",
      "True\n",
      "True\n",
      "[ True  True]\n",
      "[ True  True]\n",
      "True\n",
      "[ True  True]\n"
     ]
    }
   ],
   "source": [
    "print(add([4, 2], [5, 1], -1, 7) == [6, 0])\n",
    "print(add([4, 2], [4, 2], -1, 7) == [1, 0])\n",
    "print(add([4, 2], [5, 1], -1, 7) == [6, 0])\n",
    "print(add([4, 2], [float('nan'), float('nan')], -1, 7) == [4, 2])\n",
    "print(np.isnan(add([float('nan'), float('nan')], [float('nan'), float('nan')], -1, 7)))\n",
    "print(np.isnan(add([0, 0], [0, 0], -1, 7)))\n",
    "print(add([2, 0], [3, 2], 0, 5) == [4, 1])\n",
    "print(np.isnan(add([2, 0], [2, 0], 0, 5)))"
   ]
  },
  {
   "cell_type": "markdown",
   "metadata": {},
   "source": [
    "W oparciu o poprzednią funkcję napisz funkcję **multiply(n,P,a,p)**, która mnoży punkt $P$ razy liczbę naturalną $n$ na krzywej eliptycznej nad ciałem $\\mathbb{Z}_p$ z parametrem $a$, tzn. dodaje ten punkt do siebie $n$ razy."
   ]
  },
  {
   "cell_type": "code",
   "execution_count": 6,
   "metadata": {
    "ExecuteTime": {
     "end_time": "2023-12-21T14:18:15.759914Z",
     "start_time": "2023-12-21T14:18:15.757529Z"
    }
   },
   "outputs": [],
   "source": [
    "def multiply(n, P, a, p):\n",
    "    result = [float('nan'), float('nan')]\n",
    "\n",
    "    for _ in range(n):\n",
    "        result = add(result, P, a, p)\n",
    "\n",
    "    return result"
   ]
  },
  {
   "cell_type": "code",
   "execution_count": 7,
   "metadata": {
    "ExecuteTime": {
     "end_time": "2023-12-21T14:18:15.794713Z",
     "start_time": "2023-12-21T14:18:15.761537Z"
    }
   },
   "outputs": [
    {
     "name": "stdout",
     "output_type": "stream",
     "text": [
      "True\n",
      "True\n",
      "True\n",
      "[ True  True]\n",
      "[ True  True]\n",
      "True\n",
      "True\n"
     ]
    }
   ],
   "source": [
    "print(multiply(1, [4, 2], -1, 7) == [4, 2])\n",
    "print(multiply(1, [4, 2], -1, 7) == [4, 2])\n",
    "print(multiply(3, [4, 2], -1, 7) == [4, 5])\n",
    "print(np.isnan(multiply(4, [4, 2], -1, 7)))\n",
    "print(np.isnan(multiply(2, [float('nan'), float('nan')], -1, 7)))\n",
    "print(multiply(5, [2, 0], 0, 5) == [2, 0])\n",
    "print(multiply(5, [3, 3], 0, 5) == [3, 2])"
   ]
  },
  {
   "cell_type": "markdown",
   "metadata": {},
   "source": [
    "## Zadanie 3 (2 pkt.)"
   ]
  },
  {
   "cell_type": "markdown",
   "metadata": {},
   "source": [
    "Narysuj na wykresie punkty (**plt.scatter()**) reprezentujące krzywą eliptyczną. Stosując funkcję **multiply()** przeanalizuj jaką grupę generuje każdy z punktów tej krzywej, wypisz te grupy. Nie automatyzuj tego, tzn. operacje na punktach wykonuj stosując wcześniejsze funkcje ale analizę poszczególnych grup przeprowadź ręcznie.\n",
    "\n",
    "Na przykład dla krzywej $y^2=x^3-5x$ nad ciałem $\\mathbb{Z}_5$ mamy 5 punktów (łącznie z punktem w nieskończoności, którego nie ma na wykresie, 6 punktów):\n",
    "\n",
    "<img src=\"fig.png\" width=\"500\"/>\n",
    "\n",
    "Punkt $P_0$ generuje dwuelementową grupę:\n",
    "\n",
    "{$P_0,\\mathcal{O}$},\n",
    "\n",
    "bo $2P_0=\\mathcal{O}$,\n",
    "\n",
    "punkt $P_1$ generuje pięcioelementową grupę:\n",
    "\n",
    "{$P_1,P_3,P_4,P_2,\\mathcal{O}$}\n",
    "\n",
    "bo $2P_1=P_3,3P_1=P_4,4P_1=P_2,5P_1=\\mathcal{O}$\n",
    "\n",
    "pozostałe elementy $P_2,P_3,P_4$ generują dokładnie tą samą grupę, zatem na tej krzywej mamy określone dwie grupy jedną dwuelementową i jedną pięcioelementową.\n",
    "\n",
    "Przeprowadź podobną analizę dla przykładów:\n",
    "1. krzywa nad ciałem $\\mathbb{Z}_7$ o równaniu $y^2=x^3-x$\n",
    "2. krzywa nad ciałem $\\mathbb{Z}_5$ o równaniu $y^2=x^3-2x+1$"
   ]
  },
  {
   "cell_type": "code",
   "execution_count": 7,
   "outputs": [],
   "source": [],
   "metadata": {
    "collapsed": false,
    "ExecuteTime": {
     "end_time": "2023-12-21T14:18:15.802150Z",
     "start_time": "2023-12-21T14:18:15.763559Z"
    }
   }
  },
  {
   "cell_type": "markdown",
   "metadata": {},
   "source": [
    "## Zadanie 4 (1 pkt)"
   ]
  },
  {
   "cell_type": "markdown",
   "metadata": {},
   "source": [
    "Sprawdź numerycznie, korzystając z funkcji **gen()**, twierdzenie Hassego. Sprawdź, że ze wzrostem liczby pierwszej $p$ dla krzywej o parametrach $a=-1$, $b=0$ liczba punktów na krzywej podąża za oszacowaniem $p+1-2\\sqrt{p}\\leq\\#E\\leq p+1+2\\sqrt{p}$. Narysuj wykres $\\#E(p)$ i proste o równaniach $p+1-2\\sqrt{p}$ oraz $p+1+2\\sqrt{p}$.\n",
    "\n",
    "Uwaga: Możesz wygenerować liczby pierwsze, np. w zakresie od 0 do 1000, za pomocą:"
   ]
  },
  {
   "cell_type": "code",
   "execution_count": 8,
   "metadata": {
    "ExecuteTime": {
     "end_time": "2023-12-21T14:18:16.062090Z",
     "start_time": "2023-12-21T14:18:15.765666Z"
    }
   },
   "outputs": [],
   "source": [
    "from sympy import primerange\n",
    "\n",
    "p_vals = list(primerange(0, 100))"
   ]
  },
  {
   "cell_type": "markdown",
   "metadata": {},
   "source": [
    "lub jakkolwiek inaczej."
   ]
  },
  {
   "cell_type": "code",
   "execution_count": 9,
   "outputs": [],
   "source": [
    "def hasse_estimate(p):\n",
    "    return p + 1 - 2 * int(np.sqrt(p)), p + 1 + 2 * int(np.sqrt(p))"
   ],
   "metadata": {
    "collapsed": false,
    "ExecuteTime": {
     "end_time": "2023-12-21T14:18:16.067726Z",
     "start_time": "2023-12-21T14:18:16.062663Z"
    }
   }
  },
  {
   "cell_type": "code",
   "execution_count": 10,
   "outputs": [],
   "source": [
    "points = []\n",
    "for p in p_vals:\n",
    "    point = gen(-1, 0, p)\n",
    "    points.append(len(point))"
   ],
   "metadata": {
    "collapsed": false,
    "ExecuteTime": {
     "end_time": "2023-12-21T14:18:16.096716Z",
     "start_time": "2023-12-21T14:18:16.077178Z"
    }
   }
  },
  {
   "cell_type": "code",
   "execution_count": 11,
   "outputs": [
    {
     "data": {
      "text/plain": "<Figure size 640x480 with 1 Axes>",
      "image/png": "[encoded data removed]"
     },
     "metadata": {},
     "output_type": "display_data"
    }
   ],
   "source": [
    "plt.plot(p_vals, points, label='Number of points')\n",
    "lower_bound, upper_bound = zip(*[hasse_estimate(p) for p in p_vals])\n",
    "plt.plot(p_vals, lower_bound, label='Lower bound')\n",
    "plt.plot(p_vals, upper_bound, label='Upper bound')\n",
    "plt.xlabel('p')\n",
    "plt.ylabel('Number of p')\n",
    "plt.legend()\n",
    "plt.show()"
   ],
   "metadata": {
    "collapsed": false,
    "ExecuteTime": {
     "end_time": "2023-12-21T14:18:16.192017Z",
     "start_time": "2023-12-21T14:18:16.097473Z"
    }
   }
  },
  {
   "cell_type": "markdown",
   "metadata": {},
   "source": [
    "## Zadanie 5 (2 pkt.)"
   ]
  },
  {
   "cell_type": "markdown",
   "metadata": {},
   "source": [
    "Napisz funkcję **ord(G,a,p)** znajdującą rząd punktu $G$ na krzywej o parametrach $a$, $p$ (oznaczenia jak w poprzednich zadaniach). Rząd elementu to $n$ takie, że $nG=\\mathcal{O}$. Znajdź punkt na krzywej o parametrach $a=-1$,$b=0$,$p=97$ o największym rzędzie, moze ich być więcej niż jeden, wybierz którykolwiek."
   ]
  },
  {
   "cell_type": "code",
   "execution_count": 12,
   "metadata": {
    "ExecuteTime": {
     "end_time": "2023-12-21T14:18:16.192132Z",
     "start_time": "2023-12-21T14:18:16.188522Z"
    }
   },
   "outputs": [],
   "source": [
    "def ord(G, a, p):\n",
    "    order = 1\n",
    "    current_point = G\n",
    "\n",
    "    while not np.isnan(current_point[0]):\n",
    "        order += 1\n",
    "        current_point = multiply(order, G, a, p)\n",
    "\n",
    "    return order"
   ]
  },
  {
   "cell_type": "code",
   "execution_count": 13,
   "metadata": {
    "ExecuteTime": {
     "end_time": "2023-12-21T14:18:16.200032Z",
     "start_time": "2023-12-21T14:18:16.195322Z"
    }
   },
   "outputs": [
    {
     "name": "stdout",
     "output_type": "stream",
     "text": [
      "True\n",
      "True\n",
      "True\n",
      "True\n",
      "True\n",
      "True\n"
     ]
    }
   ],
   "source": [
    "print(ord([4, 4], -1, 11) == 3)\n",
    "print(ord([8, 8], -1, 11) == 6)\n",
    "print(ord([3, 2], -1, 7) == 3)\n",
    "print(ord([3, 5], -1, 7) == 3)\n",
    "print(ord([3, 2], 0, 5) == 3)\n",
    "print(ord([0, 0], 0, 5) == 2)"
   ]
  },
  {
   "cell_type": "code",
   "execution_count": 14,
   "outputs": [],
   "source": [
    "def find_max_order_point(a, b, p):\n",
    "    points = gen(a, b, p)\n",
    "\n",
    "    max_order = 0\n",
    "    max_order_point = None\n",
    "\n",
    "    for point in points:\n",
    "        current_order = ord(point, a, p)\n",
    "\n",
    "        if current_order > max_order:\n",
    "            max_order = current_order\n",
    "            max_order_point = point\n",
    "\n",
    "    return max_order, max_order_point"
   ],
   "metadata": {
    "collapsed": false,
    "ExecuteTime": {
     "end_time": "2023-12-21T14:18:16.206042Z",
     "start_time": "2023-12-21T14:18:16.199948Z"
    }
   }
  },
  {
   "cell_type": "code",
   "execution_count": 15,
   "outputs": [
    {
     "data": {
      "text/plain": "(20, [6, 4])"
     },
     "execution_count": 15,
     "metadata": {},
     "output_type": "execute_result"
    }
   ],
   "source": [
    "a = -1\n",
    "b = 0\n",
    "p = 97\n",
    "\n",
    "find_max_order_point(a, b, p)"
   ],
   "metadata": {
    "collapsed": false,
    "ExecuteTime": {
     "end_time": "2023-12-21T14:18:16.329915Z",
     "start_time": "2023-12-21T14:18:16.262011Z"
    }
   }
  },
  {
   "cell_type": "markdown",
   "metadata": {},
   "source": [
    "## Zadanie 6 (1 pkt)"
   ]
  },
  {
   "cell_type": "markdown",
   "metadata": {},
   "source": [
    "Prześledź działanie protokołu Diffiego-Helmana, jednak tym razem opertego o krzywe eliptyczne, i uzupełnij poszczególne kroki.\n",
    "\n",
    "Alicja i Bob ustalają publicznie krzywą eliptyczą (czyli parametry $a$, $b$, $p$) w której będą działać oraz punkt na tej krzywej $G$. Weź krzywą z poprzedniego zadania oraz znaleziony w nim punkt."
   ]
  },
  {
   "cell_type": "code",
   "execution_count": 16,
   "metadata": {
    "ExecuteTime": {
     "end_time": "2023-12-21T14:18:16.331772Z",
     "start_time": "2023-12-21T14:18:16.295623Z"
    }
   },
   "outputs": [],
   "source": [
    "a = -1\n",
    "b = 0\n",
    "p = 97\n",
    "max, G = find_max_order_point(a, b, p)"
   ]
  },
  {
   "cell_type": "markdown",
   "metadata": {},
   "source": [
    "Alicja wybiera losową liczbę naturalną $n$ z przedziału $[2,\\#E-1]$, $\\#E$ to liczba punktów na krzywej:"
   ]
  },
  {
   "cell_type": "code",
   "execution_count": 17,
   "metadata": {
    "ExecuteTime": {
     "end_time": "2023-12-21T14:18:16.332055Z",
     "start_time": "2023-12-21T14:18:16.325870Z"
    }
   },
   "outputs": [],
   "source": [
    "points = gen(a, b, p)\n",
    "n = random.randint(2, len(points)-1)"
   ]
  },
  {
   "cell_type": "markdown",
   "metadata": {},
   "source": [
    "Następnie oblicza $A=nG$ zgodnie z zasadami mnożenia punktów na krzywej przez liczbe naturalną:"
   ]
  },
  {
   "cell_type": "code",
   "execution_count": 18,
   "metadata": {
    "ExecuteTime": {
     "end_time": "2023-12-21T14:18:16.352456Z",
     "start_time": "2023-12-21T14:18:16.330908Z"
    }
   },
   "outputs": [],
   "source": [
    "A = multiply(n, G, a, p)"
   ]
  },
  {
   "cell_type": "markdown",
   "metadata": {},
   "source": [
    "To samo robi Bob, wybiera losową liczbę naturalną $m$ i oblicza $B=mG$:"
   ]
  },
  {
   "cell_type": "code",
   "execution_count": 19,
   "metadata": {
    "ExecuteTime": {
     "end_time": "2023-12-21T14:18:16.352644Z",
     "start_time": "2023-12-21T14:18:16.336756Z"
    }
   },
   "outputs": [],
   "source": [
    "m = random.randint(2, len(points)-1)\n",
    "B = multiply(m, G, a, p)"
   ]
  },
  {
   "cell_type": "markdown",
   "metadata": {},
   "source": [
    "Liczby $n$ i $m$ są znane tylko, odpowiednio, Alicji i Bobowi, natomiast $A$ oraz $B$ są wymieniane publicznym kanałem. Bob otrzymuje $A$ i wykonuje operację $k_B=mA$, z kolei Alicja otrzymuje $B$ i wykonuje operację $k_A=nB$:"
   ]
  },
  {
   "cell_type": "code",
   "execution_count": 20,
   "metadata": {
    "ExecuteTime": {
     "end_time": "2023-12-21T14:18:16.352965Z",
     "start_time": "2023-12-21T14:18:16.341574Z"
    }
   },
   "outputs": [],
   "source": [
    "k_B = multiply(m, A, a, p)\n",
    "k_A = multiply(n, B, a, p)"
   ]
  },
  {
   "cell_type": "code",
   "execution_count": 21,
   "metadata": {
    "ExecuteTime": {
     "end_time": "2023-12-21T14:18:16.399528Z",
     "start_time": "2023-12-21T14:18:16.346559Z"
    }
   },
   "outputs": [
    {
     "data": {
      "text/plain": "True"
     },
     "execution_count": 21,
     "metadata": {},
     "output_type": "execute_result"
    }
   ],
   "source": [
    "k_A == k_B"
   ]
  },
  {
   "cell_type": "markdown",
   "metadata": {},
   "source": [
    "Zawuażmy, że $k_A=k_B$, wynika to z tego, że $k_A=nB=nmG$ oraz $k_B=mA=mnG$ a oczywiście $nm=mn$. Zatem Alicja i Bob dysponują tą samą liczbą, którą mogą użyć jako klucz do szyfrowania. Publicznie znane są wartości $a$, $b$, $p$, $G$, $nG$ oraz $mG$, jednak odzyskanie z nich $n$ i $m$ jest bardzo trudne przy odpwiednim doborze krzywej i punktu na niej."
   ]
  }
 ],
 "metadata": {
  "kernelspec": {
   "display_name": "Python 3.10.4 ('QSVM')",
   "language": "python",
   "name": "python3"
  },
  "language_info": {
   "codemirror_mode": {
    "name": "ipython",
    "version": 3
   },
   "file_extension": ".py",
   "mimetype": "text/x-python",
   "name": "python",
   "nbconvert_exporter": "python",
   "pygments_lexer": "ipython3",
   "version": "3.10.4"
  },
  "vscode": {
   "interpreter": {
    "hash": "96ad6c7fd9d06889208fc918e485ee5403ac6f6c27ad3f857e9a26d0c3a3092d"
   }
  }
 },
 "nbformat": 4,
 "nbformat_minor": 4
}
