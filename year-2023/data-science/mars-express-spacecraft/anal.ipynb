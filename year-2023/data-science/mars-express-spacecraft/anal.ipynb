{
 "cells": [
  {
   "cell_type": "code",
   "execution_count": 24,
   "outputs": [],
   "source": [
    "import re\n",
    "\n",
    "import matplotlib.pyplot as plt\n",
    "import pandas as pd\n",
    "from sklearn.multioutput import MultiOutputRegressor"
   ],
   "metadata": {
    "collapsed": false
   }
  },
  {
   "cell_type": "code",
   "execution_count": 25,
   "outputs": [
    {
     "name": "stderr",
     "output_type": "stream",
     "text": [
      "/var/folders/nt/d84s2rjx7cqf7p48l6btqq280000gn/T/ipykernel_45662/215523502.py:1: DtypeWarning: Columns (1,2,3,4,5,6,7,8,9,10,11,12,13,14,15,16,17,18,19,20,21,22,23,24,25,26,27,28,29,30,31,32,33,34,35,36,37,38,39,40,41,42,43,44,45,46,47,48,49,50,51,52,53,54,55,56,57,58,59,60,61,62,63,64,65,66,67,68,69,70,71,72,73,74,75,76,77,481,482,485,486,487,488,489,490,491,492,493,494,495,496,497,498,499,500,501,502,503,504,505,506,507,508,509,510,511,512,513,514,515,516,517) have mixed types. Specify dtype option on import or set low_memory=False.\n",
      "  df = pd.read_csv(\"data60.csv\", low_memory=True, parse_dates=['ut_ms'])\n"
     ]
    }
   ],
   "source": [
    "df = pd.read_csv(\"data60.csv\", low_memory=True, parse_dates=['ut_ms'])\n",
    "df = df.sample(frac=0.009)"
   ],
   "metadata": {
    "collapsed": false
   }
  },
  {
   "cell_type": "code",
   "execution_count": 26,
   "outputs": [],
   "source": [
    "df = df.replace(to_replace='?', value=0)\n",
    "df = df.apply(pd.to_numeric)\n",
    "df = df.rename(columns=lambda x: re.sub('[^A-Za-z0-9_]+', '', x))"
   ],
   "metadata": {
    "collapsed": false
   }
  },
  {
   "cell_type": "code",
   "execution_count": 27,
   "outputs": [],
   "source": [
    "df = df.fillna(0)"
   ],
   "metadata": {
    "collapsed": false
   }
  },
  {
   "cell_type": "code",
   "execution_count": 5,
   "outputs": [],
   "source": [
    "# df['date'] = pd.to_datetime(df['ut_ms'], unit='ms')\n",
    "# df.drop('ut_ms', axis=1, inplace=True)"
   ],
   "metadata": {
    "collapsed": false
   }
  },
  {
   "cell_type": "code",
   "execution_count": 28,
   "outputs": [
    {
     "name": "stdout",
     "output_type": "stream",
     "text": [
      "<class 'pandas.core.frame.DataFrame'>\n",
      "Int64Index: 594 entries, 2401 to 27991\n",
      "Columns: 518 entries, ut_ms to NPWD2882\n",
      "dtypes: float64(152), int64(366)\n",
      "memory usage: 2.4 MB\n"
     ]
    }
   ],
   "source": [
    "df.info()"
   ],
   "metadata": {
    "collapsed": false
   }
  },
  {
   "cell_type": "code",
   "execution_count": 34,
   "outputs": [
    {
     "data": {
      "text/plain": "               ut_ms  panelsJm2influx  frontJm2influx  backJm2influx  \\\n2401   1228006860000     2.189148e+09    2.184075e+09            0.0   \n46534  1386885660000     1.776343e+09    1.531657e+09            0.0   \n22438  1300140060000     2.571076e+09    2.523063e+09            0.0   \n11865  1262077260000     1.663272e+09    8.847876e+08            0.0   \n56668  1423368060000     2.492842e+09    2.387430e+09            0.0   \n\n       leftJm2influx  rightJm2influx   upJm2influx  downJm2influx  \\\n2401    9.934105e+06    0.000000e+00  1.488970e+08   0.000000e+00   \n46534   6.910445e+06    0.000000e+00  0.000000e+00   8.996352e+08   \n22438   5.486351e-08    1.716718e+07  3.120188e+08   8.025341e+07   \n11865   3.612519e+08    0.000000e+00  0.000000e+00   1.084597e+09   \n56668   1.945134e+07    0.000000e+00  0.000000e+00   7.172676e+08   \n\n       panelssum1Jm2influx_sum  panelssum1decay09Jm2influx_sum  ...  NPWD2792  \\\n2401              2.188989e+09                    1.970090e+09  ...  0.000594   \n46534             1.775682e+09                    1.598114e+09  ...  0.001408   \n22438             2.576210e+09                    2.318589e+09  ...  0.001075   \n11865             2.935116e+08                    2.641604e+08  ...  0.000574   \n56668             2.455040e+09                    2.209536e+09  ...  0.001632   \n\n       NPWD2801  NPWD2802  NPWD2821  NPWD2851  NPWD2852  NPWD2871  NPWD2872  \\\n2401   0.001532  0.159098  0.005744  0.005226  0.000530  0.000527  0.000746   \n46534  0.001599  0.085901  0.005874  0.636498  0.000528  0.000530  0.000756   \n22438  0.001545  0.251356  0.006021  0.350618  0.000547  0.000532  0.000767   \n11865  0.001495  0.002307  0.005758  0.263895  0.000526  0.000523  0.000740   \n56668  0.001540  0.027847  0.005796  0.207586  0.000526  0.000525  0.000736   \n\n       NPWD2881  NPWD2882  \n2401   0.006939  0.003457  \n46534  0.006847  0.003463  \n22438  0.006861  0.003400  \n11865  0.006771  0.003359  \n56668  0.006781  0.003390  \n\n[5 rows x 518 columns]",
      "text/html": "<div>\n<style scoped>\n    .dataframe tbody tr th:only-of-type {\n        vertical-align: middle;\n    }\n\n    .dataframe tbody tr th {\n        vertical-align: top;\n    }\n\n    .dataframe thead th {\n        text-align: right;\n    }\n</style>\n<table border=\"1\" class=\"dataframe\">\n  <thead>\n    <tr style=\"text-align: right;\">\n      <th></th>\n      <th>ut_ms</th>\n      <th>panelsJm2influx</th>\n      <th>frontJm2influx</th>\n      <th>backJm2influx</th>\n      <th>leftJm2influx</th>\n      <th>rightJm2influx</th>\n      <th>upJm2influx</th>\n      <th>downJm2influx</th>\n      <th>panelssum1Jm2influx_sum</th>\n      <th>panelssum1decay09Jm2influx_sum</th>\n      <th>...</th>\n      <th>NPWD2792</th>\n      <th>NPWD2801</th>\n      <th>NPWD2802</th>\n      <th>NPWD2821</th>\n      <th>NPWD2851</th>\n      <th>NPWD2852</th>\n      <th>NPWD2871</th>\n      <th>NPWD2872</th>\n      <th>NPWD2881</th>\n      <th>NPWD2882</th>\n    </tr>\n  </thead>\n  <tbody>\n    <tr>\n      <th>2401</th>\n      <td>1228006860000</td>\n      <td>2.189148e+09</td>\n      <td>2.184075e+09</td>\n      <td>0.0</td>\n      <td>9.934105e+06</td>\n      <td>0.000000e+00</td>\n      <td>1.488970e+08</td>\n      <td>0.000000e+00</td>\n      <td>2.188989e+09</td>\n      <td>1.970090e+09</td>\n      <td>...</td>\n      <td>0.000594</td>\n      <td>0.001532</td>\n      <td>0.159098</td>\n      <td>0.005744</td>\n      <td>0.005226</td>\n      <td>0.000530</td>\n      <td>0.000527</td>\n      <td>0.000746</td>\n      <td>0.006939</td>\n      <td>0.003457</td>\n    </tr>\n    <tr>\n      <th>46534</th>\n      <td>1386885660000</td>\n      <td>1.776343e+09</td>\n      <td>1.531657e+09</td>\n      <td>0.0</td>\n      <td>6.910445e+06</td>\n      <td>0.000000e+00</td>\n      <td>0.000000e+00</td>\n      <td>8.996352e+08</td>\n      <td>1.775682e+09</td>\n      <td>1.598114e+09</td>\n      <td>...</td>\n      <td>0.001408</td>\n      <td>0.001599</td>\n      <td>0.085901</td>\n      <td>0.005874</td>\n      <td>0.636498</td>\n      <td>0.000528</td>\n      <td>0.000530</td>\n      <td>0.000756</td>\n      <td>0.006847</td>\n      <td>0.003463</td>\n    </tr>\n    <tr>\n      <th>22438</th>\n      <td>1300140060000</td>\n      <td>2.571076e+09</td>\n      <td>2.523063e+09</td>\n      <td>0.0</td>\n      <td>5.486351e-08</td>\n      <td>1.716718e+07</td>\n      <td>3.120188e+08</td>\n      <td>8.025341e+07</td>\n      <td>2.576210e+09</td>\n      <td>2.318589e+09</td>\n      <td>...</td>\n      <td>0.001075</td>\n      <td>0.001545</td>\n      <td>0.251356</td>\n      <td>0.006021</td>\n      <td>0.350618</td>\n      <td>0.000547</td>\n      <td>0.000532</td>\n      <td>0.000767</td>\n      <td>0.006861</td>\n      <td>0.003400</td>\n    </tr>\n    <tr>\n      <th>11865</th>\n      <td>1262077260000</td>\n      <td>1.663272e+09</td>\n      <td>8.847876e+08</td>\n      <td>0.0</td>\n      <td>3.612519e+08</td>\n      <td>0.000000e+00</td>\n      <td>0.000000e+00</td>\n      <td>1.084597e+09</td>\n      <td>2.935116e+08</td>\n      <td>2.641604e+08</td>\n      <td>...</td>\n      <td>0.000574</td>\n      <td>0.001495</td>\n      <td>0.002307</td>\n      <td>0.005758</td>\n      <td>0.263895</td>\n      <td>0.000526</td>\n      <td>0.000523</td>\n      <td>0.000740</td>\n      <td>0.006771</td>\n      <td>0.003359</td>\n    </tr>\n    <tr>\n      <th>56668</th>\n      <td>1423368060000</td>\n      <td>2.492842e+09</td>\n      <td>2.387430e+09</td>\n      <td>0.0</td>\n      <td>1.945134e+07</td>\n      <td>0.000000e+00</td>\n      <td>0.000000e+00</td>\n      <td>7.172676e+08</td>\n      <td>2.455040e+09</td>\n      <td>2.209536e+09</td>\n      <td>...</td>\n      <td>0.001632</td>\n      <td>0.001540</td>\n      <td>0.027847</td>\n      <td>0.005796</td>\n      <td>0.207586</td>\n      <td>0.000526</td>\n      <td>0.000525</td>\n      <td>0.000736</td>\n      <td>0.006781</td>\n      <td>0.003390</td>\n    </tr>\n  </tbody>\n</table>\n<p>5 rows × 518 columns</p>\n</div>"
     },
     "execution_count": 34,
     "metadata": {},
     "output_type": "execute_result"
    }
   ],
   "source": [
    "df.head()"
   ],
   "metadata": {
    "collapsed": false
   }
  },
  {
   "cell_type": "code",
   "execution_count": 45,
   "outputs": [
    {
     "data": {
      "text/plain": "[<matplotlib.lines.Line2D at 0x159e50790>]"
     },
     "execution_count": 45,
     "metadata": {},
     "output_type": "execute_result"
    },
    {
     "data": {
      "text/plain": "<Figure size 640x480 with 1 Axes>",
      "image/png": "[encoded data removed]"
     },
     "metadata": {},
     "output_type": "display_data"
    }
   ],
   "source": [
    "plt.plot_date(pd.to_datetime(df['ut_ms'], unit='ms'), df.NPWD2372)\n",
    "plt.plot_date(pd.to_datetime(df['ut_ms'], unit='ms'), df.NPWD2852)\n",
    "plt.plot_date(pd.to_datetime(df['ut_ms'], unit='ms'), df.NPWD2472)"
   ],
   "metadata": {
    "collapsed": false
   }
  },
  {
   "cell_type": "markdown",
   "source": [
    "# Models"
   ],
   "metadata": {
    "collapsed": false
   }
  },
  {
   "cell_type": "code",
   "execution_count": 8,
   "outputs": [],
   "source": [
    "X = df.iloc[:, 0:485]\n",
    "y = df.iloc[:, 485:]"
   ],
   "metadata": {
    "collapsed": false
   }
  },
  {
   "cell_type": "code",
   "execution_count": 9,
   "outputs": [],
   "source": [
    "from sklearn.model_selection import train_test_split\n",
    "\n",
    "X_train, X_test, y_train, y_test = train_test_split(X, y, train_size=0.2)"
   ],
   "metadata": {
    "collapsed": false
   }
  },
  {
   "cell_type": "markdown",
   "source": [
    "# LogisticRegression"
   ],
   "metadata": {
    "collapsed": false
   }
  },
  {
   "cell_type": "code",
   "execution_count": 16,
   "outputs": [],
   "source": [],
   "metadata": {
    "collapsed": false
   }
  },
  {
   "cell_type": "code",
   "execution_count": 16,
   "outputs": [],
   "source": [],
   "metadata": {
    "collapsed": false
   }
  },
  {
   "cell_type": "code",
   "execution_count": 16,
   "outputs": [],
   "source": [],
   "metadata": {
    "collapsed": false
   }
  },
  {
   "cell_type": "markdown",
   "source": [
    "# GradientBoostingRegressor"
   ],
   "metadata": {
    "collapsed": false
   }
  },
  {
   "cell_type": "code",
   "execution_count": 10,
   "outputs": [],
   "source": [
    "from sklearn.ensemble import GradientBoostingRegressor\n",
    "\n",
    "gbr = MultiOutputRegressor(GradientBoostingRegressor())\n",
    "gbr.fit(X_train, y_train)\n",
    "y_pred = gbr.predict(X_test)"
   ],
   "metadata": {
    "collapsed": false
   }
  },
  {
   "cell_type": "code",
   "execution_count": 11,
   "outputs": [
    {
     "data": {
      "text/plain": "0.9954903107673331"
     },
     "execution_count": 11,
     "metadata": {},
     "output_type": "execute_result"
    }
   ],
   "source": [
    "gbr.score(X_train, y_train)"
   ],
   "metadata": {
    "collapsed": false
   }
  },
  {
   "cell_type": "code",
   "execution_count": 12,
   "outputs": [
    {
     "data": {
      "text/plain": "array([[0.13573882, 0.00150732, 0.17498363, ..., 0.00074136, 0.00642436,\n        0.003368  ],\n       [0.13591928, 0.00150944, 0.17547151, ..., 0.00073893, 0.00718842,\n        0.00336943],\n       [0.12352863, 0.00152955, 0.17490216, ..., 0.00074099, 0.00715429,\n        0.00338539],\n       ...,\n       [0.12471649, 0.00153003, 0.17569825, ..., 0.00074744, 0.00660571,\n        0.00343515],\n       [0.09750145, 0.00154136, 0.17543672, ..., 0.00075366, 0.00767443,\n        0.00338819],\n       [0.11522259, 0.00152054, 0.17554481, ..., 0.00073913, 0.00660571,\n        0.003314  ]])"
     },
     "execution_count": 12,
     "metadata": {},
     "output_type": "execute_result"
    }
   ],
   "source": [
    "y_pred"
   ],
   "metadata": {
    "collapsed": false
   }
  },
  {
   "cell_type": "markdown",
   "source": [
    "# RandomForestRegressor"
   ],
   "metadata": {
    "collapsed": false
   }
  },
  {
   "cell_type": "markdown",
   "source": [],
   "metadata": {
    "collapsed": false
   }
  },
  {
   "cell_type": "code",
   "execution_count": 13,
   "outputs": [],
   "source": [
    "from sklearn.ensemble import RandomForestRegressor\n",
    "\n",
    "rfm = MultiOutputRegressor(RandomForestRegressor())\n",
    "rfm.fit(X_train, y_train)\n",
    "y_pred = rfm.predict(X_test)"
   ],
   "metadata": {
    "collapsed": false
   }
  },
  {
   "cell_type": "code",
   "execution_count": 14,
   "outputs": [
    {
     "data": {
      "text/plain": "0.8512948360324877"
     },
     "execution_count": 14,
     "metadata": {},
     "output_type": "execute_result"
    }
   ],
   "source": [
    "rfm.score(X_train, y_train)"
   ],
   "metadata": {
    "collapsed": false
   }
  },
  {
   "cell_type": "code",
   "execution_count": 15,
   "outputs": [
    {
     "data": {
      "text/plain": "array([[0.12221098, 0.00143609, 0.17353271, ..., 0.00072953, 0.00683181,\n        0.00334443],\n       [0.13618113, 0.00151998, 0.17550904, ..., 0.00074287, 0.00681548,\n        0.00338736],\n       [0.12069087, 0.00151447, 0.17500481, ..., 0.00073796, 0.00672109,\n        0.00335199],\n       ...,\n       [0.13100495, 0.0015332 , 0.17550819, ..., 0.00074713, 0.00672086,\n        0.00337693],\n       [0.09758509, 0.00152905, 0.1755362 , ..., 0.00075106, 0.00678888,\n        0.00338471],\n       [0.12413781, 0.00151799, 0.17538515, ..., 0.00074713, 0.00674231,\n        0.00337302]])"
     },
     "execution_count": 15,
     "metadata": {},
     "output_type": "execute_result"
    }
   ],
   "source": [
    "y_pred"
   ],
   "metadata": {
    "collapsed": false
   }
  },
  {
   "cell_type": "markdown",
   "source": [
    "# Time series model"
   ],
   "metadata": {
    "collapsed": false
   }
  },
  {
   "cell_type": "code",
   "execution_count": null,
   "outputs": [],
   "source": [],
   "metadata": {
    "collapsed": false
   }
  }
 ],
 "metadata": {
  "kernelspec": {
   "display_name": "Python 3",
   "language": "python",
   "name": "python3"
  },
  "language_info": {
   "codemirror_mode": {
    "name": "ipython",
    "version": 2
   },
   "file_extension": ".py",
   "mimetype": "text/x-python",
   "name": "python",
   "nbconvert_exporter": "python",
   "pygments_lexer": "ipython2",
   "version": "2.7.6"
  }
 },
 "nbformat": 4,
 "nbformat_minor": 0
}
