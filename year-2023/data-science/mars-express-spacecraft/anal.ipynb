{
 "cells": [
  {
   "cell_type": "code",
   "execution_count": 86,
   "outputs": [],
   "source": [
    "import re\n",
    "\n",
    "import matplotlib.pyplot as plt\n",
    "import pandas as pd\n",
    "from sklearn.multioutput import MultiOutputRegressor"
   ],
   "metadata": {
    "collapsed": false
   }
  },
  {
   "cell_type": "code",
   "execution_count": 87,
   "outputs": [],
   "source": [
    "df = pd.read_csv(\"data60.csv\", low_memory=False, parse_dates=['ut_ms'])\n",
    "df = df.sample(frac=0.001)"
   ],
   "metadata": {
    "collapsed": false
   }
  },
  {
   "cell_type": "code",
   "execution_count": 88,
   "outputs": [],
   "source": [
    "df = df.replace(to_replace='?', value=0)\n",
    "df = df.apply(pd.to_numeric)\n",
    "df = df.rename(columns=lambda x: re.sub('[^A-Za-z0-9_]+', '', x))"
   ],
   "metadata": {
    "collapsed": false
   }
  },
  {
   "cell_type": "code",
   "execution_count": 89,
   "outputs": [],
   "source": [
    "df = df.fillna(df.mean())"
   ],
   "metadata": {
    "collapsed": false
   }
  },
  {
   "cell_type": "code",
   "execution_count": 5,
   "outputs": [],
   "source": [
    "# df['date'] = pd.to_datetime(df['ut_ms'], unit='ms')\n",
    "# df.drop('ut_ms', axis=1, inplace=True)"
   ],
   "metadata": {
    "collapsed": false
   }
  },
  {
   "cell_type": "code",
   "execution_count": 90,
   "outputs": [
    {
     "name": "stdout",
     "output_type": "stream",
     "text": [
      "<class 'pandas.core.frame.DataFrame'>\n",
      "Int64Index: 66 entries, 50456 to 46668\n",
      "Columns: 518 entries, ut_ms to NPWD2882\n",
      "dtypes: float64(152), int64(366)\n",
      "memory usage: 267.6 KB\n"
     ]
    }
   ],
   "source": [
    "df.info()"
   ],
   "metadata": {
    "collapsed": false
   }
  },
  {
   "cell_type": "code",
   "execution_count": 91,
   "outputs": [
    {
     "data": {
      "text/plain": "               ut_ms  panelsJm2influx  frontJm2influx  backJm2influx  \\\n50456  1401004860000     1.933776e+09    1.823922e+09            0.0   \n20483  1293102060000     2.436550e+09    2.434897e+09            0.0   \n3949   1233579660000     2.402274e+09    2.184793e+09            0.0   \n13163  1266750060000     1.786293e+09    1.382542e+09            0.0   \n18443  1285758060000     2.119793e+09    2.034129e+09            0.0   \n\n       leftJm2influx  rightJm2influx   upJm2influx  downJm2influx  \\\n50456   7.387109e+05    0.000000e+00  0.000000e+00   7.562989e+08   \n20483   2.764297e+07    0.000000e+00  0.000000e+00   8.971499e+07   \n3949    1.261050e-09    2.086610e+07  4.723131e+08   1.653141e+08   \n13163   3.092967e+07    0.000000e+00  0.000000e+00   9.851794e+08   \n18443   4.439690e+06    0.000000e+00  0.000000e+00   5.965231e+08   \n\n       panelssum1Jm2influx_sum  panelssum1decay09Jm2influx_sum  ...  NPWD2792  \\\n50456             1.985347e+09                    1.786813e+09  ...  0.000966   \n20483             2.291757e+09                    2.062581e+09  ...  0.001389   \n3949              2.417453e+09                    2.175708e+09  ...  0.000595   \n13163             1.182975e+09                    1.064677e+09  ...  0.000587   \n18443             2.119641e+09                    1.907677e+09  ...  0.000579   \n\n       NPWD2801  NPWD2802  NPWD2821  NPWD2851  NPWD2852  NPWD2871  NPWD2872  \\\n50456  0.001482  0.077523  0.005577  0.364702  0.000506  0.000500  0.000717   \n20483  0.001548  0.046193  0.005754  0.072967  0.000537  0.000523  0.000759   \n3949   0.001559  0.031102  0.005863  0.312539  0.000539  0.000532  0.000761   \n13163  0.001533  0.002286  0.005754  0.134782  0.000531  0.000530  0.000752   \n18443  0.001547  0.062628  0.005893  0.262729  0.000532  0.000534  0.000756   \n\n       NPWD2881  NPWD2882  \n50456  0.006478  0.003239  \n20483  0.006778  0.003412  \n3949   0.006748  0.003434  \n13163  0.006780  0.003400  \n18443  0.006789  0.003400  \n\n[5 rows x 518 columns]",
      "text/html": "<div>\n<style scoped>\n    .dataframe tbody tr th:only-of-type {\n        vertical-align: middle;\n    }\n\n    .dataframe tbody tr th {\n        vertical-align: top;\n    }\n\n    .dataframe thead th {\n        text-align: right;\n    }\n</style>\n<table border=\"1\" class=\"dataframe\">\n  <thead>\n    <tr style=\"text-align: right;\">\n      <th></th>\n      <th>ut_ms</th>\n      <th>panelsJm2influx</th>\n      <th>frontJm2influx</th>\n      <th>backJm2influx</th>\n      <th>leftJm2influx</th>\n      <th>rightJm2influx</th>\n      <th>upJm2influx</th>\n      <th>downJm2influx</th>\n      <th>panelssum1Jm2influx_sum</th>\n      <th>panelssum1decay09Jm2influx_sum</th>\n      <th>...</th>\n      <th>NPWD2792</th>\n      <th>NPWD2801</th>\n      <th>NPWD2802</th>\n      <th>NPWD2821</th>\n      <th>NPWD2851</th>\n      <th>NPWD2852</th>\n      <th>NPWD2871</th>\n      <th>NPWD2872</th>\n      <th>NPWD2881</th>\n      <th>NPWD2882</th>\n    </tr>\n  </thead>\n  <tbody>\n    <tr>\n      <th>50456</th>\n      <td>1401004860000</td>\n      <td>1.933776e+09</td>\n      <td>1.823922e+09</td>\n      <td>0.0</td>\n      <td>7.387109e+05</td>\n      <td>0.000000e+00</td>\n      <td>0.000000e+00</td>\n      <td>7.562989e+08</td>\n      <td>1.985347e+09</td>\n      <td>1.786813e+09</td>\n      <td>...</td>\n      <td>0.000966</td>\n      <td>0.001482</td>\n      <td>0.077523</td>\n      <td>0.005577</td>\n      <td>0.364702</td>\n      <td>0.000506</td>\n      <td>0.000500</td>\n      <td>0.000717</td>\n      <td>0.006478</td>\n      <td>0.003239</td>\n    </tr>\n    <tr>\n      <th>20483</th>\n      <td>1293102060000</td>\n      <td>2.436550e+09</td>\n      <td>2.434897e+09</td>\n      <td>0.0</td>\n      <td>2.764297e+07</td>\n      <td>0.000000e+00</td>\n      <td>0.000000e+00</td>\n      <td>8.971499e+07</td>\n      <td>2.291757e+09</td>\n      <td>2.062581e+09</td>\n      <td>...</td>\n      <td>0.001389</td>\n      <td>0.001548</td>\n      <td>0.046193</td>\n      <td>0.005754</td>\n      <td>0.072967</td>\n      <td>0.000537</td>\n      <td>0.000523</td>\n      <td>0.000759</td>\n      <td>0.006778</td>\n      <td>0.003412</td>\n    </tr>\n    <tr>\n      <th>3949</th>\n      <td>1233579660000</td>\n      <td>2.402274e+09</td>\n      <td>2.184793e+09</td>\n      <td>0.0</td>\n      <td>1.261050e-09</td>\n      <td>2.086610e+07</td>\n      <td>4.723131e+08</td>\n      <td>1.653141e+08</td>\n      <td>2.417453e+09</td>\n      <td>2.175708e+09</td>\n      <td>...</td>\n      <td>0.000595</td>\n      <td>0.001559</td>\n      <td>0.031102</td>\n      <td>0.005863</td>\n      <td>0.312539</td>\n      <td>0.000539</td>\n      <td>0.000532</td>\n      <td>0.000761</td>\n      <td>0.006748</td>\n      <td>0.003434</td>\n    </tr>\n    <tr>\n      <th>13163</th>\n      <td>1266750060000</td>\n      <td>1.786293e+09</td>\n      <td>1.382542e+09</td>\n      <td>0.0</td>\n      <td>3.092967e+07</td>\n      <td>0.000000e+00</td>\n      <td>0.000000e+00</td>\n      <td>9.851794e+08</td>\n      <td>1.182975e+09</td>\n      <td>1.064677e+09</td>\n      <td>...</td>\n      <td>0.000587</td>\n      <td>0.001533</td>\n      <td>0.002286</td>\n      <td>0.005754</td>\n      <td>0.134782</td>\n      <td>0.000531</td>\n      <td>0.000530</td>\n      <td>0.000752</td>\n      <td>0.006780</td>\n      <td>0.003400</td>\n    </tr>\n    <tr>\n      <th>18443</th>\n      <td>1285758060000</td>\n      <td>2.119793e+09</td>\n      <td>2.034129e+09</td>\n      <td>0.0</td>\n      <td>4.439690e+06</td>\n      <td>0.000000e+00</td>\n      <td>0.000000e+00</td>\n      <td>5.965231e+08</td>\n      <td>2.119641e+09</td>\n      <td>1.907677e+09</td>\n      <td>...</td>\n      <td>0.000579</td>\n      <td>0.001547</td>\n      <td>0.062628</td>\n      <td>0.005893</td>\n      <td>0.262729</td>\n      <td>0.000532</td>\n      <td>0.000534</td>\n      <td>0.000756</td>\n      <td>0.006789</td>\n      <td>0.003400</td>\n    </tr>\n  </tbody>\n</table>\n<p>5 rows × 518 columns</p>\n</div>"
     },
     "execution_count": 91,
     "metadata": {},
     "output_type": "execute_result"
    }
   ],
   "source": [
    "df.head()"
   ],
   "metadata": {
    "collapsed": false
   }
  },
  {
   "cell_type": "code",
   "execution_count": 94,
   "outputs": [],
   "source": [
    "import seaborn as sns\n",
    "\n",
    "\n",
    "def pics():\n",
    "    target = df.iloc[:, 485:]\n",
    "\n",
    "    for x in target:\n",
    "        plt.figure(figsize=(15, 10))\n",
    "        sns.scatterplot(data=df, x='ut_ms', y=x)\n",
    "        plt.show()\n",
    "\n",
    "#pics()"
   ],
   "metadata": {
    "collapsed": false
   }
  },
  {
   "cell_type": "markdown",
   "source": [
    "# Models"
   ],
   "metadata": {
    "collapsed": false
   }
  },
  {
   "cell_type": "code",
   "execution_count": 83,
   "outputs": [],
   "source": [
    "X = df.iloc[:, 0:485]\n",
    "y = df.iloc[:, 485:]"
   ],
   "metadata": {
    "collapsed": false
   }
  },
  {
   "cell_type": "code",
   "execution_count": 84,
   "outputs": [],
   "source": [
    "from sklearn.model_selection import train_test_split\n",
    "\n",
    "X_train, X_test, y_train, y_test = train_test_split(X, y, train_size=0.2)"
   ],
   "metadata": {
    "collapsed": false
   }
  },
  {
   "cell_type": "markdown",
   "source": [
    "# XGBoost"
   ],
   "metadata": {
    "collapsed": false
   }
  },
  {
   "cell_type": "code",
   "execution_count": 96,
   "outputs": [
    {
     "name": "stderr",
     "output_type": "stream",
     "text": [
      "/Users/mymytre/opt/miniconda3/envs/data-science/lib/python3.10/site-packages/xgboost/data.py:250: FutureWarning: pandas.Int64Index is deprecated and will be removed from pandas in a future version. Use pandas.Index with the appropriate dtype instead.\n",
      "  elif isinstance(data.columns, (pd.Int64Index, pd.RangeIndex)):\n"
     ]
    }
   ],
   "source": [
    "from xgboost import XGBRegressor\n",
    "\n",
    "lr = MultiOutputRegressor(XGBRegressor())\n",
    "lr.fit(X_train, y_train)\n",
    "y_pred = lr.predict(X_test)"
   ],
   "metadata": {
    "collapsed": false
   }
  },
  {
   "cell_type": "code",
   "execution_count": 97,
   "outputs": [
    {
     "data": {
      "text/plain": "0.4393056172238433"
     },
     "execution_count": 97,
     "metadata": {},
     "output_type": "execute_result"
    }
   ],
   "source": [
    "lr.score(X_train, y_train)"
   ],
   "metadata": {
    "collapsed": false
   }
  },
  {
   "cell_type": "code",
   "execution_count": 98,
   "outputs": [
    {
     "data": {
      "text/plain": "array([[0.13149847, 0.00152224, 0.17519942, ..., 0.00074506, 0.00675186,\n        0.00339637],\n       [0.12640545, 0.00152224, 0.17519942, ..., 0.00074506, 0.00675186,\n        0.00339637],\n       [0.1269817 , 0.00152224, 0.17519942, ..., 0.00074506, 0.00675186,\n        0.00339637],\n       ...,\n       [0.10151224, 0.00152224, 0.17519942, ..., 0.00074506, 0.00675186,\n        0.00339637],\n       [0.16444927, 0.00152224, 0.17519942, ..., 0.00074506, 0.00675186,\n        0.00339637],\n       [0.12216077, 0.00152224, 0.17519942, ..., 0.00074506, 0.00675186,\n        0.00339637]], dtype=float32)"
     },
     "execution_count": 98,
     "metadata": {},
     "output_type": "execute_result"
    }
   ],
   "source": [
    "y_pred"
   ],
   "metadata": {
    "collapsed": false
   }
  },
  {
   "cell_type": "markdown",
   "source": [
    "# GradientBoostingRegressor"
   ],
   "metadata": {
    "collapsed": false
   }
  },
  {
   "cell_type": "code",
   "execution_count": 10,
   "outputs": [],
   "source": [
    "from sklearn.ensemble import GradientBoostingRegressor\n",
    "\n",
    "gbr = MultiOutputRegressor(GradientBoostingRegressor())\n",
    "gbr.fit(X_train, y_train)\n",
    "y_pred = gbr.predict(X_test)"
   ],
   "metadata": {
    "collapsed": false
   }
  },
  {
   "cell_type": "code",
   "execution_count": 12,
   "outputs": [
    {
     "data": {
      "text/plain": "0.9846721049963219"
     },
     "execution_count": 12,
     "metadata": {},
     "output_type": "execute_result"
    }
   ],
   "source": [
    "gbr.score(X_train, y_train)"
   ],
   "metadata": {
    "collapsed": false
   }
  },
  {
   "cell_type": "code",
   "execution_count": 13,
   "outputs": [
    {
     "data": {
      "text/plain": "array([[0.11428143, 0.00153295, 0.17530089, ..., 0.00075073, 0.00677072,\n        0.00341156],\n       [0.14707627, 0.00153845, 0.17574869, ..., 0.00075396, 0.0066808 ,\n        0.00334111],\n       [0.163184  , 0.00151858, 0.17582789, ..., 0.00073677, 0.00672855,\n        0.00336915],\n       ...,\n       [0.090444  , 0.00153117, 0.1756967 , ..., 0.00074491, 0.00671712,\n        0.00338337],\n       [0.13700778, 0.00153906, 0.17576191, ..., 0.00074248, 0.00676117,\n        0.00341683],\n       [0.11868943, 0.00151042, 0.17543086, ..., 0.00074526, 0.00671098,\n        0.00335137]])"
     },
     "execution_count": 13,
     "metadata": {},
     "output_type": "execute_result"
    }
   ],
   "source": [
    "y_pred"
   ],
   "metadata": {
    "collapsed": false
   }
  },
  {
   "cell_type": "markdown",
   "source": [
    "# RandomForestRegressor"
   ],
   "metadata": {
    "collapsed": false
   }
  },
  {
   "cell_type": "markdown",
   "source": [],
   "metadata": {
    "collapsed": false
   }
  },
  {
   "cell_type": "code",
   "execution_count": 14,
   "outputs": [],
   "source": [
    "from sklearn.ensemble import RandomForestRegressor\n",
    "\n",
    "rfm = MultiOutputRegressor(RandomForestRegressor())\n",
    "rfm.fit(X_train, y_train)\n",
    "y_pred = rfm.predict(X_test)"
   ],
   "metadata": {
    "collapsed": false
   }
  },
  {
   "cell_type": "code",
   "execution_count": 15,
   "outputs": [
    {
     "data": {
      "text/plain": "0.8731688311533194"
     },
     "execution_count": 15,
     "metadata": {},
     "output_type": "execute_result"
    }
   ],
   "source": [
    "rfm.score(X_train, y_train)"
   ],
   "metadata": {
    "collapsed": false
   }
  },
  {
   "cell_type": "code",
   "execution_count": 111,
   "outputs": [
    {
     "data": {
      "text/plain": "array([[0.13149847, 0.00152224, 0.17519942, ..., 0.00074506, 0.00675186,\n        0.00339637],\n       [0.12640545, 0.00152224, 0.17519942, ..., 0.00074506, 0.00675186,\n        0.00339637],\n       [0.1269817 , 0.00152224, 0.17519942, ..., 0.00074506, 0.00675186,\n        0.00339637],\n       ...,\n       [0.10151224, 0.00152224, 0.17519942, ..., 0.00074506, 0.00675186,\n        0.00339637],\n       [0.16444927, 0.00152224, 0.17519942, ..., 0.00074506, 0.00675186,\n        0.00339637],\n       [0.12216077, 0.00152224, 0.17519942, ..., 0.00074506, 0.00675186,\n        0.00339637]], dtype=float32)"
     },
     "execution_count": 111,
     "metadata": {},
     "output_type": "execute_result"
    }
   ],
   "source": [
    "y_pred"
   ],
   "metadata": {
    "collapsed": false
   }
  },
  {
   "cell_type": "markdown",
   "source": [
    "# AutoReg model"
   ],
   "metadata": {
    "collapsed": false
   }
  },
  {
   "cell_type": "code",
   "execution_count": 128,
   "outputs": [
    {
     "name": "stderr",
     "output_type": "stream",
     "text": [
      "/Users/mymytre/opt/miniconda3/envs/data-science/lib/python3.10/site-packages/statsmodels/tsa/base/tsa_model.py:471: ValueWarning: An unsupported index was provided and will be ignored when e.g. forecasting.\n",
      "  self._init_dates(dates, freq)\n"
     ]
    },
    {
     "ename": "TypeError",
     "evalue": "can only concatenate list (not \"str\") to list",
     "output_type": "error",
     "traceback": [
      "\u001B[0;31m---------------------------------------------------------------------------\u001B[0m",
      "\u001B[0;31mTypeError\u001B[0m                                 Traceback (most recent call last)",
      "Cell \u001B[0;32mIn [128], line 8\u001B[0m\n\u001B[1;32m      2\u001B[0m \u001B[38;5;28;01mfrom\u001B[39;00m \u001B[38;5;21;01msklearn\u001B[39;00m\u001B[38;5;21;01m.\u001B[39;00m\u001B[38;5;21;01mmetrics\u001B[39;00m \u001B[38;5;28;01mimport\u001B[39;00m mean_squared_error\n\u001B[1;32m      3\u001B[0m \u001B[38;5;28;01mfrom\u001B[39;00m \u001B[38;5;21;01mstatsmodels\u001B[39;00m\u001B[38;5;21;01m.\u001B[39;00m\u001B[38;5;21;01mtsa\u001B[39;00m\u001B[38;5;21;01m.\u001B[39;00m\u001B[38;5;21;01mar_model\u001B[39;00m \u001B[38;5;28;01mimport\u001B[39;00m AutoReg\n\u001B[0;32m----> 8\u001B[0m model \u001B[38;5;241m=\u001B[39m \u001B[43mAutoReg\u001B[49m\u001B[43m(\u001B[49m\u001B[43mX_train\u001B[49m\u001B[43m[\u001B[49m\u001B[38;5;241;43m1\u001B[39;49m\u001B[43m:\u001B[49m\u001B[38;5;28;43mlen\u001B[39;49m\u001B[43m(\u001B[49m\u001B[43mX\u001B[49m\u001B[43m)\u001B[49m\u001B[43m]\u001B[49m\u001B[43m,\u001B[49m\u001B[43m \u001B[49m\u001B[43mlags\u001B[49m\u001B[38;5;241;43m=\u001B[39;49m\u001B[38;5;241;43m1\u001B[39;49m\u001B[43m)\u001B[49m\n\u001B[1;32m      9\u001B[0m \u001B[38;5;66;03m#model_fit = model.fit()\u001B[39;00m\n\u001B[1;32m     10\u001B[0m \u001B[38;5;66;03m#print('Coefficients: %s' % model_fit.params)\u001B[39;00m\n\u001B[1;32m     11\u001B[0m \u001B[38;5;66;03m## make predictions\u001B[39;00m\n\u001B[0;32m   (...)\u001B[0m\n\u001B[1;32m     19\u001B[0m \u001B[38;5;66;03m#pyplot.plot(predictions, color='red')\u001B[39;00m\n\u001B[1;32m     20\u001B[0m \u001B[38;5;66;03m#pyplot.show()\u001B[39;00m\n",
      "File \u001B[0;32m~/opt/miniconda3/envs/data-science/lib/python3.10/site-packages/statsmodels/tsa/ar_model.py:239\u001B[0m, in \u001B[0;36mAutoReg.__init__\u001B[0;34m(self, endog, lags, trend, seasonal, exog, hold_back, period, missing, deterministic, old_names)\u001B[0m\n\u001B[1;32m    233\u001B[0m     warnings\u001B[38;5;241m.\u001B[39mwarn(\n\u001B[1;32m    234\u001B[0m         \u001B[38;5;124m\"\u001B[39m\u001B[38;5;124mold_names will be removed after the 0.14 release. You should \u001B[39m\u001B[38;5;124m\"\u001B[39m\n\u001B[1;32m    235\u001B[0m         \u001B[38;5;124m\"\u001B[39m\u001B[38;5;124mstop setting this parameter and use the new names.\u001B[39m\u001B[38;5;124m\"\u001B[39m,\n\u001B[1;32m    236\u001B[0m         \u001B[38;5;167;01mFutureWarning\u001B[39;00m,\n\u001B[1;32m    237\u001B[0m     )\n\u001B[1;32m    238\u001B[0m \u001B[38;5;28mself\u001B[39m\u001B[38;5;241m.\u001B[39m_lags, \u001B[38;5;28mself\u001B[39m\u001B[38;5;241m.\u001B[39m_hold_back \u001B[38;5;241m=\u001B[39m \u001B[38;5;28mself\u001B[39m\u001B[38;5;241m.\u001B[39m_check_lags()\n\u001B[0;32m--> 239\u001B[0m \u001B[38;5;28;43mself\u001B[39;49m\u001B[38;5;241;43m.\u001B[39;49m\u001B[43m_setup_regressors\u001B[49m\u001B[43m(\u001B[49m\u001B[43m)\u001B[49m\n\u001B[1;32m    240\u001B[0m \u001B[38;5;28mself\u001B[39m\u001B[38;5;241m.\u001B[39mnobs \u001B[38;5;241m=\u001B[39m \u001B[38;5;28mself\u001B[39m\u001B[38;5;241m.\u001B[39m_y\u001B[38;5;241m.\u001B[39mshape[\u001B[38;5;241m0\u001B[39m]\n\u001B[1;32m    241\u001B[0m \u001B[38;5;28mself\u001B[39m\u001B[38;5;241m.\u001B[39mdata\u001B[38;5;241m.\u001B[39mxnames \u001B[38;5;241m=\u001B[39m \u001B[38;5;28mself\u001B[39m\u001B[38;5;241m.\u001B[39mexog_names\n",
      "File \u001B[0;32m~/opt/miniconda3/envs/data-science/lib/python3.10/site-packages/statsmodels/tsa/ar_model.py:322\u001B[0m, in \u001B[0;36mAutoReg._setup_regressors\u001B[0;34m(self)\u001B[0m\n\u001B[1;32m    319\u001B[0m endog_names \u001B[38;5;241m=\u001B[39m \u001B[38;5;28mself\u001B[39m\u001B[38;5;241m.\u001B[39mendog_names\n\u001B[1;32m    320\u001B[0m x, y \u001B[38;5;241m=\u001B[39m lagmat(\u001B[38;5;28mself\u001B[39m\u001B[38;5;241m.\u001B[39mendog, maxlag, original\u001B[38;5;241m=\u001B[39m\u001B[38;5;124m\"\u001B[39m\u001B[38;5;124msep\u001B[39m\u001B[38;5;124m\"\u001B[39m)\n\u001B[1;32m    321\u001B[0m exog_names\u001B[38;5;241m.\u001B[39mextend(\n\u001B[0;32m--> 322\u001B[0m     [endog_names \u001B[38;5;241m+\u001B[39m \u001B[38;5;124m\"\u001B[39m\u001B[38;5;124m.L\u001B[39m\u001B[38;5;132;01m{0}\u001B[39;00m\u001B[38;5;124m\"\u001B[39m\u001B[38;5;241m.\u001B[39mformat(lag) \u001B[38;5;28;01mfor\u001B[39;00m lag \u001B[38;5;129;01min\u001B[39;00m \u001B[38;5;28mself\u001B[39m\u001B[38;5;241m.\u001B[39m_lags]\n\u001B[1;32m    323\u001B[0m )\n\u001B[1;32m    324\u001B[0m \u001B[38;5;28;01mif\u001B[39;00m \u001B[38;5;28mlen\u001B[39m(\u001B[38;5;28mself\u001B[39m\u001B[38;5;241m.\u001B[39m_lags) \u001B[38;5;241m<\u001B[39m maxlag:\n\u001B[1;32m    325\u001B[0m     x \u001B[38;5;241m=\u001B[39m x[:, np\u001B[38;5;241m.\u001B[39masarray(\u001B[38;5;28mself\u001B[39m\u001B[38;5;241m.\u001B[39m_lags) \u001B[38;5;241m-\u001B[39m \u001B[38;5;241m1\u001B[39m]\n",
      "File \u001B[0;32m~/opt/miniconda3/envs/data-science/lib/python3.10/site-packages/statsmodels/tsa/ar_model.py:322\u001B[0m, in \u001B[0;36m<listcomp>\u001B[0;34m(.0)\u001B[0m\n\u001B[1;32m    319\u001B[0m endog_names \u001B[38;5;241m=\u001B[39m \u001B[38;5;28mself\u001B[39m\u001B[38;5;241m.\u001B[39mendog_names\n\u001B[1;32m    320\u001B[0m x, y \u001B[38;5;241m=\u001B[39m lagmat(\u001B[38;5;28mself\u001B[39m\u001B[38;5;241m.\u001B[39mendog, maxlag, original\u001B[38;5;241m=\u001B[39m\u001B[38;5;124m\"\u001B[39m\u001B[38;5;124msep\u001B[39m\u001B[38;5;124m\"\u001B[39m)\n\u001B[1;32m    321\u001B[0m exog_names\u001B[38;5;241m.\u001B[39mextend(\n\u001B[0;32m--> 322\u001B[0m     [\u001B[43mendog_names\u001B[49m\u001B[43m \u001B[49m\u001B[38;5;241;43m+\u001B[39;49m\u001B[43m \u001B[49m\u001B[38;5;124;43m\"\u001B[39;49m\u001B[38;5;124;43m.L\u001B[39;49m\u001B[38;5;132;43;01m{0}\u001B[39;49;00m\u001B[38;5;124;43m\"\u001B[39;49m\u001B[38;5;241;43m.\u001B[39;49m\u001B[43mformat\u001B[49m\u001B[43m(\u001B[49m\u001B[43mlag\u001B[49m\u001B[43m)\u001B[49m \u001B[38;5;28;01mfor\u001B[39;00m lag \u001B[38;5;129;01min\u001B[39;00m \u001B[38;5;28mself\u001B[39m\u001B[38;5;241m.\u001B[39m_lags]\n\u001B[1;32m    323\u001B[0m )\n\u001B[1;32m    324\u001B[0m \u001B[38;5;28;01mif\u001B[39;00m \u001B[38;5;28mlen\u001B[39m(\u001B[38;5;28mself\u001B[39m\u001B[38;5;241m.\u001B[39m_lags) \u001B[38;5;241m<\u001B[39m maxlag:\n\u001B[1;32m    325\u001B[0m     x \u001B[38;5;241m=\u001B[39m x[:, np\u001B[38;5;241m.\u001B[39masarray(\u001B[38;5;28mself\u001B[39m\u001B[38;5;241m.\u001B[39m_lags) \u001B[38;5;241m-\u001B[39m \u001B[38;5;241m1\u001B[39m]\n",
      "\u001B[0;31mTypeError\u001B[0m: can only concatenate list (not \"str\") to list"
     ]
    }
   ],
   "source": [
    "from math import sqrt\n",
    "from sklearn.metrics import mean_squared_error\n",
    "from statsmodels.tsa.ar_model import AutoReg\n",
    "\n",
    "\n",
    "\n",
    "\n",
    "model = AutoReg(X_train[1:len(X)], lags=1)\n",
    "#model_fit = model.fit()\n",
    "#print('Coefficients: %s' % model_fit.params)\n",
    "## make predictions\n",
    "#predictions = model_fit.predict(start=len(train), end=len(train)+len(test)-1, dynamic=False)\n",
    "#for i in range(len(predictions)):\n",
    "#    print('predicted=%f, expected=%f' % (predictions[i], test[i]))\n",
    "#rmse = sqrt(mean_squared_error(test, predictions))\n",
    "#print('Test RMSE: %.3f' % rmse)\n",
    "## plot results\n",
    "#pyplot.plot(test)\n",
    "#pyplot.plot(predictions, color='red')\n",
    "#pyplot.show()"
   ],
   "metadata": {
    "collapsed": false
   }
  }
 ],
 "metadata": {
  "kernelspec": {
   "display_name": "Python 3",
   "language": "python",
   "name": "python3"
  },
  "language_info": {
   "codemirror_mode": {
    "name": "ipython",
    "version": 2
   },
   "file_extension": ".py",
   "mimetype": "text/x-python",
   "name": "python",
   "nbconvert_exporter": "python",
   "pygments_lexer": "ipython2",
   "version": "2.7.6"
  }
 },
 "nbformat": 4,
 "nbformat_minor": 0
}
