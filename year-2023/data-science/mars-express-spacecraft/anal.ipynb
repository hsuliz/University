{
 "cells": [
  {
   "cell_type": "code",
   "execution_count": 8,
   "metadata": {
    "collapsed": true
   },
   "outputs": [],
   "source": [
    "import re\n",
    "\n",
    "import pandas as pd\n",
    "from lightgbm import LGBMClassifier\n",
    "from sklearn import preprocessing\n",
    "from sklearn.metrics import classification_report\n",
    "from sklearn.model_selection import train_test_split"
   ]
  },
  {
   "cell_type": "code",
   "execution_count": 9,
   "outputs": [],
   "source": [
    "df = pd.read_csv(\"data60.csv\", low_memory=False, )\n",
    "df = df.sample(frac=0.001)"
   ],
   "metadata": {
    "collapsed": false
   }
  },
  {
   "cell_type": "code",
   "execution_count": 10,
   "outputs": [],
   "source": [
    "df = df.replace(to_replace='?', value=0)\n",
    "df = df.apply(pd.to_numeric)\n",
    "df = df.rename(columns = lambda x:re.sub('[^A-Za-z0-9_]+', '', x))"
   ],
   "metadata": {
    "collapsed": false
   }
  },
  {
   "cell_type": "code",
   "execution_count": 11,
   "outputs": [
    {
     "data": {
      "text/plain": "              ut_ms  panelsJm2influx  frontJm2influx  backJm2influx  \\\ncount  6.600000e+01     6.600000e+01    6.600000e+01           66.0   \nmean   1.340842e+12     1.962486e+09    1.826544e+09            0.0   \nstd    7.056640e+10     5.248564e+08    5.328310e+08            0.0   \nmin    1.225022e+12     0.000000e+00    0.000000e+00            0.0   \n25%    1.283603e+12     1.788741e+09    1.592053e+09            0.0   \n50%    1.344910e+12     2.000438e+09    1.821549e+09            0.0   \n75%    1.389299e+12     2.287487e+09    2.210077e+09            0.0   \nmax    1.454076e+12     2.577053e+09    2.555414e+09            0.0   \n\n       leftJm2influx  rightJm2influx   upJm2influx  downJm2influx  \\\ncount   6.600000e+01    6.600000e+01  6.600000e+01   6.600000e+01   \nmean    3.871849e+07    4.888567e+07  6.331211e+07   5.469979e+08   \nstd     1.140616e+08    1.730459e+08  1.611941e+08   3.899841e+08   \nmin     0.000000e+00    0.000000e+00  0.000000e+00   0.000000e+00   \n25%     7.994718e-08    0.000000e+00  0.000000e+00   1.947810e+08   \n50%     4.003688e+06    0.000000e+00  0.000000e+00   4.845029e+08   \n75%     1.652604e+07    1.342277e+07  2.545331e+07   9.113474e+08   \nmax     7.351881e+08    8.852056e+08  9.012779e+08   1.293291e+09   \n\n       panelssum1Jm2influx_sum  panelssum1decay09Jm2influx_sum  ...  \\\ncount             6.400000e+01                    6.400000e+01  ...   \nmean              2.038849e+09                    1.834964e+09  ...   \nstd               3.602713e+08                    3.242441e+08  ...   \nmin               6.934256e+08                    6.240831e+08  ...   \n25%               1.798988e+09                    1.619089e+09  ...   \n50%               2.056525e+09                    1.850872e+09  ...   \n75%               2.279908e+09                    2.051918e+09  ...   \nmax               2.572474e+09                    2.315226e+09  ...   \n\n        NPWD2792   NPWD2801   NPWD2802   NPWD2821   NPWD2851   NPWD2852  \\\ncount  66.000000  66.000000  66.000000  66.000000  66.000000  66.000000   \nmean    0.001070   0.001538   0.148161   0.005769   0.322567   0.000525   \nstd     0.000388   0.000031   0.075813   0.000111   0.168794   0.000011   \nmin     0.000553   0.001474   0.002256   0.005547   0.005208   0.000501   \n25%     0.000584   0.001523   0.096686   0.005695   0.227153   0.000521   \n50%     0.001137   0.001543   0.159023   0.005781   0.313276   0.000528   \n75%     0.001393   0.001555   0.211399   0.005831   0.447579   0.000532   \nmax     0.001731   0.001608   0.280857   0.005975   0.831691   0.000553   \n\n        NPWD2871   NPWD2872   NPWD2881   NPWD2882  \ncount  66.000000  66.000000  66.000000  66.000000  \nmean    0.000520   0.000745   0.054573   0.003373  \nstd     0.000010   0.000015   0.168994   0.000069  \nmin     0.000498   0.000714   0.006457   0.003227  \n25%     0.000515   0.000739   0.006663   0.003335  \n50%     0.000522   0.000747   0.006755   0.003388  \n75%     0.000527   0.000755   0.006827   0.003425  \nmax     0.000543   0.000777   0.719359   0.003491  \n\n[8 rows x 518 columns]",
      "text/html": "<div>\n<style scoped>\n    .dataframe tbody tr th:only-of-type {\n        vertical-align: middle;\n    }\n\n    .dataframe tbody tr th {\n        vertical-align: top;\n    }\n\n    .dataframe thead th {\n        text-align: right;\n    }\n</style>\n<table border=\"1\" class=\"dataframe\">\n  <thead>\n    <tr style=\"text-align: right;\">\n      <th></th>\n      <th>ut_ms</th>\n      <th>panelsJm2influx</th>\n      <th>frontJm2influx</th>\n      <th>backJm2influx</th>\n      <th>leftJm2influx</th>\n      <th>rightJm2influx</th>\n      <th>upJm2influx</th>\n      <th>downJm2influx</th>\n      <th>panelssum1Jm2influx_sum</th>\n      <th>panelssum1decay09Jm2influx_sum</th>\n      <th>...</th>\n      <th>NPWD2792</th>\n      <th>NPWD2801</th>\n      <th>NPWD2802</th>\n      <th>NPWD2821</th>\n      <th>NPWD2851</th>\n      <th>NPWD2852</th>\n      <th>NPWD2871</th>\n      <th>NPWD2872</th>\n      <th>NPWD2881</th>\n      <th>NPWD2882</th>\n    </tr>\n  </thead>\n  <tbody>\n    <tr>\n      <th>count</th>\n      <td>6.600000e+01</td>\n      <td>6.600000e+01</td>\n      <td>6.600000e+01</td>\n      <td>66.0</td>\n      <td>6.600000e+01</td>\n      <td>6.600000e+01</td>\n      <td>6.600000e+01</td>\n      <td>6.600000e+01</td>\n      <td>6.400000e+01</td>\n      <td>6.400000e+01</td>\n      <td>...</td>\n      <td>66.000000</td>\n      <td>66.000000</td>\n      <td>66.000000</td>\n      <td>66.000000</td>\n      <td>66.000000</td>\n      <td>66.000000</td>\n      <td>66.000000</td>\n      <td>66.000000</td>\n      <td>66.000000</td>\n      <td>66.000000</td>\n    </tr>\n    <tr>\n      <th>mean</th>\n      <td>1.340842e+12</td>\n      <td>1.962486e+09</td>\n      <td>1.826544e+09</td>\n      <td>0.0</td>\n      <td>3.871849e+07</td>\n      <td>4.888567e+07</td>\n      <td>6.331211e+07</td>\n      <td>5.469979e+08</td>\n      <td>2.038849e+09</td>\n      <td>1.834964e+09</td>\n      <td>...</td>\n      <td>0.001070</td>\n      <td>0.001538</td>\n      <td>0.148161</td>\n      <td>0.005769</td>\n      <td>0.322567</td>\n      <td>0.000525</td>\n      <td>0.000520</td>\n      <td>0.000745</td>\n      <td>0.054573</td>\n      <td>0.003373</td>\n    </tr>\n    <tr>\n      <th>std</th>\n      <td>7.056640e+10</td>\n      <td>5.248564e+08</td>\n      <td>5.328310e+08</td>\n      <td>0.0</td>\n      <td>1.140616e+08</td>\n      <td>1.730459e+08</td>\n      <td>1.611941e+08</td>\n      <td>3.899841e+08</td>\n      <td>3.602713e+08</td>\n      <td>3.242441e+08</td>\n      <td>...</td>\n      <td>0.000388</td>\n      <td>0.000031</td>\n      <td>0.075813</td>\n      <td>0.000111</td>\n      <td>0.168794</td>\n      <td>0.000011</td>\n      <td>0.000010</td>\n      <td>0.000015</td>\n      <td>0.168994</td>\n      <td>0.000069</td>\n    </tr>\n    <tr>\n      <th>min</th>\n      <td>1.225022e+12</td>\n      <td>0.000000e+00</td>\n      <td>0.000000e+00</td>\n      <td>0.0</td>\n      <td>0.000000e+00</td>\n      <td>0.000000e+00</td>\n      <td>0.000000e+00</td>\n      <td>0.000000e+00</td>\n      <td>6.934256e+08</td>\n      <td>6.240831e+08</td>\n      <td>...</td>\n      <td>0.000553</td>\n      <td>0.001474</td>\n      <td>0.002256</td>\n      <td>0.005547</td>\n      <td>0.005208</td>\n      <td>0.000501</td>\n      <td>0.000498</td>\n      <td>0.000714</td>\n      <td>0.006457</td>\n      <td>0.003227</td>\n    </tr>\n    <tr>\n      <th>25%</th>\n      <td>1.283603e+12</td>\n      <td>1.788741e+09</td>\n      <td>1.592053e+09</td>\n      <td>0.0</td>\n      <td>7.994718e-08</td>\n      <td>0.000000e+00</td>\n      <td>0.000000e+00</td>\n      <td>1.947810e+08</td>\n      <td>1.798988e+09</td>\n      <td>1.619089e+09</td>\n      <td>...</td>\n      <td>0.000584</td>\n      <td>0.001523</td>\n      <td>0.096686</td>\n      <td>0.005695</td>\n      <td>0.227153</td>\n      <td>0.000521</td>\n      <td>0.000515</td>\n      <td>0.000739</td>\n      <td>0.006663</td>\n      <td>0.003335</td>\n    </tr>\n    <tr>\n      <th>50%</th>\n      <td>1.344910e+12</td>\n      <td>2.000438e+09</td>\n      <td>1.821549e+09</td>\n      <td>0.0</td>\n      <td>4.003688e+06</td>\n      <td>0.000000e+00</td>\n      <td>0.000000e+00</td>\n      <td>4.845029e+08</td>\n      <td>2.056525e+09</td>\n      <td>1.850872e+09</td>\n      <td>...</td>\n      <td>0.001137</td>\n      <td>0.001543</td>\n      <td>0.159023</td>\n      <td>0.005781</td>\n      <td>0.313276</td>\n      <td>0.000528</td>\n      <td>0.000522</td>\n      <td>0.000747</td>\n      <td>0.006755</td>\n      <td>0.003388</td>\n    </tr>\n    <tr>\n      <th>75%</th>\n      <td>1.389299e+12</td>\n      <td>2.287487e+09</td>\n      <td>2.210077e+09</td>\n      <td>0.0</td>\n      <td>1.652604e+07</td>\n      <td>1.342277e+07</td>\n      <td>2.545331e+07</td>\n      <td>9.113474e+08</td>\n      <td>2.279908e+09</td>\n      <td>2.051918e+09</td>\n      <td>...</td>\n      <td>0.001393</td>\n      <td>0.001555</td>\n      <td>0.211399</td>\n      <td>0.005831</td>\n      <td>0.447579</td>\n      <td>0.000532</td>\n      <td>0.000527</td>\n      <td>0.000755</td>\n      <td>0.006827</td>\n      <td>0.003425</td>\n    </tr>\n    <tr>\n      <th>max</th>\n      <td>1.454076e+12</td>\n      <td>2.577053e+09</td>\n      <td>2.555414e+09</td>\n      <td>0.0</td>\n      <td>7.351881e+08</td>\n      <td>8.852056e+08</td>\n      <td>9.012779e+08</td>\n      <td>1.293291e+09</td>\n      <td>2.572474e+09</td>\n      <td>2.315226e+09</td>\n      <td>...</td>\n      <td>0.001731</td>\n      <td>0.001608</td>\n      <td>0.280857</td>\n      <td>0.005975</td>\n      <td>0.831691</td>\n      <td>0.000553</td>\n      <td>0.000543</td>\n      <td>0.000777</td>\n      <td>0.719359</td>\n      <td>0.003491</td>\n    </tr>\n  </tbody>\n</table>\n<p>8 rows × 518 columns</p>\n</div>"
     },
     "execution_count": 11,
     "metadata": {},
     "output_type": "execute_result"
    }
   ],
   "source": [
    "df.describe()"
   ],
   "metadata": {
    "collapsed": false
   }
  },
  {
   "cell_type": "code",
   "execution_count": 13,
   "outputs": [
    {
     "name": "stdout",
     "output_type": "stream",
     "text": [
      "<class 'pandas.core.frame.DataFrame'>\n",
      "Int64Index: 66 entries, 35234 to 41047\n",
      "Columns: 518 entries, ut_ms to NPWD2882\n",
      "dtypes: float64(152), int64(366)\n",
      "memory usage: 267.6 KB\n"
     ]
    }
   ],
   "source": [
    "df.info()"
   ],
   "metadata": {
    "collapsed": false
   }
  },
  {
   "cell_type": "code",
   "execution_count": null,
   "outputs": [],
   "source": [],
   "metadata": {
    "collapsed": false
   }
  }
 ],
 "metadata": {
  "kernelspec": {
   "display_name": "Python 3",
   "language": "python",
   "name": "python3"
  },
  "language_info": {
   "codemirror_mode": {
    "name": "ipython",
    "version": 2
   },
   "file_extension": ".py",
   "mimetype": "text/x-python",
   "name": "python",
   "nbconvert_exporter": "python",
   "pygments_lexer": "ipython2",
   "version": "2.7.6"
  }
 },
 "nbformat": 4,
 "nbformat_minor": 0
}
