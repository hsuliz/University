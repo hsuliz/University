{
 "cells": [
  {
   "cell_type": "code",
   "execution_count": 141,
   "outputs": [],
   "source": [
    "import re\n",
    "\n",
    "import matplotlib.pyplot as plt\n",
    "import pandas as pd\n",
    "from sklearn.multioutput import MultiOutputRegressor"
   ],
   "metadata": {
    "collapsed": false
   }
  },
  {
   "cell_type": "code",
   "execution_count": 142,
   "outputs": [],
   "source": [
    "df = pd.read_csv(\"data60.csv\", low_memory=False, parse_dates=['ut_ms'])\n",
    "df = df[0: 100]"
   ],
   "metadata": {
    "collapsed": false
   }
  },
  {
   "cell_type": "code",
   "execution_count": 143,
   "outputs": [],
   "source": [
    "df = df.replace(to_replace='?', value=0)\n",
    "df = df.apply(pd.to_numeric)\n",
    "df = df.rename(columns=lambda x: re.sub('[^A-Za-z0-9_]+', '', x))"
   ],
   "metadata": {
    "collapsed": false
   }
  },
  {
   "cell_type": "code",
   "execution_count": 144,
   "outputs": [],
   "source": [
    "df = df.fillna(df.mean())"
   ],
   "metadata": {
    "collapsed": false
   }
  },
  {
   "cell_type": "code",
   "execution_count": 5,
   "outputs": [],
   "source": [
    "# df['date'] = pd.to_datetime(df['ut_ms'], unit='ms')\n",
    "# df.drop('ut_ms', axis=1, inplace=True)"
   ],
   "metadata": {
    "collapsed": false
   }
  },
  {
   "cell_type": "code",
   "execution_count": null,
   "outputs": [],
   "source": [],
   "metadata": {
    "collapsed": false
   }
  },
  {
   "cell_type": "code",
   "execution_count": 145,
   "outputs": [
    {
     "name": "stdout",
     "output_type": "stream",
     "text": [
      "<class 'pandas.core.frame.DataFrame'>\n",
      "RangeIndex: 100 entries, 0 to 99\n",
      "Columns: 518 entries, ut_ms to NPWD2882\n",
      "dtypes: float64(152), int64(366)\n",
      "memory usage: 404.8 KB\n"
     ]
    }
   ],
   "source": [
    "df.info()"
   ],
   "metadata": {
    "collapsed": false
   }
  },
  {
   "cell_type": "code",
   "execution_count": 146,
   "outputs": [
    {
     "data": {
      "text/plain": "            ut_ms  panelsJm2influx  frontJm2influx  backJm2influx  \\\n0   1219363260000     1.880060e+09    1.819714e+09            0.0   \n1   1219366860000     1.880149e+09    1.819874e+09            0.0   \n2   1219370460000     1.856999e+09    1.789827e+09            0.0   \n3   1219374060000     1.504105e+09    1.440780e+09            0.0   \n4   1219377660000     1.878858e+09    1.817652e+09            0.0   \n..            ...              ...             ...            ...   \n95  1219705260000     1.888757e+09    1.039091e+09            0.0   \n96  1219708860000     1.888850e+09    1.032164e+09            0.0   \n97  1219712460000     1.888943e+09    1.684720e+09            0.0   \n98  1219716060000     1.819118e+09    1.766981e+09            0.0   \n99  1219719660000     1.620181e+09    1.591454e+09            0.0   \n\n    leftJm2influx  rightJm2influx   upJm2influx  downJm2influx  \\\n0    0.000000e+00    1.115663e+07  0.000000e+00   4.723260e+08   \n1    0.000000e+00    1.115169e+07  0.000000e+00   4.723065e+08   \n2    4.362176e+06    1.598348e+07  1.448610e+08   3.807518e+08   \n3    6.976483e+08    0.000000e+00  2.713091e+08   3.918346e+08   \n4    3.823645e+06    9.899647e+06  0.000000e+00   4.806031e+08   \n..            ...             ...           ...            ...   \n95   5.731324e-08    5.312175e+06  0.000000e+00   1.157267e+09   \n96   5.783011e-08    5.274707e+06  0.000000e+00   1.163519e+09   \n97   3.935758e-10    9.380306e+06  0.000000e+00   6.413298e+08   \n98   5.770706e+07    1.398330e+07  2.575856e+08   3.204492e+08   \n99   5.342495e+08    1.338927e+07  1.178553e+08   5.402024e+08   \n\n    panelssum1Jm2influx_sum  panelssum1decay09Jm2influx_sum  ...  NPWD2792  \\\n0              0.000000e+00                    0.000000e+00  ...  0.000574   \n1              1.880060e+09                    1.692054e+09  ...  0.000559   \n2              1.880149e+09                    1.692134e+09  ...  0.000573   \n3              1.856999e+09                    1.671299e+09  ...  0.000578   \n4              1.504105e+09                    1.353695e+09  ...  0.000566   \n..                      ...                             ...  ...       ...   \n95             1.888664e+09                    1.699797e+09  ...  0.000569   \n96             1.888757e+09                    1.699881e+09  ...  0.000586   \n97             1.888850e+09                    1.699965e+09  ...  0.000572   \n98             1.888943e+09                    1.700049e+09  ...  0.000567   \n99             1.819118e+09                    1.637206e+09  ...  0.000573   \n\n    NPWD2801  NPWD2802  NPWD2821  NPWD2851  NPWD2852  NPWD2871  NPWD2872  \\\n0   0.001529  0.159770  0.005765  0.005284  0.000530  0.000527  0.000764   \n1   0.001482  0.044725  0.005597  0.005026  0.000509  0.000502  0.000726   \n2   0.001508  0.287059  0.005695  0.005097  0.000514  0.000514  0.000731   \n3   0.001521  0.137181  0.005735  0.005248  0.000528  0.000516  0.000748   \n4   0.001521  0.060457  0.005760  0.005177  0.000525  0.000526  0.000739   \n..       ...       ...       ...       ...       ...       ...       ...   \n95  0.001520  0.002264  0.005705  0.005168  0.000526  0.000516  0.000742   \n96  0.001532  0.075603  0.005823  0.005239  0.000535  0.000531  0.000755   \n97  0.001529  0.159027  0.005724  0.005107  0.000525  0.000519  0.000741   \n98  0.001516  0.189925  0.005657  0.005123  0.000523  0.000519  0.000759   \n99  0.001510  0.108514  0.005813  0.005212  0.000521  0.000510  0.000742   \n\n    NPWD2881  NPWD2882  \n0   0.006768  0.003389  \n1   0.006583  0.003262  \n2   0.006578  0.003296  \n3   0.006737  0.003423  \n4   0.006675  0.003377  \n..       ...       ...  \n95  0.006653  0.003336  \n96  0.006841  0.003440  \n97  0.006737  0.003348  \n98  0.006739  0.003388  \n99  0.006657  0.003348  \n\n[100 rows x 518 columns]",
      "text/html": "<div>\n<style scoped>\n    .dataframe tbody tr th:only-of-type {\n        vertical-align: middle;\n    }\n\n    .dataframe tbody tr th {\n        vertical-align: top;\n    }\n\n    .dataframe thead th {\n        text-align: right;\n    }\n</style>\n<table border=\"1\" class=\"dataframe\">\n  <thead>\n    <tr style=\"text-align: right;\">\n      <th></th>\n      <th>ut_ms</th>\n      <th>panelsJm2influx</th>\n      <th>frontJm2influx</th>\n      <th>backJm2influx</th>\n      <th>leftJm2influx</th>\n      <th>rightJm2influx</th>\n      <th>upJm2influx</th>\n      <th>downJm2influx</th>\n      <th>panelssum1Jm2influx_sum</th>\n      <th>panelssum1decay09Jm2influx_sum</th>\n      <th>...</th>\n      <th>NPWD2792</th>\n      <th>NPWD2801</th>\n      <th>NPWD2802</th>\n      <th>NPWD2821</th>\n      <th>NPWD2851</th>\n      <th>NPWD2852</th>\n      <th>NPWD2871</th>\n      <th>NPWD2872</th>\n      <th>NPWD2881</th>\n      <th>NPWD2882</th>\n    </tr>\n  </thead>\n  <tbody>\n    <tr>\n      <th>0</th>\n      <td>1219363260000</td>\n      <td>1.880060e+09</td>\n      <td>1.819714e+09</td>\n      <td>0.0</td>\n      <td>0.000000e+00</td>\n      <td>1.115663e+07</td>\n      <td>0.000000e+00</td>\n      <td>4.723260e+08</td>\n      <td>0.000000e+00</td>\n      <td>0.000000e+00</td>\n      <td>...</td>\n      <td>0.000574</td>\n      <td>0.001529</td>\n      <td>0.159770</td>\n      <td>0.005765</td>\n      <td>0.005284</td>\n      <td>0.000530</td>\n      <td>0.000527</td>\n      <td>0.000764</td>\n      <td>0.006768</td>\n      <td>0.003389</td>\n    </tr>\n    <tr>\n      <th>1</th>\n      <td>1219366860000</td>\n      <td>1.880149e+09</td>\n      <td>1.819874e+09</td>\n      <td>0.0</td>\n      <td>0.000000e+00</td>\n      <td>1.115169e+07</td>\n      <td>0.000000e+00</td>\n      <td>4.723065e+08</td>\n      <td>1.880060e+09</td>\n      <td>1.692054e+09</td>\n      <td>...</td>\n      <td>0.000559</td>\n      <td>0.001482</td>\n      <td>0.044725</td>\n      <td>0.005597</td>\n      <td>0.005026</td>\n      <td>0.000509</td>\n      <td>0.000502</td>\n      <td>0.000726</td>\n      <td>0.006583</td>\n      <td>0.003262</td>\n    </tr>\n    <tr>\n      <th>2</th>\n      <td>1219370460000</td>\n      <td>1.856999e+09</td>\n      <td>1.789827e+09</td>\n      <td>0.0</td>\n      <td>4.362176e+06</td>\n      <td>1.598348e+07</td>\n      <td>1.448610e+08</td>\n      <td>3.807518e+08</td>\n      <td>1.880149e+09</td>\n      <td>1.692134e+09</td>\n      <td>...</td>\n      <td>0.000573</td>\n      <td>0.001508</td>\n      <td>0.287059</td>\n      <td>0.005695</td>\n      <td>0.005097</td>\n      <td>0.000514</td>\n      <td>0.000514</td>\n      <td>0.000731</td>\n      <td>0.006578</td>\n      <td>0.003296</td>\n    </tr>\n    <tr>\n      <th>3</th>\n      <td>1219374060000</td>\n      <td>1.504105e+09</td>\n      <td>1.440780e+09</td>\n      <td>0.0</td>\n      <td>6.976483e+08</td>\n      <td>0.000000e+00</td>\n      <td>2.713091e+08</td>\n      <td>3.918346e+08</td>\n      <td>1.856999e+09</td>\n      <td>1.671299e+09</td>\n      <td>...</td>\n      <td>0.000578</td>\n      <td>0.001521</td>\n      <td>0.137181</td>\n      <td>0.005735</td>\n      <td>0.005248</td>\n      <td>0.000528</td>\n      <td>0.000516</td>\n      <td>0.000748</td>\n      <td>0.006737</td>\n      <td>0.003423</td>\n    </tr>\n    <tr>\n      <th>4</th>\n      <td>1219377660000</td>\n      <td>1.878858e+09</td>\n      <td>1.817652e+09</td>\n      <td>0.0</td>\n      <td>3.823645e+06</td>\n      <td>9.899647e+06</td>\n      <td>0.000000e+00</td>\n      <td>4.806031e+08</td>\n      <td>1.504105e+09</td>\n      <td>1.353695e+09</td>\n      <td>...</td>\n      <td>0.000566</td>\n      <td>0.001521</td>\n      <td>0.060457</td>\n      <td>0.005760</td>\n      <td>0.005177</td>\n      <td>0.000525</td>\n      <td>0.000526</td>\n      <td>0.000739</td>\n      <td>0.006675</td>\n      <td>0.003377</td>\n    </tr>\n    <tr>\n      <th>...</th>\n      <td>...</td>\n      <td>...</td>\n      <td>...</td>\n      <td>...</td>\n      <td>...</td>\n      <td>...</td>\n      <td>...</td>\n      <td>...</td>\n      <td>...</td>\n      <td>...</td>\n      <td>...</td>\n      <td>...</td>\n      <td>...</td>\n      <td>...</td>\n      <td>...</td>\n      <td>...</td>\n      <td>...</td>\n      <td>...</td>\n      <td>...</td>\n      <td>...</td>\n      <td>...</td>\n    </tr>\n    <tr>\n      <th>95</th>\n      <td>1219705260000</td>\n      <td>1.888757e+09</td>\n      <td>1.039091e+09</td>\n      <td>0.0</td>\n      <td>5.731324e-08</td>\n      <td>5.312175e+06</td>\n      <td>0.000000e+00</td>\n      <td>1.157267e+09</td>\n      <td>1.888664e+09</td>\n      <td>1.699797e+09</td>\n      <td>...</td>\n      <td>0.000569</td>\n      <td>0.001520</td>\n      <td>0.002264</td>\n      <td>0.005705</td>\n      <td>0.005168</td>\n      <td>0.000526</td>\n      <td>0.000516</td>\n      <td>0.000742</td>\n      <td>0.006653</td>\n      <td>0.003336</td>\n    </tr>\n    <tr>\n      <th>96</th>\n      <td>1219708860000</td>\n      <td>1.888850e+09</td>\n      <td>1.032164e+09</td>\n      <td>0.0</td>\n      <td>5.783011e-08</td>\n      <td>5.274707e+06</td>\n      <td>0.000000e+00</td>\n      <td>1.163519e+09</td>\n      <td>1.888757e+09</td>\n      <td>1.699881e+09</td>\n      <td>...</td>\n      <td>0.000586</td>\n      <td>0.001532</td>\n      <td>0.075603</td>\n      <td>0.005823</td>\n      <td>0.005239</td>\n      <td>0.000535</td>\n      <td>0.000531</td>\n      <td>0.000755</td>\n      <td>0.006841</td>\n      <td>0.003440</td>\n    </tr>\n    <tr>\n      <th>97</th>\n      <td>1219712460000</td>\n      <td>1.888943e+09</td>\n      <td>1.684720e+09</td>\n      <td>0.0</td>\n      <td>3.935758e-10</td>\n      <td>9.380306e+06</td>\n      <td>0.000000e+00</td>\n      <td>6.413298e+08</td>\n      <td>1.888850e+09</td>\n      <td>1.699965e+09</td>\n      <td>...</td>\n      <td>0.000572</td>\n      <td>0.001529</td>\n      <td>0.159027</td>\n      <td>0.005724</td>\n      <td>0.005107</td>\n      <td>0.000525</td>\n      <td>0.000519</td>\n      <td>0.000741</td>\n      <td>0.006737</td>\n      <td>0.003348</td>\n    </tr>\n    <tr>\n      <th>98</th>\n      <td>1219716060000</td>\n      <td>1.819118e+09</td>\n      <td>1.766981e+09</td>\n      <td>0.0</td>\n      <td>5.770706e+07</td>\n      <td>1.398330e+07</td>\n      <td>2.575856e+08</td>\n      <td>3.204492e+08</td>\n      <td>1.888943e+09</td>\n      <td>1.700049e+09</td>\n      <td>...</td>\n      <td>0.000567</td>\n      <td>0.001516</td>\n      <td>0.189925</td>\n      <td>0.005657</td>\n      <td>0.005123</td>\n      <td>0.000523</td>\n      <td>0.000519</td>\n      <td>0.000759</td>\n      <td>0.006739</td>\n      <td>0.003388</td>\n    </tr>\n    <tr>\n      <th>99</th>\n      <td>1219719660000</td>\n      <td>1.620181e+09</td>\n      <td>1.591454e+09</td>\n      <td>0.0</td>\n      <td>5.342495e+08</td>\n      <td>1.338927e+07</td>\n      <td>1.178553e+08</td>\n      <td>5.402024e+08</td>\n      <td>1.819118e+09</td>\n      <td>1.637206e+09</td>\n      <td>...</td>\n      <td>0.000573</td>\n      <td>0.001510</td>\n      <td>0.108514</td>\n      <td>0.005813</td>\n      <td>0.005212</td>\n      <td>0.000521</td>\n      <td>0.000510</td>\n      <td>0.000742</td>\n      <td>0.006657</td>\n      <td>0.003348</td>\n    </tr>\n  </tbody>\n</table>\n<p>100 rows × 518 columns</p>\n</div>"
     },
     "execution_count": 146,
     "metadata": {},
     "output_type": "execute_result"
    }
   ],
   "source": [
    "df"
   ],
   "metadata": {
    "collapsed": false
   }
  },
  {
   "cell_type": "code",
   "execution_count": 147,
   "outputs": [],
   "source": [
    "import seaborn as sns\n",
    "\n",
    "\n",
    "def pics():\n",
    "    target = df.iloc[:, 485:]\n",
    "\n",
    "    for x in target:\n",
    "        plt.figure(figsize=(15, 10))\n",
    "        sns.scatterplot(data=df, x='ut_ms', y=x)\n",
    "        plt.show()\n",
    "\n",
    "#pics()"
   ],
   "metadata": {
    "collapsed": false
   }
  },
  {
   "cell_type": "markdown",
   "source": [
    "# Models"
   ],
   "metadata": {
    "collapsed": false
   }
  },
  {
   "cell_type": "code",
   "execution_count": 148,
   "outputs": [],
   "source": [
    "X = df.iloc[:, 0:485]\n",
    "y = df.iloc[:, 485:]"
   ],
   "metadata": {
    "collapsed": false
   }
  },
  {
   "cell_type": "code",
   "execution_count": 149,
   "outputs": [],
   "source": [
    "from sklearn.model_selection import train_test_split\n",
    "\n",
    "X_train, X_test, y_train, y_test = train_test_split(X, y, train_size=0.2)"
   ],
   "metadata": {
    "collapsed": false
   }
  },
  {
   "cell_type": "markdown",
   "source": [
    "# XGBoost"
   ],
   "metadata": {
    "collapsed": false
   }
  },
  {
   "cell_type": "code",
   "execution_count": 150,
   "outputs": [
    {
     "name": "stderr",
     "output_type": "stream",
     "text": [
      "/Users/mymytre/opt/miniconda3/envs/data-science/lib/python3.10/site-packages/xgboost/data.py:250: FutureWarning: pandas.Int64Index is deprecated and will be removed from pandas in a future version. Use pandas.Index with the appropriate dtype instead.\n",
      "  elif isinstance(data.columns, (pd.Int64Index, pd.RangeIndex)):\n"
     ]
    }
   ],
   "source": [
    "from xgboost import XGBRegressor\n",
    "\n",
    "lr = MultiOutputRegressor(XGBRegressor())\n",
    "lr.fit(X_train, y_train)\n",
    "y_pred = lr.predict(X_test)"
   ],
   "metadata": {
    "collapsed": false
   }
  },
  {
   "cell_type": "code",
   "execution_count": 151,
   "outputs": [
    {
     "data": {
      "text/plain": "0.40471997435338575"
     },
     "execution_count": 151,
     "metadata": {},
     "output_type": "execute_result"
    }
   ],
   "source": [
    "lr.score(X_train, y_train)"
   ],
   "metadata": {
    "collapsed": false
   }
  },
  {
   "cell_type": "code",
   "execution_count": 152,
   "outputs": [
    {
     "data": {
      "text/plain": "array([[0.0795084 , 0.00151516, 0.17527977, ..., 0.00074248, 0.0067837 ,\n        0.00335211],\n       [0.09445589, 0.00151516, 0.17544225, ..., 0.00074248, 0.0067837 ,\n        0.00335211],\n       [0.12127548, 0.00151516, 0.17544225, ..., 0.00074248, 0.50018626,\n        0.00335211],\n       ...,\n       [0.11326853, 0.00151516, 0.17544225, ..., 0.00074248, 0.0067837 ,\n        0.00335211],\n       [0.19106361, 0.00151516, 0.17527977, ..., 0.00074248, 0.0067837 ,\n        0.00335211],\n       [0.11667485, 0.00151516, 0.17527977, ..., 0.00074248, 0.0067837 ,\n        0.00335211]], dtype=float32)"
     },
     "execution_count": 152,
     "metadata": {},
     "output_type": "execute_result"
    }
   ],
   "source": [
    "y_pred"
   ],
   "metadata": {
    "collapsed": false
   }
  },
  {
   "cell_type": "markdown",
   "source": [
    "# GradientBoostingRegressor"
   ],
   "metadata": {
    "collapsed": false
   }
  },
  {
   "cell_type": "code",
   "execution_count": 153,
   "outputs": [],
   "source": [
    "from sklearn.ensemble import GradientBoostingRegressor\n",
    "\n",
    "gbr = MultiOutputRegressor(GradientBoostingRegressor())\n",
    "gbr.fit(X_train, y_train)\n",
    "y_pred = gbr.predict(X_test)"
   ],
   "metadata": {
    "collapsed": false
   }
  },
  {
   "cell_type": "code",
   "execution_count": 154,
   "outputs": [
    {
     "data": {
      "text/plain": "0.9955349951775981"
     },
     "execution_count": 154,
     "metadata": {},
     "output_type": "execute_result"
    }
   ],
   "source": [
    "gbr.score(X_train, y_train)"
   ],
   "metadata": {
    "collapsed": false
   }
  },
  {
   "cell_type": "code",
   "execution_count": 155,
   "outputs": [
    {
     "data": {
      "text/plain": "array([[0.07990053, 0.00153255, 0.17503834, ..., 0.0007472 , 0.00676603,\n        0.00339873],\n       [0.08933599, 0.00151893, 0.17540622, ..., 0.00073732, 0.00679771,\n        0.00340195],\n       [0.12136341, 0.00150616, 0.17573681, ..., 0.00074877, 0.67703398,\n        0.00340124],\n       ...,\n       [0.12100184, 0.00153482, 0.17580169, ..., 0.00074596, 0.00687469,\n        0.00341852],\n       [0.18360805, 0.00150208, 0.17502394, ..., 0.0007412 , 0.00664601,\n        0.00333272],\n       [0.1223254 , 0.00150889, 0.17535904, ..., 0.0007475 , 0.00657225,\n        0.003369  ]])"
     },
     "execution_count": 155,
     "metadata": {},
     "output_type": "execute_result"
    }
   ],
   "source": [
    "y_pred"
   ],
   "metadata": {
    "collapsed": false
   }
  },
  {
   "cell_type": "markdown",
   "source": [
    "# RandomForestRegressor"
   ],
   "metadata": {
    "collapsed": false
   }
  },
  {
   "cell_type": "markdown",
   "source": [],
   "metadata": {
    "collapsed": false
   }
  },
  {
   "cell_type": "code",
   "execution_count": 156,
   "outputs": [],
   "source": [
    "from sklearn.ensemble import RandomForestRegressor\n",
    "\n",
    "rfm = MultiOutputRegressor(RandomForestRegressor())\n",
    "rfm.fit(X_train, y_train)\n",
    "y_pred = rfm.predict(X_test)"
   ],
   "metadata": {
    "collapsed": false
   }
  },
  {
   "cell_type": "code",
   "execution_count": 157,
   "outputs": [
    {
     "data": {
      "text/plain": "0.8543485000456758"
     },
     "execution_count": 157,
     "metadata": {},
     "output_type": "execute_result"
    }
   ],
   "source": [
    "rfm.score(X_train, y_train)"
   ],
   "metadata": {
    "collapsed": false
   }
  },
  {
   "cell_type": "code",
   "execution_count": 158,
   "outputs": [
    {
     "data": {
      "text/plain": "array([[0.09642369, 0.00153097, 0.17517352, ..., 0.00074587, 0.00673649,\n        0.00338828],\n       [0.10816573, 0.00151499, 0.17538877, ..., 0.00074244, 0.18416811,\n        0.00338404],\n       [0.12126097, 0.00150296, 0.17563039, ..., 0.00074696, 0.3894525 ,\n        0.00337849],\n       ...,\n       [0.12489898, 0.00152562, 0.17567264, ..., 0.00074886, 0.01893142,\n        0.00338202],\n       [0.14400255, 0.00150748, 0.17499085, ..., 0.00073788, 0.00665038,\n        0.00332177],\n       [0.11894541, 0.00151765, 0.17541326, ..., 0.00073863, 0.01165322,\n        0.00330161]])"
     },
     "execution_count": 158,
     "metadata": {},
     "output_type": "execute_result"
    }
   ],
   "source": [
    "y_pred"
   ],
   "metadata": {
    "collapsed": false
   }
  },
  {
   "cell_type": "markdown",
   "source": [],
   "metadata": {
    "collapsed": false
   }
  }
 ],
 "metadata": {
  "kernelspec": {
   "display_name": "Python 3",
   "language": "python",
   "name": "python3"
  },
  "language_info": {
   "codemirror_mode": {
    "name": "ipython",
    "version": 2
   },
   "file_extension": ".py",
   "mimetype": "text/x-python",
   "name": "python",
   "nbconvert_exporter": "python",
   "pygments_lexer": "ipython2",
   "version": "2.7.6"
  }
 },
 "nbformat": 4,
 "nbformat_minor": 0
}
