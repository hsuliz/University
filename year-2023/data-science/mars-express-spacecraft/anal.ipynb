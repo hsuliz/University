{
 "cells": [
  {
   "cell_type": "code",
   "execution_count": 1,
   "metadata": {
    "collapsed": true
   },
   "outputs": [],
   "source": [
    "import re\n",
    "\n",
    "import pandas as pd\n",
    "from lightgbm import LGBMClassifier\n",
    "from sklearn import preprocessing\n",
    "from sklearn.metrics import classification_report\n",
    "from sklearn.model_selection import train_test_split"
   ]
  },
  {
   "cell_type": "code",
   "execution_count": 2,
   "outputs": [],
   "source": [
    "df = pd.read_csv(\"data60.csv\", low_memory=False)\n",
    "df = df.replace(to_replace='?', value=0)\n",
    "df = df.apply(pd.to_numeric)"
   ],
   "metadata": {
    "collapsed": false
   }
  },
  {
   "cell_type": "code",
   "execution_count": 3,
   "outputs": [
    {
     "data": {
      "text/plain": "              ut_ms  panels [J/m2]@influx  front [J/m2]@influx  \\\ncount  6.600000e+01          6.600000e+01         6.600000e+01   \nmean   1.348522e+12          1.766890e+09         1.599956e+09   \nstd    6.172345e+10          7.621990e+08         7.300135e+08   \nmin    1.221109e+12          0.000000e+00         0.000000e+00   \n25%    1.302844e+12          1.768255e+09         1.549963e+09   \n50%    1.348790e+12          1.984169e+09         1.760753e+09   \n75%    1.401636e+12          2.229103e+09         2.028441e+09   \nmax    1.454548e+12          2.570970e+09         2.569156e+09   \n\n       back [J/m2]@influx  left [J/m2]@influx  right [J/m2]@influx  \\\ncount                66.0        6.600000e+01         6.600000e+01   \nmean                  0.0        2.497927e+07         5.102282e+07   \nstd                   0.0        1.042876e+08         1.640043e+08   \nmin                   0.0        0.000000e+00         0.000000e+00   \n25%                   0.0        0.000000e+00         0.000000e+00   \n50%                   0.0        2.889599e+06         0.000000e+00   \n75%                   0.0        1.596690e+07         6.935754e+05   \nmax                   0.0        8.357034e+08         8.898539e+08   \n\n       up [J/m2]@influx  down [J/m2]@influx  panels-sum1 [J/m2]@influx_sum  \\\ncount      6.600000e+01        6.600000e+01                   6.000000e+01   \nmean       7.664980e+07        5.521542e+08                   2.020172e+09   \nstd        2.116867e+08        4.998137e+08                   3.447751e+08   \nmin        0.000000e+00        0.000000e+00                   5.793814e+08   \n25%        0.000000e+00        7.683787e+07                   1.803825e+09   \n50%        0.000000e+00        4.138074e+08                   2.011179e+09   \n75%        2.377358e+02        9.644152e+08                   2.223515e+09   \nmax        1.040685e+09        1.928761e+09                   2.571126e+09   \n\n       panels-sum1-decay0.9 [J/m2]@influx_sum  ...   NPWD2792   NPWD2801  \\\ncount                            6.000000e+01  ...  66.000000  66.000000   \nmean                             1.818155e+09  ...   0.001139   0.001539   \nstd                              3.102976e+08  ...   0.000324   0.000029   \nmin                              5.214433e+08  ...   0.000560   0.001474   \n25%                              1.623442e+09  ...   0.000979   0.001524   \n50%                              1.810061e+09  ...   0.001213   0.001540   \n75%                              2.001163e+09  ...   0.001346   0.001554   \nmax                              2.314013e+09  ...   0.001779   0.001604   \n\n        NPWD2802   NPWD2821   NPWD2851   NPWD2852   NPWD2871   NPWD2872  \\\ncount  66.000000  66.000000  66.000000  66.000000  66.000000  66.000000   \nmean    0.133987   0.005774   0.328104   0.000526   0.000521   0.000744   \nstd     0.088989   0.000099   0.147245   0.000010   0.000010   0.000013   \nmin     0.002240   0.005547   0.005035   0.000501   0.000499   0.000714   \n25%     0.057536   0.005712   0.278083   0.000521   0.000516   0.000737   \n50%     0.134073   0.005783   0.339535   0.000528   0.000523   0.000746   \n75%     0.199803   0.005840   0.402043   0.000533   0.000527   0.000755   \nmax     0.310514   0.005991   0.778742   0.000547   0.000543   0.000778   \n\n        NPWD2881   NPWD2882  \ncount  66.000000  66.000000  \nmean    0.064397   0.003375  \nstd     0.187848   0.000059  \nmin     0.006457   0.003227  \n25%     0.006690   0.003349  \n50%     0.006767   0.003388  \n75%     0.006844   0.003416  \nmax     0.720093   0.003491  \n\n[8 rows x 518 columns]",
      "text/html": "<div>\n<style scoped>\n    .dataframe tbody tr th:only-of-type {\n        vertical-align: middle;\n    }\n\n    .dataframe tbody tr th {\n        vertical-align: top;\n    }\n\n    .dataframe thead th {\n        text-align: right;\n    }\n</style>\n<table border=\"1\" class=\"dataframe\">\n  <thead>\n    <tr style=\"text-align: right;\">\n      <th></th>\n      <th>ut_ms</th>\n      <th>panels [J/m2]@influx</th>\n      <th>front [J/m2]@influx</th>\n      <th>back [J/m2]@influx</th>\n      <th>left [J/m2]@influx</th>\n      <th>right [J/m2]@influx</th>\n      <th>up [J/m2]@influx</th>\n      <th>down [J/m2]@influx</th>\n      <th>panels-sum1 [J/m2]@influx_sum</th>\n      <th>panels-sum1-decay0.9 [J/m2]@influx_sum</th>\n      <th>...</th>\n      <th>NPWD2792</th>\n      <th>NPWD2801</th>\n      <th>NPWD2802</th>\n      <th>NPWD2821</th>\n      <th>NPWD2851</th>\n      <th>NPWD2852</th>\n      <th>NPWD2871</th>\n      <th>NPWD2872</th>\n      <th>NPWD2881</th>\n      <th>NPWD2882</th>\n    </tr>\n  </thead>\n  <tbody>\n    <tr>\n      <th>count</th>\n      <td>6.600000e+01</td>\n      <td>6.600000e+01</td>\n      <td>6.600000e+01</td>\n      <td>66.0</td>\n      <td>6.600000e+01</td>\n      <td>6.600000e+01</td>\n      <td>6.600000e+01</td>\n      <td>6.600000e+01</td>\n      <td>6.000000e+01</td>\n      <td>6.000000e+01</td>\n      <td>...</td>\n      <td>66.000000</td>\n      <td>66.000000</td>\n      <td>66.000000</td>\n      <td>66.000000</td>\n      <td>66.000000</td>\n      <td>66.000000</td>\n      <td>66.000000</td>\n      <td>66.000000</td>\n      <td>66.000000</td>\n      <td>66.000000</td>\n    </tr>\n    <tr>\n      <th>mean</th>\n      <td>1.348522e+12</td>\n      <td>1.766890e+09</td>\n      <td>1.599956e+09</td>\n      <td>0.0</td>\n      <td>2.497927e+07</td>\n      <td>5.102282e+07</td>\n      <td>7.664980e+07</td>\n      <td>5.521542e+08</td>\n      <td>2.020172e+09</td>\n      <td>1.818155e+09</td>\n      <td>...</td>\n      <td>0.001139</td>\n      <td>0.001539</td>\n      <td>0.133987</td>\n      <td>0.005774</td>\n      <td>0.328104</td>\n      <td>0.000526</td>\n      <td>0.000521</td>\n      <td>0.000744</td>\n      <td>0.064397</td>\n      <td>0.003375</td>\n    </tr>\n    <tr>\n      <th>std</th>\n      <td>6.172345e+10</td>\n      <td>7.621990e+08</td>\n      <td>7.300135e+08</td>\n      <td>0.0</td>\n      <td>1.042876e+08</td>\n      <td>1.640043e+08</td>\n      <td>2.116867e+08</td>\n      <td>4.998137e+08</td>\n      <td>3.447751e+08</td>\n      <td>3.102976e+08</td>\n      <td>...</td>\n      <td>0.000324</td>\n      <td>0.000029</td>\n      <td>0.088989</td>\n      <td>0.000099</td>\n      <td>0.147245</td>\n      <td>0.000010</td>\n      <td>0.000010</td>\n      <td>0.000013</td>\n      <td>0.187848</td>\n      <td>0.000059</td>\n    </tr>\n    <tr>\n      <th>min</th>\n      <td>1.221109e+12</td>\n      <td>0.000000e+00</td>\n      <td>0.000000e+00</td>\n      <td>0.0</td>\n      <td>0.000000e+00</td>\n      <td>0.000000e+00</td>\n      <td>0.000000e+00</td>\n      <td>0.000000e+00</td>\n      <td>5.793814e+08</td>\n      <td>5.214433e+08</td>\n      <td>...</td>\n      <td>0.000560</td>\n      <td>0.001474</td>\n      <td>0.002240</td>\n      <td>0.005547</td>\n      <td>0.005035</td>\n      <td>0.000501</td>\n      <td>0.000499</td>\n      <td>0.000714</td>\n      <td>0.006457</td>\n      <td>0.003227</td>\n    </tr>\n    <tr>\n      <th>25%</th>\n      <td>1.302844e+12</td>\n      <td>1.768255e+09</td>\n      <td>1.549963e+09</td>\n      <td>0.0</td>\n      <td>0.000000e+00</td>\n      <td>0.000000e+00</td>\n      <td>0.000000e+00</td>\n      <td>7.683787e+07</td>\n      <td>1.803825e+09</td>\n      <td>1.623442e+09</td>\n      <td>...</td>\n      <td>0.000979</td>\n      <td>0.001524</td>\n      <td>0.057536</td>\n      <td>0.005712</td>\n      <td>0.278083</td>\n      <td>0.000521</td>\n      <td>0.000516</td>\n      <td>0.000737</td>\n      <td>0.006690</td>\n      <td>0.003349</td>\n    </tr>\n    <tr>\n      <th>50%</th>\n      <td>1.348790e+12</td>\n      <td>1.984169e+09</td>\n      <td>1.760753e+09</td>\n      <td>0.0</td>\n      <td>2.889599e+06</td>\n      <td>0.000000e+00</td>\n      <td>0.000000e+00</td>\n      <td>4.138074e+08</td>\n      <td>2.011179e+09</td>\n      <td>1.810061e+09</td>\n      <td>...</td>\n      <td>0.001213</td>\n      <td>0.001540</td>\n      <td>0.134073</td>\n      <td>0.005783</td>\n      <td>0.339535</td>\n      <td>0.000528</td>\n      <td>0.000523</td>\n      <td>0.000746</td>\n      <td>0.006767</td>\n      <td>0.003388</td>\n    </tr>\n    <tr>\n      <th>75%</th>\n      <td>1.401636e+12</td>\n      <td>2.229103e+09</td>\n      <td>2.028441e+09</td>\n      <td>0.0</td>\n      <td>1.596690e+07</td>\n      <td>6.935754e+05</td>\n      <td>2.377358e+02</td>\n      <td>9.644152e+08</td>\n      <td>2.223515e+09</td>\n      <td>2.001163e+09</td>\n      <td>...</td>\n      <td>0.001346</td>\n      <td>0.001554</td>\n      <td>0.199803</td>\n      <td>0.005840</td>\n      <td>0.402043</td>\n      <td>0.000533</td>\n      <td>0.000527</td>\n      <td>0.000755</td>\n      <td>0.006844</td>\n      <td>0.003416</td>\n    </tr>\n    <tr>\n      <th>max</th>\n      <td>1.454548e+12</td>\n      <td>2.570970e+09</td>\n      <td>2.569156e+09</td>\n      <td>0.0</td>\n      <td>8.357034e+08</td>\n      <td>8.898539e+08</td>\n      <td>1.040685e+09</td>\n      <td>1.928761e+09</td>\n      <td>2.571126e+09</td>\n      <td>2.314013e+09</td>\n      <td>...</td>\n      <td>0.001779</td>\n      <td>0.001604</td>\n      <td>0.310514</td>\n      <td>0.005991</td>\n      <td>0.778742</td>\n      <td>0.000547</td>\n      <td>0.000543</td>\n      <td>0.000778</td>\n      <td>0.720093</td>\n      <td>0.003491</td>\n    </tr>\n  </tbody>\n</table>\n<p>8 rows × 518 columns</p>\n</div>"
     },
     "execution_count": 3,
     "metadata": {},
     "output_type": "execute_result"
    }
   ],
   "source": [
    "df = df.sample(frac=0.001)\n",
    "df.describe()"
   ],
   "metadata": {
    "collapsed": false
   }
  },
  {
   "cell_type": "code",
   "execution_count": 4,
   "outputs": [],
   "source": [
    "df = df.rename(columns = lambda x:re.sub('[^A-Za-z0-9_]+', '', x))"
   ],
   "metadata": {
    "collapsed": false
   }
  },
  {
   "cell_type": "code",
   "execution_count": 5,
   "outputs": [
    {
     "data": {
      "text/plain": "               ut_ms  panelsJm2influx  frontJm2influx  backJm2influx  \\\n9683   1254222060000     2.120099e+09    1.746184e+09            0.0   \n33652  1340510460000     1.904914e+09    1.425971e+09            0.0   \n32212  1335326460000     1.822261e+09    1.618487e+09            0.0   \n36358  1350252060000     2.346381e+09    2.179111e+09            0.0   \n46310  1386079260000     1.781429e+09    1.546936e+09            0.0   \n\n       leftJm2influx  rightJm2influx  upJm2influx  downJm2influx  \\\n9683    3.700275e+06    0.000000e+00          0.0   1.202364e+09   \n33652   1.304020e+08    1.503341e+06          0.0   1.227140e+09   \n32212   2.042065e+07    4.741922e+05          0.0   8.381684e+08   \n36358   1.748435e+07    0.000000e+00          0.0   8.513737e+08   \n46310   9.638552e+06    0.000000e+00          0.0   8.833637e+08   \n\n       panelssum1Jm2influx_sum  panelssum1decay09Jm2influx_sum  ...  NPWD2792  \\\n9683              2.120251e+09                    1.908226e+09  ...  0.000580   \n33652             1.827937e+09                    1.645144e+09  ...  0.001064   \n32212             1.755394e+09                    1.579855e+09  ...  0.001779   \n36358             2.322164e+09                    2.089948e+09  ...  0.001606   \n46310             1.781456e+09                    1.603310e+09  ...  0.001350   \n\n       NPWD2801  NPWD2802  NPWD2821  NPWD2851  NPWD2852  NPWD2871  NPWD2872  \\\n9683   0.001492  0.011300  0.005774  0.071356  0.000527  0.000520  0.000744   \n33652  0.001547  0.053875  0.005744  0.360135  0.000519  0.000524  0.000734   \n32212  0.001600  0.149136  0.005952  0.286648  0.000542  0.000538  0.000757   \n36358  0.001567  0.050651  0.005790  0.300159  0.000534  0.000522  0.000744   \n46310  0.001534  0.140128  0.005824  0.611866  0.000531  0.000524  0.000749   \n\n       NPWD2881  NPWD2882  \n9683   0.006755  0.003349  \n33652  0.720093  0.003394  \n32212  0.007041  0.003434  \n36358  0.006762  0.003386  \n46310  0.702788  0.003491  \n\n[5 rows x 518 columns]",
      "text/html": "<div>\n<style scoped>\n    .dataframe tbody tr th:only-of-type {\n        vertical-align: middle;\n    }\n\n    .dataframe tbody tr th {\n        vertical-align: top;\n    }\n\n    .dataframe thead th {\n        text-align: right;\n    }\n</style>\n<table border=\"1\" class=\"dataframe\">\n  <thead>\n    <tr style=\"text-align: right;\">\n      <th></th>\n      <th>ut_ms</th>\n      <th>panelsJm2influx</th>\n      <th>frontJm2influx</th>\n      <th>backJm2influx</th>\n      <th>leftJm2influx</th>\n      <th>rightJm2influx</th>\n      <th>upJm2influx</th>\n      <th>downJm2influx</th>\n      <th>panelssum1Jm2influx_sum</th>\n      <th>panelssum1decay09Jm2influx_sum</th>\n      <th>...</th>\n      <th>NPWD2792</th>\n      <th>NPWD2801</th>\n      <th>NPWD2802</th>\n      <th>NPWD2821</th>\n      <th>NPWD2851</th>\n      <th>NPWD2852</th>\n      <th>NPWD2871</th>\n      <th>NPWD2872</th>\n      <th>NPWD2881</th>\n      <th>NPWD2882</th>\n    </tr>\n  </thead>\n  <tbody>\n    <tr>\n      <th>9683</th>\n      <td>1254222060000</td>\n      <td>2.120099e+09</td>\n      <td>1.746184e+09</td>\n      <td>0.0</td>\n      <td>3.700275e+06</td>\n      <td>0.000000e+00</td>\n      <td>0.0</td>\n      <td>1.202364e+09</td>\n      <td>2.120251e+09</td>\n      <td>1.908226e+09</td>\n      <td>...</td>\n      <td>0.000580</td>\n      <td>0.001492</td>\n      <td>0.011300</td>\n      <td>0.005774</td>\n      <td>0.071356</td>\n      <td>0.000527</td>\n      <td>0.000520</td>\n      <td>0.000744</td>\n      <td>0.006755</td>\n      <td>0.003349</td>\n    </tr>\n    <tr>\n      <th>33652</th>\n      <td>1340510460000</td>\n      <td>1.904914e+09</td>\n      <td>1.425971e+09</td>\n      <td>0.0</td>\n      <td>1.304020e+08</td>\n      <td>1.503341e+06</td>\n      <td>0.0</td>\n      <td>1.227140e+09</td>\n      <td>1.827937e+09</td>\n      <td>1.645144e+09</td>\n      <td>...</td>\n      <td>0.001064</td>\n      <td>0.001547</td>\n      <td>0.053875</td>\n      <td>0.005744</td>\n      <td>0.360135</td>\n      <td>0.000519</td>\n      <td>0.000524</td>\n      <td>0.000734</td>\n      <td>0.720093</td>\n      <td>0.003394</td>\n    </tr>\n    <tr>\n      <th>32212</th>\n      <td>1335326460000</td>\n      <td>1.822261e+09</td>\n      <td>1.618487e+09</td>\n      <td>0.0</td>\n      <td>2.042065e+07</td>\n      <td>4.741922e+05</td>\n      <td>0.0</td>\n      <td>8.381684e+08</td>\n      <td>1.755394e+09</td>\n      <td>1.579855e+09</td>\n      <td>...</td>\n      <td>0.001779</td>\n      <td>0.001600</td>\n      <td>0.149136</td>\n      <td>0.005952</td>\n      <td>0.286648</td>\n      <td>0.000542</td>\n      <td>0.000538</td>\n      <td>0.000757</td>\n      <td>0.007041</td>\n      <td>0.003434</td>\n    </tr>\n    <tr>\n      <th>36358</th>\n      <td>1350252060000</td>\n      <td>2.346381e+09</td>\n      <td>2.179111e+09</td>\n      <td>0.0</td>\n      <td>1.748435e+07</td>\n      <td>0.000000e+00</td>\n      <td>0.0</td>\n      <td>8.513737e+08</td>\n      <td>2.322164e+09</td>\n      <td>2.089948e+09</td>\n      <td>...</td>\n      <td>0.001606</td>\n      <td>0.001567</td>\n      <td>0.050651</td>\n      <td>0.005790</td>\n      <td>0.300159</td>\n      <td>0.000534</td>\n      <td>0.000522</td>\n      <td>0.000744</td>\n      <td>0.006762</td>\n      <td>0.003386</td>\n    </tr>\n    <tr>\n      <th>46310</th>\n      <td>1386079260000</td>\n      <td>1.781429e+09</td>\n      <td>1.546936e+09</td>\n      <td>0.0</td>\n      <td>9.638552e+06</td>\n      <td>0.000000e+00</td>\n      <td>0.0</td>\n      <td>8.833637e+08</td>\n      <td>1.781456e+09</td>\n      <td>1.603310e+09</td>\n      <td>...</td>\n      <td>0.001350</td>\n      <td>0.001534</td>\n      <td>0.140128</td>\n      <td>0.005824</td>\n      <td>0.611866</td>\n      <td>0.000531</td>\n      <td>0.000524</td>\n      <td>0.000749</td>\n      <td>0.702788</td>\n      <td>0.003491</td>\n    </tr>\n  </tbody>\n</table>\n<p>5 rows × 518 columns</p>\n</div>"
     },
     "execution_count": 5,
     "metadata": {},
     "output_type": "execute_result"
    }
   ],
   "source": [
    "df.head(5)"
   ],
   "metadata": {
    "collapsed": false
   }
  },
  {
   "cell_type": "code",
   "execution_count": 6,
   "outputs": [],
   "source": [
    "X = df.iloc[:, 0:484]\n",
    "y = df.iloc[:, 485:518]\n",
    "#y = df.iloc[:, -1]"
   ],
   "metadata": {
    "collapsed": false
   }
  },
  {
   "cell_type": "code",
   "execution_count": 7,
   "outputs": [
    {
     "name": "stdout",
     "output_type": "stream",
     "text": [
      "(66, 484)\n",
      "(66, 33)\n"
     ]
    }
   ],
   "source": [
    "print(X.shape)\n",
    "print(y.shape)"
   ],
   "metadata": {
    "collapsed": false
   }
  },
  {
   "cell_type": "code",
   "execution_count": 15,
   "outputs": [],
   "source": [
    "lab = preprocessing.LabelEncoder()\n",
    "y_trans = lab.fit_transform(y.values.flatten())"
   ],
   "metadata": {
    "collapsed": false
   }
  },
  {
   "cell_type": "code",
   "execution_count": 16,
   "outputs": [
    {
     "ename": "ValueError",
     "evalue": "Found input variables with inconsistent numbers of samples: [66, 2178]",
     "output_type": "error",
     "traceback": [
      "\u001B[0;31m---------------------------------------------------------------------------\u001B[0m",
      "\u001B[0;31mValueError\u001B[0m                                Traceback (most recent call last)",
      "Cell \u001B[0;32mIn [16], line 1\u001B[0m\n\u001B[0;32m----> 1\u001B[0m X_train, X_test, y_train, y_test \u001B[38;5;241m=\u001B[39m \u001B[43mtrain_test_split\u001B[49m\u001B[43m(\u001B[49m\n\u001B[1;32m      2\u001B[0m \u001B[43m    \u001B[49m\u001B[43mX\u001B[49m\u001B[43m,\u001B[49m\u001B[43m \u001B[49m\u001B[43my_trans\u001B[49m\u001B[43m,\u001B[49m\u001B[43m \u001B[49m\u001B[43mtest_size\u001B[49m\u001B[38;5;241;43m=\u001B[39;49m\u001B[38;5;241;43m0.33\u001B[39;49m\u001B[43m,\u001B[49m\u001B[43m \u001B[49m\u001B[43mrandom_state\u001B[49m\u001B[38;5;241;43m=\u001B[39;49m\u001B[38;5;241;43m42\u001B[39;49m\n\u001B[1;32m      3\u001B[0m \u001B[43m)\u001B[49m\n",
      "File \u001B[0;32m~/opt/miniconda3/envs/data-science/lib/python3.10/site-packages/sklearn/model_selection/_split.py:2445\u001B[0m, in \u001B[0;36mtrain_test_split\u001B[0;34m(test_size, train_size, random_state, shuffle, stratify, *arrays)\u001B[0m\n\u001B[1;32m   2442\u001B[0m \u001B[38;5;28;01mif\u001B[39;00m n_arrays \u001B[38;5;241m==\u001B[39m \u001B[38;5;241m0\u001B[39m:\n\u001B[1;32m   2443\u001B[0m     \u001B[38;5;28;01mraise\u001B[39;00m \u001B[38;5;167;01mValueError\u001B[39;00m(\u001B[38;5;124m\"\u001B[39m\u001B[38;5;124mAt least one array required as input\u001B[39m\u001B[38;5;124m\"\u001B[39m)\n\u001B[0;32m-> 2445\u001B[0m arrays \u001B[38;5;241m=\u001B[39m \u001B[43mindexable\u001B[49m\u001B[43m(\u001B[49m\u001B[38;5;241;43m*\u001B[39;49m\u001B[43marrays\u001B[49m\u001B[43m)\u001B[49m\n\u001B[1;32m   2447\u001B[0m n_samples \u001B[38;5;241m=\u001B[39m _num_samples(arrays[\u001B[38;5;241m0\u001B[39m])\n\u001B[1;32m   2448\u001B[0m n_train, n_test \u001B[38;5;241m=\u001B[39m _validate_shuffle_split(\n\u001B[1;32m   2449\u001B[0m     n_samples, test_size, train_size, default_test_size\u001B[38;5;241m=\u001B[39m\u001B[38;5;241m0.25\u001B[39m\n\u001B[1;32m   2450\u001B[0m )\n",
      "File \u001B[0;32m~/opt/miniconda3/envs/data-science/lib/python3.10/site-packages/sklearn/utils/validation.py:433\u001B[0m, in \u001B[0;36mindexable\u001B[0;34m(*iterables)\u001B[0m\n\u001B[1;32m    414\u001B[0m \u001B[38;5;124;03m\"\"\"Make arrays indexable for cross-validation.\u001B[39;00m\n\u001B[1;32m    415\u001B[0m \n\u001B[1;32m    416\u001B[0m \u001B[38;5;124;03mChecks consistent length, passes through None, and ensures that everything\u001B[39;00m\n\u001B[0;32m   (...)\u001B[0m\n\u001B[1;32m    429\u001B[0m \u001B[38;5;124;03m    sparse matrix, or dataframe) or `None`.\u001B[39;00m\n\u001B[1;32m    430\u001B[0m \u001B[38;5;124;03m\"\"\"\u001B[39;00m\n\u001B[1;32m    432\u001B[0m result \u001B[38;5;241m=\u001B[39m [_make_indexable(X) \u001B[38;5;28;01mfor\u001B[39;00m X \u001B[38;5;129;01min\u001B[39;00m iterables]\n\u001B[0;32m--> 433\u001B[0m \u001B[43mcheck_consistent_length\u001B[49m\u001B[43m(\u001B[49m\u001B[38;5;241;43m*\u001B[39;49m\u001B[43mresult\u001B[49m\u001B[43m)\u001B[49m\n\u001B[1;32m    434\u001B[0m \u001B[38;5;28;01mreturn\u001B[39;00m result\n",
      "File \u001B[0;32m~/opt/miniconda3/envs/data-science/lib/python3.10/site-packages/sklearn/utils/validation.py:387\u001B[0m, in \u001B[0;36mcheck_consistent_length\u001B[0;34m(*arrays)\u001B[0m\n\u001B[1;32m    385\u001B[0m uniques \u001B[38;5;241m=\u001B[39m np\u001B[38;5;241m.\u001B[39munique(lengths)\n\u001B[1;32m    386\u001B[0m \u001B[38;5;28;01mif\u001B[39;00m \u001B[38;5;28mlen\u001B[39m(uniques) \u001B[38;5;241m>\u001B[39m \u001B[38;5;241m1\u001B[39m:\n\u001B[0;32m--> 387\u001B[0m     \u001B[38;5;28;01mraise\u001B[39;00m \u001B[38;5;167;01mValueError\u001B[39;00m(\n\u001B[1;32m    388\u001B[0m         \u001B[38;5;124m\"\u001B[39m\u001B[38;5;124mFound input variables with inconsistent numbers of samples: \u001B[39m\u001B[38;5;132;01m%r\u001B[39;00m\u001B[38;5;124m\"\u001B[39m\n\u001B[1;32m    389\u001B[0m         \u001B[38;5;241m%\u001B[39m [\u001B[38;5;28mint\u001B[39m(l) \u001B[38;5;28;01mfor\u001B[39;00m l \u001B[38;5;129;01min\u001B[39;00m lengths]\n\u001B[1;32m    390\u001B[0m     )\n",
      "\u001B[0;31mValueError\u001B[0m: Found input variables with inconsistent numbers of samples: [66, 2178]"
     ]
    }
   ],
   "source": [
    "X_train, X_test, y_train, y_test = train_test_split(\n",
    "    X, y_trans, test_size=0.33, random_state=42\n",
    ")"
   ],
   "metadata": {
    "collapsed": false
   }
  },
  {
   "cell_type": "code",
   "execution_count": 14,
   "outputs": [
    {
     "ename": "NameError",
     "evalue": "name 'X_train' is not defined",
     "output_type": "error",
     "traceback": [
      "\u001B[0;31m---------------------------------------------------------------------------\u001B[0m",
      "\u001B[0;31mNameError\u001B[0m                                 Traceback (most recent call last)",
      "Cell \u001B[0;32mIn [14], line 4\u001B[0m\n\u001B[1;32m      1\u001B[0m lgb \u001B[38;5;241m=\u001B[39m LGBMClassifier(learning_rate\u001B[38;5;241m=\u001B[39m\u001B[38;5;241m0.09\u001B[39m,\n\u001B[1;32m      2\u001B[0m                      max_depth\u001B[38;5;241m=\u001B[39m\u001B[38;5;241m-\u001B[39m\u001B[38;5;241m5\u001B[39m,\n\u001B[1;32m      3\u001B[0m                      random_state\u001B[38;5;241m=\u001B[39m\u001B[38;5;241m42\u001B[39m)\n\u001B[0;32m----> 4\u001B[0m model_lgb \u001B[38;5;241m=\u001B[39m lgb\u001B[38;5;241m.\u001B[39mfit(\u001B[43mX_train\u001B[49m, y_train)\n\u001B[1;32m      5\u001B[0m y_pred \u001B[38;5;241m=\u001B[39m model_lgb\u001B[38;5;241m.\u001B[39mpredict(X_test)\n\u001B[1;32m      6\u001B[0m \u001B[38;5;28mprint\u001B[39m(classification_report(y_test, y_pred))\n",
      "\u001B[0;31mNameError\u001B[0m: name 'X_train' is not defined"
     ]
    }
   ],
   "source": [
    "lgb = LGBMClassifier(learning_rate=0.09,\n",
    "                     max_depth=-5,\n",
    "                     random_state=42)\n",
    "model_lgb = lgb.fit(X_train, y_train)\n",
    "y_pred = model_lgb.predict(X_test)\n",
    "print(classification_report(y_test, y_pred))"
   ],
   "metadata": {
    "collapsed": false
   }
  },
  {
   "cell_type": "code",
   "execution_count": null,
   "outputs": [],
   "source": [],
   "metadata": {
    "collapsed": false
   }
  }
 ],
 "metadata": {
  "kernelspec": {
   "display_name": "Python 3",
   "language": "python",
   "name": "python3"
  },
  "language_info": {
   "codemirror_mode": {
    "name": "ipython",
    "version": 2
   },
   "file_extension": ".py",
   "mimetype": "text/x-python",
   "name": "python",
   "nbconvert_exporter": "python",
   "pygments_lexer": "ipython2",
   "version": "2.7.6"
  }
 },
 "nbformat": 4,
 "nbformat_minor": 0
}
