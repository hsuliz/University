{
 "cells": [
  {
   "cell_type": "markdown",
   "source": [
    "# Stworzyć następujące iteratory nieskończone:"
   ],
   "metadata": {
    "collapsed": false
   }
  },
  {
   "cell_type": "markdown",
   "source": [
    "## Zwracający 0, 1, 0, 1, 0, 1, ...,"
   ],
   "metadata": {
    "collapsed": false
   }
  },
  {
   "cell_type": "code",
   "execution_count": 22,
   "outputs": [
    {
     "name": "stdout",
     "output_type": "stream",
     "text": [
      "0, 1, 0, 1, 0, 1, 0, 1, 0, 1, "
     ]
    }
   ],
   "source": [
    "class BinaryNumbers:\n",
    "    def __iter__(self):\n",
    "        self.current = 0\n",
    "        self.map = {\n",
    "            True: 0, False: 1\n",
    "        }\n",
    "        return self\n",
    "\n",
    "    def __next__(self):\n",
    "        self.current += 1\n",
    "        return self.map.get(self.current % 2)\n",
    "\n",
    "\n",
    "binary_numbers = BinaryNumbers()\n",
    "iterator = iter(binary_numbers)\n",
    "\n",
    "for x in range(10):\n",
    "    print(iterator.__next__(), end=\", \")"
   ],
   "metadata": {
    "collapsed": false
   }
  },
  {
   "cell_type": "code",
   "execution_count": null,
   "outputs": [],
   "source": [],
   "metadata": {
    "collapsed": false
   }
  }
 ],
 "metadata": {
  "kernelspec": {
   "display_name": "Python 3",
   "language": "python",
   "name": "python3"
  },
  "language_info": {
   "codemirror_mode": {
    "name": "ipython",
    "version": 2
   },
   "file_extension": ".py",
   "mimetype": "text/x-python",
   "name": "python",
   "nbconvert_exporter": "python",
   "pygments_lexer": "ipython2",
   "version": "2.7.6"
  }
 },
 "nbformat": 4,
 "nbformat_minor": 0
}
