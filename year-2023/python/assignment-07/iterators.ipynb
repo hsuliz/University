{
 "cells": [
  {
   "cell_type": "markdown",
   "source": [
    "# Stworzyć następujące iteratory nieskończone:"
   ],
   "metadata": {
    "collapsed": false
   }
  },
  {
   "cell_type": "markdown",
   "source": [
    "### Zwracający 0, 1, 0, 1, 0, 1, ...,"
   ],
   "metadata": {
    "collapsed": false
   }
  },
  {
   "cell_type": "code",
   "execution_count": 1,
   "outputs": [
    {
     "name": "stdout",
     "output_type": "stream",
     "text": [
      "0, 1, 0, 1, 0, 1, 0, 1, 0, 1, "
     ]
    }
   ],
   "source": [
    "class BinaryNumbers:\n",
    "    def __iter__(self):\n",
    "        self.current = 0\n",
    "        self.map = {\n",
    "            True: 0, False: 1\n",
    "        }\n",
    "        return self\n",
    "\n",
    "    def __next__(self):\n",
    "        self.current += 1\n",
    "        return self.map.get(self.current % 2)\n",
    "\n",
    "\n",
    "binary_numbers = BinaryNumbers()\n",
    "iterator = iter(binary_numbers)\n",
    "\n",
    "for x in range(10):\n",
    "    print(iterator.__next__(), end=\", \")"
   ],
   "metadata": {
    "collapsed": false
   }
  },
  {
   "cell_type": "markdown",
   "source": [
    "### Zwracający przypadkowo jedną wartość z (\"N\", \"E\", \"S\", \"W\") [błądzenie przypadkowe na sieci kwadratowej 2D]"
   ],
   "metadata": {
    "collapsed": false
   }
  },
  {
   "cell_type": "code",
   "execution_count": 2,
   "outputs": [
    {
     "name": "stdout",
     "output_type": "stream",
     "text": [
      "S, W, E, E, S, W, S, E, W, W, "
     ]
    }
   ],
   "source": [
    "import random\n",
    "\n",
    "\n",
    "class RandomDirection:\n",
    "    def __iter__(self):\n",
    "        self.current = 0\n",
    "        self.map = {\n",
    "            0: 'N', 1: 'E', 2: 'S', 3: 'W'\n",
    "        }\n",
    "        return self\n",
    "\n",
    "    def __next__(self):\n",
    "        self.current += 1\n",
    "        return self.map.get(random.choice([i for i in range(4)]))\n",
    "\n",
    "\n",
    "binary_numbers = RandomDirection()\n",
    "iterator = iter(binary_numbers)\n",
    "\n",
    "for x in range(10):\n",
    "    print(iterator.__next__(), end=\", \")"
   ],
   "metadata": {
    "collapsed": false
   }
  },
  {
   "cell_type": "markdown",
   "source": [
    "### Zwracający 0, 1, 2, 3, 4, 5, 6, 0, 1, 2, 3, 4, 5, 6, ... [numery dni tygodnia]."
   ],
   "metadata": {
    "collapsed": false
   }
  },
  {
   "cell_type": "code",
   "execution_count": 3,
   "outputs": [
    {
     "name": "stdout",
     "output_type": "stream",
     "text": [
      "0, 1, 2, 3, 4, 5, 6, 0, 1, 2, 3, 4, 5, 6, 0, 1, 2, "
     ]
    }
   ],
   "source": [
    "\n",
    "class RandomDirection:\n",
    "    def __iter__(self):\n",
    "        self.current = 0\n",
    "        return self\n",
    "\n",
    "    def __next__(self):\n",
    "        tmp = self.current\n",
    "        self.current += 1\n",
    "        return tmp % 7\n",
    "\n",
    "\n",
    "binary_numbers = RandomDirection()\n",
    "iterator = iter(binary_numbers)\n",
    "\n",
    "for x in range(17):\n",
    "    print(iterator.__next__(), end=\", \")"
   ],
   "metadata": {
    "collapsed": false
   }
  },
  {
   "cell_type": "markdown",
   "source": [],
   "metadata": {
    "collapsed": false
   }
  }
 ],
 "metadata": {
  "kernelspec": {
   "display_name": "Python 3",
   "language": "python",
   "name": "python3"
  },
  "language_info": {
   "codemirror_mode": {
    "name": "ipython",
    "version": 2
   },
   "file_extension": ".py",
   "mimetype": "text/x-python",
   "name": "python",
   "nbconvert_exporter": "python",
   "pygments_lexer": "ipython2",
   "version": "2.7.6"
  }
 },
 "nbformat": 4,
 "nbformat_minor": 0
}
