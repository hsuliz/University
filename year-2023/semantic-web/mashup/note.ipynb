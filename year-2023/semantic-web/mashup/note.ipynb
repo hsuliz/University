{
 "cells": [
  {
   "cell_type": "code",
   "execution_count": 92,
   "metadata": {
    "collapsed": true
   },
   "outputs": [],
   "source": [
    "import SPARQLWrapper"
   ]
  },
  {
   "cell_type": "code",
   "execution_count": 99,
   "outputs": [],
   "source": [
    "wikidata = SPARQLWrapper.SPARQLWrapper(\"https://query.wikidata.org/sparql\")\n",
    "musicdata = SPARQLWrapper.SPARQLWrapper(\"http://dbtune.org/musicbrainz/sparql\")"
   ],
   "metadata": {
    "collapsed": false
   }
  },
  {
   "cell_type": "code",
   "execution_count": 101,
   "outputs": [
    {
     "data": {
      "text/plain": "{'head': {'vars': ['s', 'p', 'o']},\n 'results': {'bindings': [{'s': {'type': 'uri',\n     'value': 'http://dbtune.org/musicbrainz/resource/l_track_track/26296'},\n    'p': {'type': 'uri',\n     'value': 'http://dbtune.org/musicbrainz/resource/vocab/l_track_track_link_type'},\n    'o': {'datatype': 'http://www.w3.org/2001/XMLSchema#int',\n     'type': 'typed-literal',\n     'value': '3'}},\n   {'s': {'type': 'uri',\n     'value': 'http://dbtune.org/musicbrainz/resource/l_track_track/26296'},\n    'p': {'type': 'uri',\n     'value': 'http://www.w3.org/2000/01/rdf-schema#label'},\n    'o': {'type': 'literal', 'value': 'l_track_track #26296'}},\n   {'s': {'type': 'uri',\n     'value': 'http://dbtune.org/musicbrainz/resource/l_track_track/26296'},\n    'p': {'type': 'uri',\n     'value': 'http://dbtune.org/musicbrainz/resource/vocab/l_track_track_link0'},\n    'o': {'datatype': 'http://www.w3.org/2001/XMLSchema#int',\n     'type': 'typed-literal',\n     'value': '4870565'}},\n   {'s': {'type': 'uri',\n     'value': 'http://dbtune.org/musicbrainz/resource/l_track_track/26296'},\n    'p': {'type': 'uri',\n     'value': 'http://dbtune.org/musicbrainz/resource/vocab/l_track_track_id'},\n    'o': {'datatype': 'http://www.w3.org/2001/XMLSchema#int',\n     'type': 'typed-literal',\n     'value': '26296'}},\n   {'s': {'type': 'uri',\n     'value': 'http://dbtune.org/musicbrainz/resource/l_track_track/26296'},\n    'p': {'type': 'uri',\n     'value': 'http://dbtune.org/musicbrainz/resource/vocab/l_track_track_link1'},\n    'o': {'datatype': 'http://www.w3.org/2001/XMLSchema#int',\n     'type': 'typed-literal',\n     'value': '2297579'}}]}}"
     },
     "execution_count": 101,
     "metadata": {},
     "output_type": "execute_result"
    }
   ],
   "source": [
    "musicdata.setQuery(\"\"\"\n",
    "PREFIX mo: <http://purl.org/ontology/mo/>\n",
    "PREFIX mbz: <http://purl.org/ontology/mbz#>\n",
    "PREFIX owl: <http://www.w3.org/2002/07/owl#>\n",
    "PREFIX xsd: <http://www.w3.org/2001/XMLSchema#>\n",
    "PREFIX bio: <http://purl.org/vocab/bio/0.1/>\n",
    "PREFIX rdfs: <http://www.w3.org/2000/01/rdf-schema#>\n",
    "PREFIX tags: <http://www.holygoat.co.uk/owl/redwood/0.1/tags/>\n",
    "PREFIX geo: <http://www.geonames.org/ontology#>\n",
    "PREFIX rdf: <http://www.w3.org/1999/02/22-rdf-syntax-ns#>\n",
    "PREFIX lingvoj: <http://www.lingvoj.org/ontology#>\n",
    "PREFIX rel: <http://purl.org/vocab/relationship/>\n",
    "PREFIX vocab: <http://dbtune.org/musicbrainz/resource/vocab/>\n",
    "PREFIX event: <http://purl.org/NET/c4dm/event.owl#>\n",
    "PREFIX map: <file:/home/moustaki/work/motools/musicbrainz/d2r-server-0.4/mbz_mapping_raw.n3#>\n",
    "PREFIX db: <http://dbtune.org/musicbrainz/resource/>\n",
    "PREFIX foaf: <http://xmlns.com/foaf/0.1/>\n",
    "PREFIX dc: <http://purl.org/dc/elements/1.1/>\n",
    "\n",
    "SELECT DISTINCT *\n",
    "WHERE {\n",
    "    ?s ?p ?o\n",
    "}\n",
    "LIMIT 5\n",
    "\"\"\")\n",
    "musicdata.setReturnFormat(SPARQLWrapper.JSON)\n",
    "md_results = musicdata.query().convert()\n",
    "md_results"
   ],
   "metadata": {
    "collapsed": false
   }
  },
  {
   "cell_type": "code",
   "execution_count": null,
   "outputs": [],
   "source": [],
   "metadata": {
    "collapsed": false
   }
  }
 ],
 "metadata": {
  "kernelspec": {
   "display_name": "Python 3",
   "language": "python",
   "name": "python3"
  },
  "language_info": {
   "codemirror_mode": {
    "name": "ipython",
    "version": 2
   },
   "file_extension": ".py",
   "mimetype": "text/x-python",
   "name": "python",
   "nbconvert_exporter": "python",
   "pygments_lexer": "ipython2",
   "version": "2.7.6"
  }
 },
 "nbformat": 4,
 "nbformat_minor": 0
}
