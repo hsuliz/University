{
 "cells": [
  {
   "cell_type": "code",
   "execution_count": 2,
   "metadata": {
    "collapsed": true
   },
   "outputs": [],
   "source": [
    "import SPARQLWrapper"
   ]
  },
  {
   "cell_type": "code",
   "execution_count": 3,
   "outputs": [],
   "source": [
    "wikidata = SPARQLWrapper.SPARQLWrapper(\"https://query.wikidata.org/sparql\")\n",
    "musicdata = SPARQLWrapper.SPARQLWrapper(\"http://dbtune.org/musicbrainz/sparql\")"
   ],
   "metadata": {
    "collapsed": false
   }
  },
  {
   "cell_type": "code",
   "execution_count": 73,
   "outputs": [
    {
     "name": "stdout",
     "output_type": "stream",
     "text": [
      "{'head': {'vars': ['artist_name']}, 'results': {'bindings': [{'artist_name': {'type': 'literal', 'value': 'Spectro'}}]}}\n",
      "Spectro\n"
     ]
    }
   ],
   "source": [
    "musicdata.setQuery(\"\"\"\n",
    "PREFIX mo: <http://purl.org/ontology/mo/>\n",
    "PREFIX mbz: <http://purl.org/ontology/mbz#>\n",
    "PREFIX owl: <http://www.w3.org/2002/07/owl#>\n",
    "PREFIX xsd: <http://www.w3.org/2001/XMLSchema#>\n",
    "PREFIX bio: <http://purl.org/vocab/bio/0.1/>\n",
    "PREFIX rdfs: <http://www.w3.org/2000/01/rdf-schema#>\n",
    "PREFIX tags: <http://www.holygoat.co.uk/owl/redwood/0.1/tags/>\n",
    "PREFIX geo: <http://www.geonames.org/ontology#>\n",
    "PREFIX rdf: <http://www.w3.org/1999/02/22-rdf-syntax-ns#>\n",
    "PREFIX lingvoj: <http://www.lingvoj.org/ontology#>\n",
    "PREFIX rel: <http://purl.org/vocab/relationship/>\n",
    "PREFIX vocab: <http://dbtune.org/musicbrainz/resource/vocab/>\n",
    "PREFIX event: <http://purl.org/NET/c4dm/event.owl#>\n",
    "PREFIX map: <file:/home/moustaki/work/motools/musicbrainz/d2r-server-0.4/mbz_mapping_raw.n3#>\n",
    "PREFIX db: <http://dbtune.org/musicbrainz/resource/>\n",
    "PREFIX foaf: <http://xmlns.com/foaf/0.1/>\n",
    "PREFIX dc: <http://purl.org/dc/elements/1.1/>\n",
    "PREFIX artist: <http://dbtune.org/musicbrainz/resource/artist/>\n",
    "\n",
    "SELECT DISTINCT ?artist_name\n",
    "WHERE {\n",
    "\n",
    "        artist:0000a1ef-dcba-457b-96e4-5b594b3dd13e foaf:name ?artist_name ;\n",
    "}\n",
    "LIMIT 5\n",
    "\"\"\")\n",
    "musicdata.setReturnFormat(SPARQLWrapper.JSON)\n",
    "md_results = musicdata.query().convert()\n",
    "print(md_results)\n",
    "for result in md_results[\"results\"][\"bindings\"]:\n",
    "    print(f'{result[\"artist_name\"][\"value\"]}')"
   ],
   "metadata": {
    "collapsed": false
   }
  },
  {
   "cell_type": "code",
   "execution_count": 72,
   "outputs": [
    {
     "data": {
      "text/plain": "{'head': {'vars': ['artist_name', 'to_find']},\n 'results': {'bindings': [{'artist_name': {'type': 'uri',\n     'value': 'http://www.wikidata.org/entity/Q852335'}},\n   {'artist_name': {'type': 'uri',\n     'value': 'http://www.wikidata.org/entity/Q916968'}},\n   {'artist_name': {'type': 'uri',\n     'value': 'http://www.wikidata.org/entity/Q1469093'}},\n   {'artist_name': {'type': 'uri',\n     'value': 'http://www.wikidata.org/entity/Q1604035'}},\n   {'artist_name': {'type': 'uri',\n     'value': 'http://www.wikidata.org/entity/Q3393170'}}]}}"
     },
     "execution_count": 72,
     "metadata": {},
     "output_type": "execute_result"
    }
   ],
   "source": [
    "wikidata.setQuery(\"\"\"\n",
    "PREFIX bd: <http://www.bigdata.com/rdf#>\n",
    "PREFIX wd: <http://www.wikidata.org/entity/>\n",
    "PREFIX wdt: <http://www.wikidata.org/prop/direct/>\n",
    "PREFIX wikibase: <http://wikiba.se/ontology#>\n",
    "\n",
    "SELECT DISTINCT ?artist_name ?to_find\n",
    "WHERE {\n",
    "    ?artist_name wdt:P106 wd:Q215380 ;\n",
    "}\n",
    "LIMIT 5\n",
    "\"\"\")\n",
    "#Rodrigo y Gabriela\n",
    "wikidata.setReturnFormat(SPARQLWrapper.JSON)\n",
    "wk_results = wikidata.query().convert()\n",
    "wk_results"
   ],
   "metadata": {
    "collapsed": false
   }
  }
 ],
 "metadata": {
  "kernelspec": {
   "display_name": "Python 3",
   "language": "python",
   "name": "python3"
  },
  "language_info": {
   "codemirror_mode": {
    "name": "ipython",
    "version": 2
   },
   "file_extension": ".py",
   "mimetype": "text/x-python",
   "name": "python",
   "nbconvert_exporter": "python",
   "pygments_lexer": "ipython2",
   "version": "2.7.6"
  }
 },
 "nbformat": 4,
 "nbformat_minor": 0
}
