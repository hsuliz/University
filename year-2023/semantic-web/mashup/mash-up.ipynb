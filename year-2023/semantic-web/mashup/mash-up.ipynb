{
 "cells": [
  {
   "cell_type": "code",
   "execution_count": 1,
   "metadata": {
    "collapsed": true
   },
   "outputs": [],
   "source": [
    "import SPARQLWrapper"
   ]
  },
  {
   "cell_type": "code",
   "execution_count": 2,
   "outputs": [],
   "source": [
    "wikidata = SPARQLWrapper.SPARQLWrapper(\"https://dbpedia.org/sparql\")\n",
    "musicdata = SPARQLWrapper.SPARQLWrapper(\"http://dbtune.org/musicbrainz/sparql\")"
   ],
   "metadata": {
    "collapsed": false
   }
  },
  {
   "cell_type": "code",
   "execution_count": 17,
   "outputs": [
    {
     "data": {
      "text/plain": "{'head': {'vars': ['resource', 'value']},\n 'results': {'bindings': [{'resource': {'type': 'uri',\n     'value': 'http://dbtune.org/musicbrainz/resource/artist/08442748-9507-40c5-9cb6-47bdf67816f0'},\n    'value': {'type': 'literal',\n     'value': \"Dick Hyman & Mike Lipskin & Harry 'Sweets' Edison\"}}]}}"
     },
     "execution_count": 17,
     "metadata": {},
     "output_type": "execute_result"
    }
   ],
   "source": [
    "musicdata.setQuery(\"\"\"\n",
    "PREFIX mo: <http://purl.org/ontology/mo/>\n",
    "PREFIX mbz: <http://purl.org/ontology/mbz#>\n",
    "PREFIX owl: <http://www.w3.org/2002/07/owl#>\n",
    "PREFIX xsd: <http://www.w3.org/2001/XMLSchema#>\n",
    "PREFIX bio: <http://purl.org/vocab/bio/0.1/>\n",
    "PREFIX rdfs: <http://www.w3.org/2000/01/rdf-schema#>\n",
    "PREFIX tags: <http://www.holygoat.co.uk/owl/redwood/0.1/tags/>\n",
    "PREFIX geo: <http://www.geonames.org/ontology#>\n",
    "PREFIX rdf: <http://www.w3.org/1999/02/22-rdf-syntax-ns#>\n",
    "PREFIX lingvoj: <http://www.lingvoj.org/ontology#>\n",
    "PREFIX rel: <http://purl.org/vocab/relationship/>\n",
    "PREFIX vocab: <http://dbtune.org/musicbrainz/resource/vocab/>\n",
    "PREFIX event: <http://purl.org/NET/c4dm/event.owl#>\n",
    "PREFIX map: <file:/home/moustaki/work/motools/musicbrainz/d2r-server-0.4/mbz_mapping_raw.n3#>\n",
    "PREFIX db: <http://dbtune.org/musicbrainz/resource/>\n",
    "PREFIX foaf: <http://xmlns.com/foaf/0.1/>\n",
    "PREFIX dc: <http://purl.org/dc/elements/1.1/>\n",
    "PREFIX artist: <http://dbtune.org/musicbrainz/resource/artist/>\n",
    "\n",
    "SELECT DISTINCT ?resource ?value\n",
    "WHERE { ?resource <http://xmlns.com/foaf/0.1/name> ?value;\n",
    "FILTER(?value = \"Dick Hyman & Mike Lipskin & Harry 'Sweets' Edison\")\n",
    "}\n",
    "ORDER BY ?resource ?value\n",
    "\n",
    "\"\"\")\n",
    "musicdata.setReturnFormat(SPARQLWrapper.JSON)\n",
    "md_results = musicdata.query().convert()\n",
    "\n",
    "md_results"
   ],
   "metadata": {
    "collapsed": false
   }
  },
  {
   "cell_type": "code",
   "execution_count": null,
   "outputs": [],
   "source": [],
   "metadata": {
    "collapsed": false
   }
  },
  {
   "cell_type": "code",
   "execution_count": 9,
   "outputs": [
    {
     "data": {
      "text/plain": "'Natsumi Abe (安倍 なつみ, Abe Natsumi, born August 10, 1981) is a Japanese singer and actress, a former member of Morning Musume, and currently a member of Dream Morning Musume.'"
     },
     "execution_count": 9,
     "metadata": {},
     "output_type": "execute_result"
    }
   ],
   "source": [
    "wikidata.setQuery(\"\"\"\n",
    "PREFIX bd: <http://www.bigdata.com/rdf#>\n",
    "PREFIX wd: <http://www.wikidata.org/entity/>\n",
    "PREFIX wdt: <http://www.wikidata.org/prop/direct/>\n",
    "PREFIX myartist: <\"\"\" + dbp_link + \"\"\">\n",
    "PREFIX rdfs: <http://www.w3.org/2000/01/rdf-schema#>\n",
    "\n",
    "SELECT DISTINCT ?info\n",
    "WHERE {\n",
    "     myartist: rdfs:comment ?info .\n",
    "     FILTER(LANG(?info) = \"en\")\n",
    "}\n",
    "\n",
    "\"\"\")\n",
    "\n",
    "wikidata.setReturnFormat(SPARQLWrapper.JSON)\n",
    "wk_results = wikidata.query().convert()\n",
    "wk_results['results']['bindings'][0]['info']['value']"
   ],
   "metadata": {
    "collapsed": false
   }
  }
 ],
 "metadata": {
  "kernelspec": {
   "display_name": "Python 3",
   "language": "python",
   "name": "python3"
  },
  "language_info": {
   "codemirror_mode": {
    "name": "ipython",
    "version": 2
   },
   "file_extension": ".py",
   "mimetype": "text/x-python",
   "name": "python",
   "nbconvert_exporter": "python",
   "pygments_lexer": "ipython2",
   "version": "2.7.6"
  }
 },
 "nbformat": 4,
 "nbformat_minor": 0
}
