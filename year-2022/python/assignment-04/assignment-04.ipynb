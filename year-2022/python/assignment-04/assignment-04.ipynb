{
 "cells": [
  {
   "cell_type": "markdown",
   "source": [
    "# Zestaw 4"
   ],
   "metadata": {
    "collapsed": false
   }
  },
  {
   "cell_type": "markdown",
   "source": [
    "## ZADANIE 4.2\n",
    "Rozwiązania zadań 3.5 i 3.6 z poprzedniego zestawu zapisać w postaci funkcji, które zwracają pełny string przez return. Funkcje nie powinny pytać użytkownika o dane, tylko korzystać z argumentów."
   ],
   "metadata": {
    "collapsed": false
   }
  },
  {
   "cell_type": "code",
   "execution_count": 1,
   "outputs": [
    {
     "name": "stdout",
     "output_type": "stream",
     "text": [
      "|....|....|\n",
      "0    1    2\n"
     ]
    }
   ],
   "source": [
    "def make_ruler(length) -> str:\n",
    "    up = \"|\" + \"\".join(\"....|\" for _ in range(length))\n",
    "    down = \"\"\n",
    "    for i in range(length + 1):\n",
    "        if i == 0:\n",
    "            down += str(i)\n",
    "        elif i < 10:\n",
    "            down += \"    \" + str(i)\n",
    "        else:\n",
    "            down += \"   \" + str(i)\n",
    "    return up + \"\\n\" + down\n",
    "\n",
    "\n",
    "print(make_ruler(2))"
   ],
   "metadata": {
    "collapsed": false
   }
  },
  {
   "cell_type": "code",
   "execution_count": 2,
   "outputs": [
    {
     "name": "stdout",
     "output_type": "stream",
     "text": [
      "\n",
      "+---+---+---+---+---+\n",
      "|   |   |   |   |   |\n",
      "+---+---+---+---+---+\n",
      "|   |   |   |   |   |\n",
      "+---+---+---+---+---+\n",
      "|   |   |   |   |   |\n",
      "+---+---+---+---+---+\n"
     ]
    }
   ],
   "source": [
    "def make_grid(rows, cols) -> str:\n",
    "    out = \"\"\n",
    "    for i in range(rows * 2 + 1):\n",
    "        if i % 2 == 0:\n",
    "            out += \"\\n+\"\n",
    "            for i in range(cols):\n",
    "                out += \"---+\"\n",
    "        else:\n",
    "            out += \"\\n|\"\n",
    "            for i in range(cols):\n",
    "                out += \"   |\"\n",
    "    return out\n",
    "\n",
    "\n",
    "print(make_grid(3, 5))"
   ],
   "metadata": {
    "collapsed": false
   }
  },
  {
   "cell_type": "markdown",
   "source": [
    "## ZADANIE 4.3\n",
    "Napisać iteracyjną wersję funkcji factorial(n) obliczającej silnię."
   ],
   "metadata": {
    "collapsed": false
   }
  },
  {
   "cell_type": "code",
   "execution_count": 3,
   "outputs": [
    {
     "data": {
      "text/plain": "120"
     },
     "execution_count": 3,
     "metadata": {},
     "output_type": "execute_result"
    }
   ],
   "source": [
    "def factorial(n) -> int:\n",
    "    if n <= 1:\n",
    "        return 1\n",
    "    return n * factorial(n - 1)\n",
    "\n",
    "\n",
    "factorial(5)"
   ],
   "metadata": {
    "collapsed": false
   }
  },
  {
   "cell_type": "markdown",
   "source": [
    "## ZADANIE 4.4\n",
    "Napisać iteracyjną wersję funkcji fibonacci(n) obliczającej n-ty wyraz ciągu Fibonacciego."
   ],
   "metadata": {
    "collapsed": false
   }
  },
  {
   "cell_type": "code",
   "execution_count": 4,
   "outputs": [
    {
     "data": {
      "text/plain": "8"
     },
     "execution_count": 4,
     "metadata": {},
     "output_type": "execute_result"
    }
   ],
   "source": [
    "def fibonacci(n) -> int:\n",
    "    if n == 0:\n",
    "        return 0\n",
    "    elif n == 1:\n",
    "        return 1\n",
    "    else:\n",
    "        return fibonacci(n - 1) + fibonacci(n - 2)\n",
    "\n",
    "\n",
    "fibonacci(6)"
   ],
   "metadata": {
    "collapsed": false
   }
  },
  {
   "cell_type": "markdown",
   "source": [
    "## ZADANIE 4.5\n",
    "Napisać funkcję odwracanie(L, left, right) odwracającą kolejność elementów na liście od numeru left do right włącznie. Lista jest modyfikowana w miejscu (in place). Rozważyć wersję iteracyjną i rekurencyjną."
   ],
   "metadata": {
    "collapsed": false
   }
  },
  {
   "cell_type": "code",
   "execution_count": 5,
   "outputs": [
    {
     "data": {
      "text/plain": "[0, 1, 2, 3, 8, 7, 6, 5, 4, 9, 10]"
     },
     "execution_count": 5,
     "metadata": {},
     "output_type": "execute_result"
    }
   ],
   "source": [
    "def odwracanie(l: list, left: int, right: int):\n",
    "    while right != left:\n",
    "        l[right], l[left] = l[left], l[right]\n",
    "        right -= 1\n",
    "        left += 1\n",
    "    return l\n",
    "\n",
    "\n",
    "odwracanie(\n",
    "    [i for i in range(11)], 4, 8\n",
    ")"
   ],
   "metadata": {
    "collapsed": false
   }
  },
  {
   "cell_type": "code",
   "execution_count": 6,
   "outputs": [
    {
     "data": {
      "text/plain": "[0, 1, 2, 3, 8, 7, 6, 5, 4, 9, 10]"
     },
     "execution_count": 6,
     "metadata": {},
     "output_type": "execute_result"
    }
   ],
   "source": [
    "def odwracanie(l: list, left: int, right: int):\n",
    "    if right != left:\n",
    "        l[right], l[left] = l[left], l[right]\n",
    "        l = odwracanie(l, left + 1, right - 1)\n",
    "    return l\n",
    "\n",
    "\n",
    "odwracanie(\n",
    "    [i for i in range(11)], 4, 8\n",
    ")"
   ],
   "metadata": {
    "collapsed": false
   }
  },
  {
   "cell_type": "markdown",
   "source": [
    "## ZADANIE 4.6\n",
    "Napisać funkcję sum_seq(sequence) obliczającą sumę liczb zawartych w sekwencji, która może zawierać zagnieżdżone podsekwencje. Wskazówka: rozważyć wersję rekurencyjną, a sprawdzanie, czy element jest sekwencją, wykonać przez isinstance(item, (list, tuple))."
   ],
   "metadata": {
    "collapsed": false
   }
  },
  {
   "cell_type": "code",
   "execution_count": 7,
   "outputs": [
    {
     "data": {
      "text/plain": "45"
     },
     "execution_count": 7,
     "metadata": {},
     "output_type": "execute_result"
    }
   ],
   "source": [
    "def sum_seq(sequence):\n",
    "    out = 0\n",
    "    for i in sequence:\n",
    "        if isinstance(i, (list, tuple)):\n",
    "            out += sum_seq(i)\n",
    "        else:\n",
    "            out += i\n",
    "    return out\n",
    "\n",
    "\n",
    "sum_seq(\n",
    "    [1, (2, 3), [], [4, (5, 6, 7)], 8, [9]]\n",
    ")"
   ],
   "metadata": {
    "collapsed": false
   }
  },
  {
   "cell_type": "markdown",
   "source": [
    "## ZADANIE 4.7\n",
    "Mamy daną sekwencję, w której niektóre z elementów mogą okazać się podsekwencjami, a takie zagnieżdżenia mogą się nakładać do nieograniczonej głębokości. Napisać funkcję flatten(sequence), która zwróci spłaszczoną listę wszystkich elementów sekwencji. Wskazówka: rozważyć wersję rekurencyjną, a sprawdzanie czy element jest sekwencją, wykonać przez isinstance(item, (list, tuple))."
   ],
   "metadata": {
    "collapsed": false
   }
  },
  {
   "cell_type": "code",
   "execution_count": 8,
   "outputs": [
    {
     "data": {
      "text/plain": "[1, 2, 3, 4, 5, 6, 7, 8, 9]"
     },
     "execution_count": 8,
     "metadata": {},
     "output_type": "execute_result"
    }
   ],
   "source": [
    "def flatten(sequence):\n",
    "    l = []\n",
    "    for i in sequence:\n",
    "        if isinstance(i, (list, tuple)):\n",
    "            l.extend(flatten(i))\n",
    "        else:\n",
    "            l.append(i)\n",
    "    return l\n",
    "\n",
    "\n",
    "seq = [1, (2, 3), [], [4, (5, 6, 7)], 8, [9]]\n",
    "flatten(seq)"
   ],
   "metadata": {
    "collapsed": false
   }
  }
 ],
 "metadata": {
  "kernelspec": {
   "display_name": "Python 3",
   "language": "python",
   "name": "python3"
  },
  "language_info": {
   "codemirror_mode": {
    "name": "ipython",
    "version": 2
   },
   "file_extension": ".py",
   "mimetype": "text/x-python",
   "name": "python",
   "nbconvert_exporter": "python",
   "pygments_lexer": "ipython2",
   "version": "2.7.6"
  }
 },
 "nbformat": 4,
 "nbformat_minor": 0
}
