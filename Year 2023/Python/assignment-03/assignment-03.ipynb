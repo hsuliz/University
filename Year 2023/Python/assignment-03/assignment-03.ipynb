{
 "cells": [
  {
   "cell_type": "markdown",
   "source": [
    "# Zestaw 3"
   ],
   "metadata": {
    "collapsed": false
   }
  },
  {
   "cell_type": "markdown",
   "source": [
    "## Zadanie 3.1\n",
    "Czy podany kod jest poprawny składniowo w Pythonie? Jeśli nie, to dlaczego?"
   ],
   "metadata": {
    "collapsed": false
   }
  },
  {
   "cell_type": "markdown",
   "source": [
    "```python\n",
    "x = 2; y = 3;\n",
    "if (x > y):\n",
    "    result = x;\n",
    "else:\n",
    "    result = y;\n",
    "result\n",
    "```\n",
    "> Składniowo tak, ale narusza PEP 8 przez średniki i nawiasy."
   ],
   "metadata": {
    "collapsed": false
   }
  },
  {
   "cell_type": "markdown",
   "source": [
    "```python\n",
    "for i in \"axby\": if ord(i) < 100: print (i)\n",
    "```\n",
    "> Składniowo nie, bo warunek if musi znajdować się w następnym wierszu."
   ],
   "metadata": {
    "collapsed": false
   }
  },
  {
   "cell_type": "markdown",
   "source": [
    "```python\n",
    "for i in \"axby\": print (ord(i) if ord(i) < 100 else i)\n",
    "```\n",
    "> Składniowo tak, kod nie ma problemów."
   ],
   "metadata": {
    "collapsed": false
   }
  },
  {
   "cell_type": "markdown",
   "source": [
    "## ZADANIE 3.2\n",
    "Co jest złego w kodzie:"
   ],
   "metadata": {
    "collapsed": false
   }
  },
  {
   "cell_type": "markdown",
   "source": [
    "```python\n",
    "L = [3, 5, 4] ; L = L.sort()\n",
    "```\n",
    "> Ewentualnie średnik."
   ],
   "metadata": {
    "collapsed": false
   }
  },
  {
   "cell_type": "markdown",
   "source": [
    "```python\n",
    "x, y = 1, 2, 3\n",
    "```\n",
    "> Brak 3 zmiennej."
   ],
   "metadata": {
    "collapsed": false
   }
  },
  {
   "cell_type": "markdown",
   "source": [
    "```python\n",
    "X = 1, 2, 3 ; X[1] = 4\n",
    "```\n",
    "> Wartości w tuple są niezmienne."
   ],
   "metadata": {
    "collapsed": false
   }
  },
  {
   "cell_type": "markdown",
   "source": [
    "```python\n",
    "X = [1, 2, 3] ; X[3] = 4\n",
    "```\n",
    "> Liczenie w tablice zaczyna się od 0, wieć 3 elementy nie istnieje."
   ],
   "metadata": {
    "collapsed": false
   }
  },
  {
   "cell_type": "markdown",
   "source": [
    "```python\n",
    "X = \"abc\" ; X.append(\"d\")\n",
    "```\n",
    "> X to str, a nie tablica."
   ],
   "metadata": {
    "collapsed": false
   }
  },
  {
   "cell_type": "markdown",
   "source": [
    "```python\n",
    "L = list(map(pow, range(8)))\n",
    "```\n",
    "> Brak argumentów dla pow()."
   ],
   "metadata": {
    "collapsed": false
   }
  },
  {
   "cell_type": "markdown",
   "source": [
    "## Zadanie 3.3\n",
    "Wypisać w pętli liczby od 0 do 30 z wyjątkiem liczb podzielnych przez 3."
   ],
   "metadata": {
    "collapsed": false
   }
  },
  {
   "cell_type": "code",
   "execution_count": 18,
   "outputs": [
    {
     "data": {
      "text/plain": "[1, 2, 4, 5, 7, 8, 10, 11, 13, 14, 16, 17, 19, 20, 22, 23, 25, 26, 28, 29]"
     },
     "execution_count": 18,
     "metadata": {},
     "output_type": "execute_result"
    }
   ],
   "source": [
    "out = []\n",
    "for x in range(31):\n",
    "    if x % 3 != 0:\n",
    "        out.append(x)\n",
    "out"
   ],
   "metadata": {
    "collapsed": false
   }
  },
  {
   "cell_type": "markdown",
   "source": [
    "## ZADANIE 3.4\n",
    "Napisać program pobierający w pętli od użytkownika liczbę rzeczywistą x (typ float) i wypisujący x oraz trzecią potęgę x. Zatrzymanie programu następuje po wpisaniu z klawiatury stop. Jeżeli użytkownik wpisze napis zamiast liczby, to program ma wypisać komunikat o błędzie i kontynuować pracę."
   ],
   "metadata": {
    "collapsed": false
   }
  },
  {
   "cell_type": "code",
   "execution_count": 20,
   "outputs": [
    {
     "name": "stdout",
     "output_type": "stream",
     "text": [
      "12.0, 1728.0\n",
      "Proszę wpisać liczbę zamiast napisu!\n",
      "12.0, 1728.0\n",
      "Proszę wpisać liczbę zamiast napisu!\n",
      "12.0, 1728.0\n",
      "Proszę wpisać liczbę zamiast napisu!\n",
      "12.0, 1728.0\n",
      "Proszę wpisać liczbę zamiast napisu!\n",
      "12.0, 1728.0\n",
      "Proszę wpisać liczbę zamiast napisu!\n"
     ]
    },
    {
     "ename": "ValueError",
     "evalue": "could not convert string to float: ''",
     "output_type": "error",
     "traceback": [
      "\u001B[0;31m---------------------------------------------------------------------------\u001B[0m",
      "\u001B[0;31mValueError\u001B[0m                                Traceback (most recent call last)",
      "Cell \u001B[0;32mIn [20], line 3\u001B[0m\n\u001B[1;32m      1\u001B[0m \u001B[38;5;28;01mwhile\u001B[39;00m \u001B[38;5;28;01mTrue\u001B[39;00m:\n\u001B[1;32m      2\u001B[0m     x \u001B[38;5;241m=\u001B[39m \u001B[38;5;28minput\u001B[39m(\u001B[38;5;124m\"\u001B[39m\u001B[38;5;124mEnter your number: \u001B[39m\u001B[38;5;124m\"\u001B[39m)\n\u001B[0;32m----> 3\u001B[0m     user_input \u001B[38;5;241m=\u001B[39m \u001B[38;5;28;43mfloat\u001B[39;49m\u001B[43m(\u001B[49m\u001B[43mx\u001B[49m\u001B[43m)\u001B[49m\n\u001B[1;32m      4\u001B[0m     \u001B[38;5;28mprint\u001B[39m(user_input, user_input\u001B[38;5;241m*\u001B[39m\u001B[38;5;241m*\u001B[39m\u001B[38;5;241m3\u001B[39m, sep\u001B[38;5;241m=\u001B[39m\u001B[38;5;124m\"\u001B[39m\u001B[38;5;124m, \u001B[39m\u001B[38;5;124m\"\u001B[39m)\n\u001B[1;32m      5\u001B[0m     \u001B[38;5;28;01mif\u001B[39;00m \u001B[38;5;28mtype\u001B[39m(x) \u001B[38;5;241m==\u001B[39m \u001B[38;5;28mstr\u001B[39m:\n",
      "\u001B[0;31mValueError\u001B[0m: could not convert string to float: ''"
     ]
    }
   ],
   "source": [
    "while True:\n",
    "    x = input(\"Enter your number: \")\n",
    "    user_input = float(x)\n",
    "    print(user_input, user_input ** 3, sep=\", \")\n",
    "    if type(x) == str:\n",
    "        if x == \"stop\": break\n",
    "        print(\"Proszę wpisać liczbę zamiast napisu!\")\n",
    "\n",
    "if type(x) != str:\n",
    "    print(x, \", \", pow(x, 3))"
   ],
   "metadata": {
    "collapsed": false
   }
  }
 ],
 "metadata": {
  "kernelspec": {
   "display_name": "Python 3",
   "language": "python",
   "name": "python3"
  },
  "language_info": {
   "codemirror_mode": {
    "name": "ipython",
    "version": 2
   },
   "file_extension": ".py",
   "mimetype": "text/x-python",
   "name": "python",
   "nbconvert_exporter": "python",
   "pygments_lexer": "ipython2",
   "version": "2.7.6"
  }
 },
 "nbformat": 4,
 "nbformat_minor": 0
}
