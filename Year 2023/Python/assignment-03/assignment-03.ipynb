{
 "cells": [
  {
   "cell_type": "markdown",
   "source": [
    "# Zestaw 3"
   ],
   "metadata": {
    "collapsed": false
   }
  },
  {
   "cell_type": "markdown",
   "source": [
    "## Zadanie 3.1\n",
    "Czy podany kod jest poprawny składniowo w Pythonie? Jeśli nie, to dlaczego?"
   ],
   "metadata": {
    "collapsed": false
   }
  },
  {
   "cell_type": "markdown",
   "source": [
    "```python\n",
    "x = 2; y = 3;\n",
    "if (x > y):\n",
    "    result = x;\n",
    "else:\n",
    "    result = y;\n",
    "result\n",
    "```\n",
    "> Składniowo tak, ale narusza PEP 8 przez średniki i nawiasy."
   ],
   "metadata": {
    "collapsed": false
   }
  },
  {
   "cell_type": "markdown",
   "source": [
    "```python\n",
    "for i in \"axby\": if ord(i) < 100: print (i)\n",
    "```\n",
    "> Składniowo nie, bo warunek if musi znajdować się w następnym wierszu."
   ],
   "metadata": {
    "collapsed": false
   }
  },
  {
   "cell_type": "markdown",
   "source": [
    "```python\n",
    "for i in \"axby\": print (ord(i) if ord(i) < 100 else i)\n",
    "```\n",
    "> Składniowo tak, kod nie ma problemów."
   ],
   "metadata": {
    "collapsed": false
   }
  },
  {
   "cell_type": "markdown",
   "source": [
    "## ZADANIE 3.2\n",
    "Co jest złego w kodzie:"
   ],
   "metadata": {
    "collapsed": false
   }
  },
  {
   "cell_type": "markdown",
   "source": [
    "```python\n",
    "L = [3, 5, 4] ; L = L.sort()\n",
    "```\n",
    "> Ewentualnie średnik."
   ],
   "metadata": {
    "collapsed": false
   }
  },
  {
   "cell_type": "markdown",
   "source": [
    "```python\n",
    "x, y = 1, 2, 3\n",
    "```\n",
    "> Brak 3 zmiennej."
   ],
   "metadata": {
    "collapsed": false
   }
  },
  {
   "cell_type": "markdown",
   "source": [
    "```python\n",
    "X = 1, 2, 3 ; X[1] = 4\n",
    "```\n",
    "> Wartości w tuple są niezmienne."
   ],
   "metadata": {
    "collapsed": false
   }
  },
  {
   "cell_type": "markdown",
   "source": [
    "```python\n",
    "X = [1, 2, 3] ; X[3] = 4\n",
    "```\n",
    "> Liczenie w tablice zaczyna się od 0, wieć 3 elementy nie istnieje."
   ],
   "metadata": {
    "collapsed": false
   }
  },
  {
   "cell_type": "markdown",
   "source": [
    "```python\n",
    "X = \"abc\" ; X.append(\"d\")\n",
    "```\n",
    "> X to str, a nie tablica."
   ],
   "metadata": {
    "collapsed": false
   }
  },
  {
   "cell_type": "markdown",
   "source": [
    "```python\n",
    "L = list(map(pow, range(8)))\n",
    "```\n",
    "> Brak argumentów dla pow()."
   ],
   "metadata": {
    "collapsed": false
   }
  },
  {
   "cell_type": "markdown",
   "source": [
    "## Zadanie 3.3\n",
    "Wypisać w pętli liczby od 0 do 30 z wyjątkiem liczb podzielnych przez 3."
   ],
   "metadata": {
    "collapsed": false
   }
  },
  {
   "cell_type": "code",
   "execution_count": null,
   "outputs": [],
   "source": [
    "out = []\n",
    "for x in range(31):\n",
    "    if x % 3 != 0:\n",
    "        out.append(x)\n",
    "out"
   ],
   "metadata": {
    "collapsed": false
   }
  },
  {
   "cell_type": "markdown",
   "source": [
    "## ZADANIE 3.4\n",
    "Napisać program pobierający w pętli od użytkownika liczbę rzeczywistą x (typ float) i wypisujący x oraz trzecią potęgę x. Zatrzymanie programu następuje po wpisaniu z klawiatury stop. Jeżeli użytkownik wpisze napis zamiast liczby, to program ma wypisać komunikat o błędzie i kontynuować pracę."
   ],
   "metadata": {
    "collapsed": false
   }
  },
  {
   "cell_type": "code",
   "execution_count": null,
   "outputs": [],
   "source": [
    "while 1:\n",
    "    try:\n",
    "        user_input = input(\"Please, enter the number: \")\n",
    "        user_input = float(user_input)\n",
    "        print(user_input, user_input ** 3)\n",
    "    except ValueError:\n",
    "        if user_input == \"stop\":\n",
    "            print(\"Bye!!\")\n",
    "            break\n",
    "        print(\"Error!! Type a number or stop!!\")"
   ],
   "metadata": {
    "collapsed": false
   }
  },
  {
   "cell_type": "markdown",
   "source": [
    "## Zadanie 3.5\n",
    "Napisać program rysujący \"miarkę\" o zadanej długości. Należy prawidłowo obsłużyć liczby składające się z kilku cyfr (ostatnia cyfra liczby ma znajdować się pod znakiem kreski pionowej). Należy zbudować pełny string, a potem go wypisać."
   ],
   "metadata": {
    "collapsed": false
   }
  },
  {
   "cell_type": "code",
   "execution_count": 60,
   "outputs": [
    {
     "name": "stdout",
     "output_type": "stream",
     "text": [
      "|....|....|....|....|....|....|....|....|....|....|....|....|\n",
      "0    1    2    3    4    5    6    7    8    9   10   11   12\n"
     ]
    }
   ],
   "source": [
    "length = 13\n",
    "up = \"|\" + \"\".join(\"....|\" for i in range(length - 1))\n",
    "down = \"\"\n",
    "for i in range(length):\n",
    "    if i == 0:\n",
    "        down += str(i)\n",
    "    elif i < 10:\n",
    "        down += \"    \" + str(i)\n",
    "    else:\n",
    "        down += \"   \" + str(i)\n",
    "print(up)\n",
    "print(down)"
   ],
   "metadata": {
    "collapsed": false
   }
  }
 ],
 "metadata": {
  "kernelspec": {
   "display_name": "Python 3",
   "language": "python",
   "name": "python3"
  },
  "language_info": {
   "codemirror_mode": {
    "name": "ipython",
    "version": 2
   },
   "file_extension": ".py",
   "mimetype": "text/x-python",
   "name": "python",
   "nbconvert_exporter": "python",
   "pygments_lexer": "ipython2",
   "version": "2.7.6"
  }
 },
 "nbformat": 4,
 "nbformat_minor": 0
}
